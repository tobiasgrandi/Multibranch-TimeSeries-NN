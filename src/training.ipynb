{
 "cells": [
  {
   "cell_type": "code",
   "execution_count": 1,
   "id": "ed16ba85",
   "metadata": {},
   "outputs": [],
   "source": [
    "from model.MultiBranchModel import MultiBranchModel\n",
    "from model.LSTMModel import LSTMModel\n",
    "from model.GRUModel import GRUModel \n",
    "from helpers.Trainer import Trainer\n",
    "from helpers.Tester import Tester\n",
    "from helpers.YoutubeDataset import YoutubeDataset\n",
    "from helpers.EarlyStopping import EarlyStopping\n",
    "from torch.utils.data import DataLoader\n",
    "import pandas as pd\n",
    "import matplotlib.pyplot as plt\n",
    "from sklearn.preprocessing import MinMaxScaler\n"
   ]
  },
  {
   "cell_type": "markdown",
   "id": "34759a46",
   "metadata": {},
   "source": [
    "# Load data"
   ]
  },
  {
   "cell_type": "code",
   "execution_count": 2,
   "id": "c9c0c624",
   "metadata": {},
   "outputs": [
    {
     "data": {
      "text/html": [
       "<div>\n",
       "<style scoped>\n",
       "    .dataframe tbody tr th:only-of-type {\n",
       "        vertical-align: middle;\n",
       "    }\n",
       "\n",
       "    .dataframe tbody tr th {\n",
       "        vertical-align: top;\n",
       "    }\n",
       "\n",
       "    .dataframe thead th {\n",
       "        text-align: right;\n",
       "    }\n",
       "</style>\n",
       "<table border=\"1\" class=\"dataframe\">\n",
       "  <thead>\n",
       "    <tr style=\"text-align: right;\">\n",
       "      <th></th>\n",
       "      <th>ytvideoid</th>\n",
       "      <th>views</th>\n",
       "      <th>comments</th>\n",
       "      <th>likes</th>\n",
       "      <th>dislikes</th>\n",
       "      <th>timestamp</th>\n",
       "    </tr>\n",
       "  </thead>\n",
       "  <tbody>\n",
       "    <tr>\n",
       "      <th>0</th>\n",
       "      <td>0</td>\n",
       "      <td>354013</td>\n",
       "      <td>2472</td>\n",
       "      <td>8037</td>\n",
       "      <td>1208</td>\n",
       "      <td>2019-04-15 11:30:00</td>\n",
       "    </tr>\n",
       "    <tr>\n",
       "      <th>1</th>\n",
       "      <td>0</td>\n",
       "      <td>355038</td>\n",
       "      <td>2486</td>\n",
       "      <td>8083</td>\n",
       "      <td>1220</td>\n",
       "      <td>2019-04-15 12:00:00</td>\n",
       "    </tr>\n",
       "    <tr>\n",
       "      <th>2</th>\n",
       "      <td>0</td>\n",
       "      <td>358091</td>\n",
       "      <td>2494</td>\n",
       "      <td>8154</td>\n",
       "      <td>1242</td>\n",
       "      <td>2019-04-15 12:30:00</td>\n",
       "    </tr>\n",
       "    <tr>\n",
       "      <th>3</th>\n",
       "      <td>0</td>\n",
       "      <td>361332</td>\n",
       "      <td>2516</td>\n",
       "      <td>8231</td>\n",
       "      <td>1265</td>\n",
       "      <td>2019-04-15 13:00:00</td>\n",
       "    </tr>\n",
       "    <tr>\n",
       "      <th>4</th>\n",
       "      <td>0</td>\n",
       "      <td>364443</td>\n",
       "      <td>2547</td>\n",
       "      <td>8304</td>\n",
       "      <td>1288</td>\n",
       "      <td>2019-04-15 13:30:00</td>\n",
       "    </tr>\n",
       "  </tbody>\n",
       "</table>\n",
       "</div>"
      ],
      "text/plain": [
       "   ytvideoid   views  comments  likes  dislikes            timestamp\n",
       "0          0  354013      2472   8037      1208  2019-04-15 11:30:00\n",
       "1          0  355038      2486   8083      1220  2019-04-15 12:00:00\n",
       "2          0  358091      2494   8154      1242  2019-04-15 12:30:00\n",
       "3          0  361332      2516   8231      1265  2019-04-15 13:00:00\n",
       "4          0  364443      2547   8304      1288  2019-04-15 13:30:00"
      ]
     },
     "execution_count": 2,
     "metadata": {},
     "output_type": "execute_result"
    }
   ],
   "source": [
    "train_data = pd.read_csv('data/train_data.csv')\n",
    "val_data = pd.read_csv('data/val_data.csv')\n",
    "test_data = pd.read_csv('data/test_data.csv')\n",
    "train_data.head()"
   ]
  },
  {
   "cell_type": "code",
   "execution_count": 3,
   "id": "4245174a",
   "metadata": {},
   "outputs": [
    {
     "data": {
      "text/html": [
       "<div>\n",
       "<style scoped>\n",
       "    .dataframe tbody tr th:only-of-type {\n",
       "        vertical-align: middle;\n",
       "    }\n",
       "\n",
       "    .dataframe tbody tr th {\n",
       "        vertical-align: top;\n",
       "    }\n",
       "\n",
       "    .dataframe thead th {\n",
       "        text-align: right;\n",
       "    }\n",
       "</style>\n",
       "<table border=\"1\" class=\"dataframe\">\n",
       "  <thead>\n",
       "    <tr style=\"text-align: right;\">\n",
       "      <th></th>\n",
       "      <th>ytvideoid</th>\n",
       "      <th>views</th>\n",
       "      <th>comments</th>\n",
       "      <th>likes</th>\n",
       "      <th>dislikes</th>\n",
       "      <th>timestamp</th>\n",
       "    </tr>\n",
       "  </thead>\n",
       "  <tbody>\n",
       "    <tr>\n",
       "      <th>0</th>\n",
       "      <td>0</td>\n",
       "      <td>0.076422</td>\n",
       "      <td>0.128276</td>\n",
       "      <td>0.035702</td>\n",
       "      <td>0.210508</td>\n",
       "      <td>2019-04-15 11:30:00</td>\n",
       "    </tr>\n",
       "    <tr>\n",
       "      <th>1</th>\n",
       "      <td>0</td>\n",
       "      <td>0.076646</td>\n",
       "      <td>0.129002</td>\n",
       "      <td>0.035909</td>\n",
       "      <td>0.212609</td>\n",
       "      <td>2019-04-15 12:00:00</td>\n",
       "    </tr>\n",
       "    <tr>\n",
       "      <th>2</th>\n",
       "      <td>0</td>\n",
       "      <td>0.077312</td>\n",
       "      <td>0.129417</td>\n",
       "      <td>0.036228</td>\n",
       "      <td>0.216462</td>\n",
       "      <td>2019-04-15 12:30:00</td>\n",
       "    </tr>\n",
       "    <tr>\n",
       "      <th>3</th>\n",
       "      <td>0</td>\n",
       "      <td>0.078020</td>\n",
       "      <td>0.130559</td>\n",
       "      <td>0.036575</td>\n",
       "      <td>0.220490</td>\n",
       "      <td>2019-04-15 13:00:00</td>\n",
       "    </tr>\n",
       "    <tr>\n",
       "      <th>4</th>\n",
       "      <td>0</td>\n",
       "      <td>0.078699</td>\n",
       "      <td>0.132168</td>\n",
       "      <td>0.036903</td>\n",
       "      <td>0.224518</td>\n",
       "      <td>2019-04-15 13:30:00</td>\n",
       "    </tr>\n",
       "  </tbody>\n",
       "</table>\n",
       "</div>"
      ],
      "text/plain": [
       "   ytvideoid     views  comments     likes  dislikes            timestamp\n",
       "0          0  0.076422  0.128276  0.035702  0.210508  2019-04-15 11:30:00\n",
       "1          0  0.076646  0.129002  0.035909  0.212609  2019-04-15 12:00:00\n",
       "2          0  0.077312  0.129417  0.036228  0.216462  2019-04-15 12:30:00\n",
       "3          0  0.078020  0.130559  0.036575  0.220490  2019-04-15 13:00:00\n",
       "4          0  0.078699  0.132168  0.036903  0.224518  2019-04-15 13:30:00"
      ]
     },
     "execution_count": 3,
     "metadata": {},
     "output_type": "execute_result"
    }
   ],
   "source": [
    "feature_cols = ['views', 'comments', 'likes', 'dislikes'] \n",
    "\n",
    "scaler = MinMaxScaler()\n",
    "\n",
    "scaler.fit(train_data[feature_cols])\n",
    "\n",
    "train_scaled = train_data.copy()\n",
    "train_scaled[feature_cols] = scaler.transform(train_data[feature_cols])\n",
    "\n",
    "val_scaled = val_data.copy()\n",
    "val_scaled[feature_cols] = scaler.transform(val_data[feature_cols])\n",
    "\n",
    "test_scaled = test_data.copy()\n",
    "test_scaled[feature_cols] = scaler.transform(test_data[feature_cols])\n",
    "\n",
    "train_scaled.head()"
   ]
  },
  {
   "cell_type": "code",
   "execution_count": 4,
   "id": "c8d08924",
   "metadata": {},
   "outputs": [],
   "source": [
    "def create_loaders(datasets_scaled: dict[str, pd.DataFrame], \n",
    "                    feature_cols: list[str], \n",
    "                    target: str, \n",
    "                    seq_len: int, \n",
    "                    forecast_horizon: int,\n",
    "                    batch_size: int) -> dict[str, DataLoader]:\n",
    "    \n",
    "    res: dict[str, DataLoader] = {}\n",
    "\n",
    "    for dataset_name, dataset in datasets_scaled.items():\n",
    "        yt_dataset: YoutubeDataset = YoutubeDataset(\n",
    "            df=dataset,\n",
    "            features=feature_cols,\n",
    "            target=target,\n",
    "            seq_len=seq_len,\n",
    "            forecast_horizon=forecast_horizon\n",
    "        )\n",
    "\n",
    "        dataloader: DataLoader = DataLoader(\n",
    "                            yt_dataset,\n",
    "                            batch_size=batch_size,\n",
    "                            shuffle= True if dataset_name=='train' else False,\n",
    "                            drop_last=True,\n",
    "                            num_workers=6\n",
    "                        )\n",
    "        res[dataset_name] = dataloader\n",
    "        print(yt_dataset.sequences.shape, yt_dataset.targets.shape)\n",
    "    return res"
   ]
  },
  {
   "cell_type": "code",
   "execution_count": 5,
   "id": "d6d67174",
   "metadata": {},
   "outputs": [
    {
     "name": "stdout",
     "output_type": "stream",
     "text": [
      "torch.Size([697783, 20, 3]) torch.Size([697783, 6])\n",
      "torch.Size([141546, 20, 3]) torch.Size([141546, 6])\n",
      "torch.Size([93889, 20, 3]) torch.Size([93889, 6])\n"
     ]
    }
   ],
   "source": [
    "seq_len = 20\n",
    "forecast_horizon = 6\n",
    "batch_size = 128\n",
    "feature_cols = ['comments', 'likes', 'dislikes'] \n",
    "\n",
    "datasets_scaled: dict[str, pd.DataFrame] = {'train': train_scaled,\n",
    "                                     'val': val_scaled,\n",
    "                                     'test': test_scaled}\n",
    "\n",
    "loaders = create_loaders(datasets_scaled=datasets_scaled,\n",
    "                                                        feature_cols=feature_cols,\n",
    "                                                        target='views',\n",
    "                                                        seq_len=seq_len,\n",
    "                                                        forecast_horizon=forecast_horizon,\n",
    "                                                        batch_size=batch_size)\n",
    "train_loader = loaders['train']\n",
    "val_loader = loaders['val']\n",
    "test_loader = loaders['test']"
   ]
  },
  {
   "cell_type": "markdown",
   "id": "53dc0971",
   "metadata": {},
   "source": [
    "# Train"
   ]
  },
  {
   "cell_type": "code",
   "execution_count": 6,
   "id": "8819060e",
   "metadata": {},
   "outputs": [],
   "source": [
    "import torch.optim as optim\n",
    "import torch.nn as nn\n",
    "import torch\n",
    "\n",
    "def train(model: nn.Module, train_loader: DataLoader, val_loader: DataLoader, model_file_path: str) -> tuple[list[float], list[float]]:\n",
    "\n",
    "    epochs = 5000\n",
    "    optimizer = optim.Adam(model.parameters(), lr=0.00001, weight_decay=0.0001) \n",
    "    loss_fn = nn.MSELoss()\n",
    "    device = torch.device(\"cuda\" if torch.cuda.is_available() else \"cpu\")\n",
    "    print(f'DEVICE: {device.type}')\n",
    "\n",
    "    early_stopping = EarlyStopping(patience = 30,\n",
    "                                min_delta = 0.001,\n",
    "                                verbose = True,\n",
    "                                path = model_file_path)\n",
    "\n",
    "    trainer = Trainer(\n",
    "        model=model,\n",
    "        optimizer=optimizer,\n",
    "        loss_fn=loss_fn, \n",
    "        device=device,\n",
    "        early_stopping=early_stopping\n",
    "    )\n",
    "\n",
    "    train_loss, val_loss = trainer.fit(train_loader=train_loader, val_loader=val_loader, epochs=epochs)\n",
    "\n",
    "    return train_loss, val_loss"
   ]
  },
  {
   "cell_type": "code",
   "execution_count": 16,
   "id": "918caea0",
   "metadata": {},
   "outputs": [],
   "source": [
    "SIZE_MB_LSTM = 50\n",
    "N_LAYERS_MB_LSTM = 1\n",
    "DROPOUT_MB_LSTM = 0\n",
    "\n",
    "SIZE_MB_GRU = 50\n",
    "N_LAYERS_MB_GRU = 1\n",
    "DROPOUT_MB_GRU = 0\n",
    "\n",
    "SIZE_LSTM = 100\n",
    "N_LAYERS_LSTM = 1\n",
    "DROPOUT_LSTM = 0\n",
    "\n",
    "SIZE_GRU = 100\n",
    "N_LAYERS_GRU = 1\n",
    "DROPOUT_GRU = 0"
   ]
  },
  {
   "cell_type": "code",
   "execution_count": 17,
   "id": "2570b7a9",
   "metadata": {},
   "outputs": [
    {
     "name": "stdout",
     "output_type": "stream",
     "text": [
      "DEVICE: cpu\n",
      "Starting training.\n"
     ]
    },
    {
     "name": "stderr",
     "output_type": "stream",
     "text": [
      "                                   \r"
     ]
    },
    {
     "name": "stdout",
     "output_type": "stream",
     "text": [
      "Epoch [1/5000] | Training Loss: 0.0283 | Validation Loss: 0.0166\n",
      "Validation loss improved to 0.0166\n"
     ]
    },
    {
     "name": "stderr",
     "output_type": "stream",
     "text": [
      "                                   \r"
     ]
    },
    {
     "name": "stdout",
     "output_type": "stream",
     "text": [
      "Epoch [2/5000] | Training Loss: 0.0149 | Validation Loss: 0.0159\n",
      "No improvement in validation loss [1/30]\n"
     ]
    },
    {
     "name": "stderr",
     "output_type": "stream",
     "text": [
      "                                   \r"
     ]
    },
    {
     "name": "stdout",
     "output_type": "stream",
     "text": [
      "Epoch [3/5000] | Training Loss: 0.0147 | Validation Loss: 0.0158\n"
     ]
    },
    {
     "name": "stderr",
     "output_type": "stream",
     "text": [
      "                                   \r"
     ]
    },
    {
     "name": "stdout",
     "output_type": "stream",
     "text": [
      "Epoch [4/5000] | Training Loss: 0.0146 | Validation Loss: 0.0158\n"
     ]
    },
    {
     "name": "stderr",
     "output_type": "stream",
     "text": [
      "                                   \r"
     ]
    },
    {
     "name": "stdout",
     "output_type": "stream",
     "text": [
      "Epoch [5/5000] | Training Loss: 0.0145 | Validation Loss: 0.0157\n"
     ]
    },
    {
     "name": "stderr",
     "output_type": "stream",
     "text": [
      "                                   \r"
     ]
    },
    {
     "name": "stdout",
     "output_type": "stream",
     "text": [
      "Epoch [6/5000] | Training Loss: 0.0145 | Validation Loss: 0.0156\n",
      "No improvement in validation loss [5/30]\n"
     ]
    },
    {
     "name": "stderr",
     "output_type": "stream",
     "text": [
      "                                   \r"
     ]
    },
    {
     "name": "stdout",
     "output_type": "stream",
     "text": [
      "Epoch [7/5000] | Training Loss: 0.0144 | Validation Loss: 0.0155\n",
      "Validation loss improved to 0.0155\n"
     ]
    },
    {
     "name": "stderr",
     "output_type": "stream",
     "text": [
      "                                   \r"
     ]
    },
    {
     "name": "stdout",
     "output_type": "stream",
     "text": [
      "Epoch [8/5000] | Training Loss: 0.0142 | Validation Loss: 0.0153\n",
      "No improvement in validation loss [1/30]\n"
     ]
    },
    {
     "name": "stderr",
     "output_type": "stream",
     "text": [
      "                                   \r"
     ]
    },
    {
     "name": "stdout",
     "output_type": "stream",
     "text": [
      "Epoch [9/5000] | Training Loss: 0.0140 | Validation Loss: 0.0152\n"
     ]
    },
    {
     "name": "stderr",
     "output_type": "stream",
     "text": [
      "                                   \r"
     ]
    },
    {
     "name": "stdout",
     "output_type": "stream",
     "text": [
      "Epoch [10/5000] | Training Loss: 0.0138 | Validation Loss: 0.0151\n"
     ]
    },
    {
     "name": "stderr",
     "output_type": "stream",
     "text": [
      "                                   \r"
     ]
    },
    {
     "name": "stdout",
     "output_type": "stream",
     "text": [
      "Epoch [11/5000] | Training Loss: 0.0138 | Validation Loss: 0.0151\n"
     ]
    },
    {
     "name": "stderr",
     "output_type": "stream",
     "text": [
      "                                   \r"
     ]
    },
    {
     "name": "stdout",
     "output_type": "stream",
     "text": [
      "Epoch [12/5000] | Training Loss: 0.0138 | Validation Loss: 0.0150\n",
      "No improvement in validation loss [5/30]\n"
     ]
    },
    {
     "name": "stderr",
     "output_type": "stream",
     "text": [
      "                                   \r"
     ]
    },
    {
     "name": "stdout",
     "output_type": "stream",
     "text": [
      "Epoch [13/5000] | Training Loss: 0.0137 | Validation Loss: 0.0150\n"
     ]
    },
    {
     "name": "stderr",
     "output_type": "stream",
     "text": [
      "                                   \r"
     ]
    },
    {
     "name": "stdout",
     "output_type": "stream",
     "text": [
      "Epoch [14/5000] | Training Loss: 0.0137 | Validation Loss: 0.0150\n"
     ]
    },
    {
     "name": "stderr",
     "output_type": "stream",
     "text": [
      "                                   \r"
     ]
    },
    {
     "name": "stdout",
     "output_type": "stream",
     "text": [
      "Epoch [15/5000] | Training Loss: 0.0137 | Validation Loss: 0.0150\n"
     ]
    },
    {
     "name": "stderr",
     "output_type": "stream",
     "text": [
      "                                   \r"
     ]
    },
    {
     "name": "stdout",
     "output_type": "stream",
     "text": [
      "Epoch [16/5000] | Training Loss: 0.0137 | Validation Loss: 0.0150\n"
     ]
    },
    {
     "name": "stderr",
     "output_type": "stream",
     "text": [
      "                                   \r"
     ]
    },
    {
     "name": "stdout",
     "output_type": "stream",
     "text": [
      "Epoch [17/5000] | Training Loss: 0.0137 | Validation Loss: 0.0150\n",
      "No improvement in validation loss [10/30]\n"
     ]
    },
    {
     "name": "stderr",
     "output_type": "stream",
     "text": [
      "                                   \r"
     ]
    },
    {
     "name": "stdout",
     "output_type": "stream",
     "text": [
      "Epoch [18/5000] | Training Loss: 0.0137 | Validation Loss: 0.0150\n"
     ]
    },
    {
     "name": "stderr",
     "output_type": "stream",
     "text": [
      "                                   \r"
     ]
    },
    {
     "name": "stdout",
     "output_type": "stream",
     "text": [
      "Epoch [19/5000] | Training Loss: 0.0136 | Validation Loss: 0.0150\n"
     ]
    },
    {
     "name": "stderr",
     "output_type": "stream",
     "text": [
      "                                   \r"
     ]
    },
    {
     "name": "stdout",
     "output_type": "stream",
     "text": [
      "Epoch [20/5000] | Training Loss: 0.0136 | Validation Loss: 0.0150\n"
     ]
    },
    {
     "name": "stderr",
     "output_type": "stream",
     "text": [
      "                                   \r"
     ]
    },
    {
     "name": "stdout",
     "output_type": "stream",
     "text": [
      "Epoch [21/5000] | Training Loss: 0.0136 | Validation Loss: 0.0150\n"
     ]
    },
    {
     "name": "stderr",
     "output_type": "stream",
     "text": [
      "                                   \r"
     ]
    },
    {
     "name": "stdout",
     "output_type": "stream",
     "text": [
      "Epoch [22/5000] | Training Loss: 0.0136 | Validation Loss: 0.0150\n",
      "No improvement in validation loss [15/30]\n"
     ]
    },
    {
     "name": "stderr",
     "output_type": "stream",
     "text": [
      "                                   \r"
     ]
    },
    {
     "name": "stdout",
     "output_type": "stream",
     "text": [
      "Epoch [23/5000] | Training Loss: 0.0136 | Validation Loss: 0.0150\n"
     ]
    },
    {
     "name": "stderr",
     "output_type": "stream",
     "text": [
      "                                   \r"
     ]
    },
    {
     "name": "stdout",
     "output_type": "stream",
     "text": [
      "Epoch [24/5000] | Training Loss: 0.0136 | Validation Loss: 0.0150\n"
     ]
    },
    {
     "name": "stderr",
     "output_type": "stream",
     "text": [
      "                                   \r"
     ]
    },
    {
     "name": "stdout",
     "output_type": "stream",
     "text": [
      "Epoch [25/5000] | Training Loss: 0.0136 | Validation Loss: 0.0150\n"
     ]
    },
    {
     "name": "stderr",
     "output_type": "stream",
     "text": [
      "                                   \r"
     ]
    },
    {
     "name": "stdout",
     "output_type": "stream",
     "text": [
      "Epoch [26/5000] | Training Loss: 0.0136 | Validation Loss: 0.0150\n"
     ]
    },
    {
     "name": "stderr",
     "output_type": "stream",
     "text": [
      "                                   \r"
     ]
    },
    {
     "name": "stdout",
     "output_type": "stream",
     "text": [
      "Epoch [27/5000] | Training Loss: 0.0136 | Validation Loss: 0.0150\n",
      "No improvement in validation loss [20/30]\n"
     ]
    },
    {
     "name": "stderr",
     "output_type": "stream",
     "text": [
      "                                   \r"
     ]
    },
    {
     "name": "stdout",
     "output_type": "stream",
     "text": [
      "Epoch [28/5000] | Training Loss: 0.0136 | Validation Loss: 0.0150\n"
     ]
    },
    {
     "name": "stderr",
     "output_type": "stream",
     "text": [
      "                                   \r"
     ]
    },
    {
     "name": "stdout",
     "output_type": "stream",
     "text": [
      "Epoch [29/5000] | Training Loss: 0.0136 | Validation Loss: 0.0150\n"
     ]
    },
    {
     "name": "stderr",
     "output_type": "stream",
     "text": [
      "                                   \r"
     ]
    },
    {
     "name": "stdout",
     "output_type": "stream",
     "text": [
      "Epoch [30/5000] | Training Loss: 0.0136 | Validation Loss: 0.0150\n"
     ]
    },
    {
     "name": "stderr",
     "output_type": "stream",
     "text": [
      "                                   \r"
     ]
    },
    {
     "name": "stdout",
     "output_type": "stream",
     "text": [
      "Epoch [31/5000] | Training Loss: 0.0136 | Validation Loss: 0.0150\n"
     ]
    },
    {
     "name": "stderr",
     "output_type": "stream",
     "text": [
      "                                   \r"
     ]
    },
    {
     "name": "stdout",
     "output_type": "stream",
     "text": [
      "Epoch [32/5000] | Training Loss: 0.0136 | Validation Loss: 0.0150\n",
      "No improvement in validation loss [25/30]\n"
     ]
    },
    {
     "name": "stderr",
     "output_type": "stream",
     "text": [
      "                                   \r"
     ]
    },
    {
     "name": "stdout",
     "output_type": "stream",
     "text": [
      "Epoch [33/5000] | Training Loss: 0.0136 | Validation Loss: 0.0150\n"
     ]
    },
    {
     "name": "stderr",
     "output_type": "stream",
     "text": [
      "                                   \r"
     ]
    },
    {
     "name": "stdout",
     "output_type": "stream",
     "text": [
      "Epoch [34/5000] | Training Loss: 0.0136 | Validation Loss: 0.0150\n"
     ]
    },
    {
     "name": "stderr",
     "output_type": "stream",
     "text": [
      "                                   \r"
     ]
    },
    {
     "name": "stdout",
     "output_type": "stream",
     "text": [
      "Epoch [35/5000] | Training Loss: 0.0136 | Validation Loss: 0.0150\n"
     ]
    },
    {
     "name": "stderr",
     "output_type": "stream",
     "text": [
      "                                   \r"
     ]
    },
    {
     "name": "stdout",
     "output_type": "stream",
     "text": [
      "Epoch [36/5000] | Training Loss: 0.0136 | Validation Loss: 0.0150\n"
     ]
    },
    {
     "name": "stderr",
     "output_type": "stream",
     "text": [
      "                                   \r"
     ]
    },
    {
     "name": "stdout",
     "output_type": "stream",
     "text": [
      "Epoch [37/5000] | Training Loss: 0.0136 | Validation Loss: 0.0150\n",
      "No improvement in validation loss [30/30]\n",
      "Early stopping triggered.\n"
     ]
    }
   ],
   "source": [
    "multibranch_model = MultiBranchModel(\n",
    "    input_size=len(feature_cols),\n",
    "    hidden_size={'lstm': SIZE_MB_LSTM, 'gru': SIZE_MB_GRU},\n",
    "    num_layers={'lstm': N_LAYERS_MB_LSTM, 'gru': N_LAYERS_MB_GRU},\n",
    "    dropout={'lstm': DROPOUT_MB_LSTM, 'gru': DROPOUT_MB_GRU},\n",
    "    output_size=forecast_horizon\n",
    ")\n",
    "multibranch_train_loss, multibranch_val_loss = train(model=multibranch_model, \n",
    "                                                     train_loader=train_loader, \n",
    "                                                     val_loader=val_loader,\n",
    "                                                     model_file_path='models/multibranch_model.pt')"
   ]
  },
  {
   "cell_type": "code",
   "execution_count": 18,
   "id": "198c25a6",
   "metadata": {},
   "outputs": [
    {
     "name": "stdout",
     "output_type": "stream",
     "text": [
      "DEVICE: cpu\n",
      "Starting training.\n"
     ]
    },
    {
     "name": "stderr",
     "output_type": "stream",
     "text": [
      "                                   \r"
     ]
    },
    {
     "name": "stdout",
     "output_type": "stream",
     "text": [
      "Epoch [1/5000] | Training Loss: 0.0260 | Validation Loss: 0.0163\n",
      "Validation loss improved to 0.0163\n"
     ]
    },
    {
     "name": "stderr",
     "output_type": "stream",
     "text": [
      "                                   \r"
     ]
    },
    {
     "name": "stdout",
     "output_type": "stream",
     "text": [
      "Epoch [2/5000] | Training Loss: 0.0148 | Validation Loss: 0.0160\n",
      "No improvement in validation loss [1/30]\n"
     ]
    },
    {
     "name": "stderr",
     "output_type": "stream",
     "text": [
      "                                   \r"
     ]
    },
    {
     "name": "stdout",
     "output_type": "stream",
     "text": [
      "Epoch [3/5000] | Training Loss: 0.0147 | Validation Loss: 0.0159\n"
     ]
    },
    {
     "name": "stderr",
     "output_type": "stream",
     "text": [
      "                                   \r"
     ]
    },
    {
     "name": "stdout",
     "output_type": "stream",
     "text": [
      "Epoch [4/5000] | Training Loss: 0.0147 | Validation Loss: 0.0158\n"
     ]
    },
    {
     "name": "stderr",
     "output_type": "stream",
     "text": [
      "                                   \r"
     ]
    },
    {
     "name": "stdout",
     "output_type": "stream",
     "text": [
      "Epoch [5/5000] | Training Loss: 0.0146 | Validation Loss: 0.0158\n"
     ]
    },
    {
     "name": "stderr",
     "output_type": "stream",
     "text": [
      "                                   \r"
     ]
    },
    {
     "name": "stdout",
     "output_type": "stream",
     "text": [
      "Epoch [6/5000] | Training Loss: 0.0146 | Validation Loss: 0.0157\n",
      "No improvement in validation loss [5/30]\n"
     ]
    },
    {
     "name": "stderr",
     "output_type": "stream",
     "text": [
      "                                   \r"
     ]
    },
    {
     "name": "stdout",
     "output_type": "stream",
     "text": [
      "Epoch [7/5000] | Training Loss: 0.0145 | Validation Loss: 0.0157\n"
     ]
    },
    {
     "name": "stderr",
     "output_type": "stream",
     "text": [
      "                                   \r"
     ]
    },
    {
     "name": "stdout",
     "output_type": "stream",
     "text": [
      "Epoch [8/5000] | Training Loss: 0.0145 | Validation Loss: 0.0156\n"
     ]
    },
    {
     "name": "stderr",
     "output_type": "stream",
     "text": [
      "                                   \r"
     ]
    },
    {
     "name": "stdout",
     "output_type": "stream",
     "text": [
      "Epoch [9/5000] | Training Loss: 0.0145 | Validation Loss: 0.0156\n"
     ]
    },
    {
     "name": "stderr",
     "output_type": "stream",
     "text": [
      "                                   \r"
     ]
    },
    {
     "name": "stdout",
     "output_type": "stream",
     "text": [
      "Epoch [10/5000] | Training Loss: 0.0144 | Validation Loss: 0.0156\n"
     ]
    },
    {
     "name": "stderr",
     "output_type": "stream",
     "text": [
      "                                   \r"
     ]
    },
    {
     "name": "stdout",
     "output_type": "stream",
     "text": [
      "Epoch [11/5000] | Training Loss: 0.0144 | Validation Loss: 0.0155\n",
      "No improvement in validation loss [10/30]\n"
     ]
    },
    {
     "name": "stderr",
     "output_type": "stream",
     "text": [
      "                                   \r"
     ]
    },
    {
     "name": "stdout",
     "output_type": "stream",
     "text": [
      "Epoch [12/5000] | Training Loss: 0.0143 | Validation Loss: 0.0154\n"
     ]
    },
    {
     "name": "stderr",
     "output_type": "stream",
     "text": [
      "                                   \r"
     ]
    },
    {
     "name": "stdout",
     "output_type": "stream",
     "text": [
      "Epoch [13/5000] | Training Loss: 0.0142 | Validation Loss: 0.0153\n",
      "Validation loss improved to 0.0153\n"
     ]
    },
    {
     "name": "stderr",
     "output_type": "stream",
     "text": [
      "                                   \r"
     ]
    },
    {
     "name": "stdout",
     "output_type": "stream",
     "text": [
      "Epoch [14/5000] | Training Loss: 0.0140 | Validation Loss: 0.0151\n",
      "No improvement in validation loss [1/30]\n"
     ]
    },
    {
     "name": "stderr",
     "output_type": "stream",
     "text": [
      "                                   \r"
     ]
    },
    {
     "name": "stdout",
     "output_type": "stream",
     "text": [
      "Epoch [15/5000] | Training Loss: 0.0139 | Validation Loss: 0.0150\n"
     ]
    },
    {
     "name": "stderr",
     "output_type": "stream",
     "text": [
      "                                   \r"
     ]
    },
    {
     "name": "stdout",
     "output_type": "stream",
     "text": [
      "Epoch [16/5000] | Training Loss: 0.0138 | Validation Loss: 0.0150\n"
     ]
    },
    {
     "name": "stderr",
     "output_type": "stream",
     "text": [
      "                                   \r"
     ]
    },
    {
     "name": "stdout",
     "output_type": "stream",
     "text": [
      "Epoch [17/5000] | Training Loss: 0.0137 | Validation Loss: 0.0150\n"
     ]
    },
    {
     "name": "stderr",
     "output_type": "stream",
     "text": [
      "                                   \r"
     ]
    },
    {
     "name": "stdout",
     "output_type": "stream",
     "text": [
      "Epoch [18/5000] | Training Loss: 0.0137 | Validation Loss: 0.0150\n",
      "No improvement in validation loss [5/30]\n"
     ]
    },
    {
     "name": "stderr",
     "output_type": "stream",
     "text": [
      "                                   \r"
     ]
    },
    {
     "name": "stdout",
     "output_type": "stream",
     "text": [
      "Epoch [19/5000] | Training Loss: 0.0136 | Validation Loss: 0.0151\n"
     ]
    },
    {
     "name": "stderr",
     "output_type": "stream",
     "text": [
      "                                   \r"
     ]
    },
    {
     "name": "stdout",
     "output_type": "stream",
     "text": [
      "Epoch [20/5000] | Training Loss: 0.0136 | Validation Loss: 0.0150\n"
     ]
    },
    {
     "name": "stderr",
     "output_type": "stream",
     "text": [
      "                                   \r"
     ]
    },
    {
     "name": "stdout",
     "output_type": "stream",
     "text": [
      "Epoch [21/5000] | Training Loss: 0.0136 | Validation Loss: 0.0150\n"
     ]
    },
    {
     "name": "stderr",
     "output_type": "stream",
     "text": [
      "                                   \r"
     ]
    },
    {
     "name": "stdout",
     "output_type": "stream",
     "text": [
      "Epoch [22/5000] | Training Loss: 0.0136 | Validation Loss: 0.0150\n"
     ]
    },
    {
     "name": "stderr",
     "output_type": "stream",
     "text": [
      "                                   \r"
     ]
    },
    {
     "name": "stdout",
     "output_type": "stream",
     "text": [
      "Epoch [23/5000] | Training Loss: 0.0136 | Validation Loss: 0.0150\n",
      "No improvement in validation loss [10/30]\n"
     ]
    },
    {
     "name": "stderr",
     "output_type": "stream",
     "text": [
      "                                   \r"
     ]
    },
    {
     "name": "stdout",
     "output_type": "stream",
     "text": [
      "Epoch [24/5000] | Training Loss: 0.0136 | Validation Loss: 0.0150\n"
     ]
    },
    {
     "name": "stderr",
     "output_type": "stream",
     "text": [
      "                                   \r"
     ]
    },
    {
     "name": "stdout",
     "output_type": "stream",
     "text": [
      "Epoch [25/5000] | Training Loss: 0.0136 | Validation Loss: 0.0150\n"
     ]
    },
    {
     "name": "stderr",
     "output_type": "stream",
     "text": [
      "                                   \r"
     ]
    },
    {
     "name": "stdout",
     "output_type": "stream",
     "text": [
      "Epoch [26/5000] | Training Loss: 0.0136 | Validation Loss: 0.0150\n"
     ]
    },
    {
     "name": "stderr",
     "output_type": "stream",
     "text": [
      "                                   \r"
     ]
    },
    {
     "name": "stdout",
     "output_type": "stream",
     "text": [
      "Epoch [27/5000] | Training Loss: 0.0136 | Validation Loss: 0.0151\n"
     ]
    },
    {
     "name": "stderr",
     "output_type": "stream",
     "text": [
      "                                   \r"
     ]
    },
    {
     "name": "stdout",
     "output_type": "stream",
     "text": [
      "Epoch [28/5000] | Training Loss: 0.0136 | Validation Loss: 0.0150\n",
      "No improvement in validation loss [15/30]\n"
     ]
    },
    {
     "name": "stderr",
     "output_type": "stream",
     "text": [
      "                                   \r"
     ]
    },
    {
     "name": "stdout",
     "output_type": "stream",
     "text": [
      "Epoch [29/5000] | Training Loss: 0.0136 | Validation Loss: 0.0150\n"
     ]
    },
    {
     "name": "stderr",
     "output_type": "stream",
     "text": [
      "                                   \r"
     ]
    },
    {
     "name": "stdout",
     "output_type": "stream",
     "text": [
      "Epoch [30/5000] | Training Loss: 0.0136 | Validation Loss: 0.0150\n"
     ]
    },
    {
     "name": "stderr",
     "output_type": "stream",
     "text": [
      "                                   \r"
     ]
    },
    {
     "name": "stdout",
     "output_type": "stream",
     "text": [
      "Epoch [31/5000] | Training Loss: 0.0136 | Validation Loss: 0.0150\n"
     ]
    },
    {
     "name": "stderr",
     "output_type": "stream",
     "text": [
      "                                   \r"
     ]
    },
    {
     "name": "stdout",
     "output_type": "stream",
     "text": [
      "Epoch [32/5000] | Training Loss: 0.0135 | Validation Loss: 0.0150\n"
     ]
    },
    {
     "name": "stderr",
     "output_type": "stream",
     "text": [
      "                                   \r"
     ]
    },
    {
     "name": "stdout",
     "output_type": "stream",
     "text": [
      "Epoch [33/5000] | Training Loss: 0.0135 | Validation Loss: 0.0150\n",
      "No improvement in validation loss [20/30]\n"
     ]
    },
    {
     "name": "stderr",
     "output_type": "stream",
     "text": [
      "                                   \r"
     ]
    },
    {
     "name": "stdout",
     "output_type": "stream",
     "text": [
      "Epoch [34/5000] | Training Loss: 0.0135 | Validation Loss: 0.0150\n"
     ]
    },
    {
     "name": "stderr",
     "output_type": "stream",
     "text": [
      "                                   \r"
     ]
    },
    {
     "name": "stdout",
     "output_type": "stream",
     "text": [
      "Epoch [35/5000] | Training Loss: 0.0135 | Validation Loss: 0.0150\n"
     ]
    },
    {
     "name": "stderr",
     "output_type": "stream",
     "text": [
      "                                   \r"
     ]
    },
    {
     "name": "stdout",
     "output_type": "stream",
     "text": [
      "Epoch [36/5000] | Training Loss: 0.0135 | Validation Loss: 0.0151\n"
     ]
    },
    {
     "name": "stderr",
     "output_type": "stream",
     "text": [
      "                                   \r"
     ]
    },
    {
     "name": "stdout",
     "output_type": "stream",
     "text": [
      "Epoch [37/5000] | Training Loss: 0.0135 | Validation Loss: 0.0150\n"
     ]
    },
    {
     "name": "stderr",
     "output_type": "stream",
     "text": [
      "                                   \r"
     ]
    },
    {
     "name": "stdout",
     "output_type": "stream",
     "text": [
      "Epoch [38/5000] | Training Loss: 0.0135 | Validation Loss: 0.0150\n",
      "No improvement in validation loss [25/30]\n"
     ]
    },
    {
     "name": "stderr",
     "output_type": "stream",
     "text": [
      "                                   \r"
     ]
    },
    {
     "name": "stdout",
     "output_type": "stream",
     "text": [
      "Epoch [39/5000] | Training Loss: 0.0135 | Validation Loss: 0.0151\n"
     ]
    },
    {
     "name": "stderr",
     "output_type": "stream",
     "text": [
      "                                   \r"
     ]
    },
    {
     "name": "stdout",
     "output_type": "stream",
     "text": [
      "Epoch [40/5000] | Training Loss: 0.0135 | Validation Loss: 0.0150\n"
     ]
    },
    {
     "name": "stderr",
     "output_type": "stream",
     "text": [
      "                                   \r"
     ]
    },
    {
     "name": "stdout",
     "output_type": "stream",
     "text": [
      "Epoch [41/5000] | Training Loss: 0.0135 | Validation Loss: 0.0150\n"
     ]
    },
    {
     "name": "stderr",
     "output_type": "stream",
     "text": [
      "                                   \r"
     ]
    },
    {
     "name": "stdout",
     "output_type": "stream",
     "text": [
      "Epoch [42/5000] | Training Loss: 0.0135 | Validation Loss: 0.0150\n"
     ]
    },
    {
     "name": "stderr",
     "output_type": "stream",
     "text": [
      "                                   \r"
     ]
    },
    {
     "name": "stdout",
     "output_type": "stream",
     "text": [
      "Epoch [43/5000] | Training Loss: 0.0135 | Validation Loss: 0.0150\n",
      "No improvement in validation loss [30/30]\n",
      "Early stopping triggered.\n"
     ]
    }
   ],
   "source": [
    "lstm_model = LSTMModel(\n",
    "    input_size=len(feature_cols),\n",
    "    hidden_size=SIZE_LSTM,\n",
    "    num_layers=N_LAYERS_LSTM,\n",
    "    dropout=DROPOUT_LSTM,\n",
    "    output_size=forecast_horizon\n",
    ")\n",
    "lstm_train_loss, lstm_val_loss = train(model=lstm_model, \n",
    "                                       train_loader=train_loader, \n",
    "                                       val_loader=val_loader,\n",
    "                                       model_file_path='models/lstm_model.pt')"
   ]
  },
  {
   "cell_type": "code",
   "execution_count": 19,
   "id": "b6cbe8a8",
   "metadata": {},
   "outputs": [
    {
     "name": "stdout",
     "output_type": "stream",
     "text": [
      "DEVICE: cpu\n",
      "Starting training.\n"
     ]
    },
    {
     "name": "stderr",
     "output_type": "stream",
     "text": [
      "                                   \r"
     ]
    },
    {
     "name": "stdout",
     "output_type": "stream",
     "text": [
      "Epoch [1/5000] | Training Loss: 0.0261 | Validation Loss: 0.0164\n",
      "Validation loss improved to 0.0164\n"
     ]
    },
    {
     "name": "stderr",
     "output_type": "stream",
     "text": [
      "                                   \r"
     ]
    },
    {
     "name": "stdout",
     "output_type": "stream",
     "text": [
      "Epoch [2/5000] | Training Loss: 0.0148 | Validation Loss: 0.0160\n",
      "No improvement in validation loss [1/30]\n"
     ]
    },
    {
     "name": "stderr",
     "output_type": "stream",
     "text": [
      "                                   \r"
     ]
    },
    {
     "name": "stdout",
     "output_type": "stream",
     "text": [
      "Epoch [3/5000] | Training Loss: 0.0147 | Validation Loss: 0.0159\n"
     ]
    },
    {
     "name": "stderr",
     "output_type": "stream",
     "text": [
      "                                   \r"
     ]
    },
    {
     "name": "stdout",
     "output_type": "stream",
     "text": [
      "Epoch [4/5000] | Training Loss: 0.0146 | Validation Loss: 0.0159\n"
     ]
    },
    {
     "name": "stderr",
     "output_type": "stream",
     "text": [
      "                                   \r"
     ]
    },
    {
     "name": "stdout",
     "output_type": "stream",
     "text": [
      "Epoch [5/5000] | Training Loss: 0.0146 | Validation Loss: 0.0158\n"
     ]
    },
    {
     "name": "stderr",
     "output_type": "stream",
     "text": [
      "                                   \r"
     ]
    },
    {
     "name": "stdout",
     "output_type": "stream",
     "text": [
      "Epoch [6/5000] | Training Loss: 0.0146 | Validation Loss: 0.0158\n",
      "No improvement in validation loss [5/30]\n"
     ]
    },
    {
     "name": "stderr",
     "output_type": "stream",
     "text": [
      "                                   \r"
     ]
    },
    {
     "name": "stdout",
     "output_type": "stream",
     "text": [
      "Epoch [7/5000] | Training Loss: 0.0146 | Validation Loss: 0.0157\n"
     ]
    },
    {
     "name": "stderr",
     "output_type": "stream",
     "text": [
      "                                   \r"
     ]
    },
    {
     "name": "stdout",
     "output_type": "stream",
     "text": [
      "Epoch [8/5000] | Training Loss: 0.0146 | Validation Loss: 0.0157\n"
     ]
    },
    {
     "name": "stderr",
     "output_type": "stream",
     "text": [
      "                                   \r"
     ]
    },
    {
     "name": "stdout",
     "output_type": "stream",
     "text": [
      "Epoch [9/5000] | Training Loss: 0.0145 | Validation Loss: 0.0157\n"
     ]
    },
    {
     "name": "stderr",
     "output_type": "stream",
     "text": [
      "                                   \r"
     ]
    },
    {
     "name": "stdout",
     "output_type": "stream",
     "text": [
      "Epoch [10/5000] | Training Loss: 0.0145 | Validation Loss: 0.0156\n"
     ]
    },
    {
     "name": "stderr",
     "output_type": "stream",
     "text": [
      "                                   \r"
     ]
    },
    {
     "name": "stdout",
     "output_type": "stream",
     "text": [
      "Epoch [11/5000] | Training Loss: 0.0145 | Validation Loss: 0.0156\n",
      "No improvement in validation loss [10/30]\n"
     ]
    },
    {
     "name": "stderr",
     "output_type": "stream",
     "text": [
      "                                   \r"
     ]
    },
    {
     "name": "stdout",
     "output_type": "stream",
     "text": [
      "Epoch [12/5000] | Training Loss: 0.0144 | Validation Loss: 0.0155\n"
     ]
    },
    {
     "name": "stderr",
     "output_type": "stream",
     "text": [
      "                                   \r"
     ]
    },
    {
     "name": "stdout",
     "output_type": "stream",
     "text": [
      "Epoch [13/5000] | Training Loss: 0.0143 | Validation Loss: 0.0154\n",
      "Validation loss improved to 0.0154\n"
     ]
    },
    {
     "name": "stderr",
     "output_type": "stream",
     "text": [
      "                                   \r"
     ]
    },
    {
     "name": "stdout",
     "output_type": "stream",
     "text": [
      "Epoch [14/5000] | Training Loss: 0.0142 | Validation Loss: 0.0152\n",
      "No improvement in validation loss [1/30]\n"
     ]
    },
    {
     "name": "stderr",
     "output_type": "stream",
     "text": [
      "                                   \r"
     ]
    },
    {
     "name": "stdout",
     "output_type": "stream",
     "text": [
      "Epoch [15/5000] | Training Loss: 0.0139 | Validation Loss: 0.0150\n"
     ]
    },
    {
     "name": "stderr",
     "output_type": "stream",
     "text": [
      "                                   \r"
     ]
    },
    {
     "name": "stdout",
     "output_type": "stream",
     "text": [
      "Epoch [16/5000] | Training Loss: 0.0138 | Validation Loss: 0.0150\n"
     ]
    },
    {
     "name": "stderr",
     "output_type": "stream",
     "text": [
      "                                   \r"
     ]
    },
    {
     "name": "stdout",
     "output_type": "stream",
     "text": [
      "Epoch [17/5000] | Training Loss: 0.0138 | Validation Loss: 0.0150\n"
     ]
    },
    {
     "name": "stderr",
     "output_type": "stream",
     "text": [
      "                                   \r"
     ]
    },
    {
     "name": "stdout",
     "output_type": "stream",
     "text": [
      "Epoch [18/5000] | Training Loss: 0.0137 | Validation Loss: 0.0150\n",
      "No improvement in validation loss [5/30]\n"
     ]
    },
    {
     "name": "stderr",
     "output_type": "stream",
     "text": [
      "                                   \r"
     ]
    },
    {
     "name": "stdout",
     "output_type": "stream",
     "text": [
      "Epoch [19/5000] | Training Loss: 0.0137 | Validation Loss: 0.0150\n"
     ]
    },
    {
     "name": "stderr",
     "output_type": "stream",
     "text": [
      "                                   \r"
     ]
    },
    {
     "name": "stdout",
     "output_type": "stream",
     "text": [
      "Epoch [20/5000] | Training Loss: 0.0137 | Validation Loss: 0.0150\n"
     ]
    },
    {
     "name": "stderr",
     "output_type": "stream",
     "text": [
      "                                   \r"
     ]
    },
    {
     "name": "stdout",
     "output_type": "stream",
     "text": [
      "Epoch [21/5000] | Training Loss: 0.0137 | Validation Loss: 0.0149\n"
     ]
    },
    {
     "name": "stderr",
     "output_type": "stream",
     "text": [
      "                                   \r"
     ]
    },
    {
     "name": "stdout",
     "output_type": "stream",
     "text": [
      "Epoch [22/5000] | Training Loss: 0.0137 | Validation Loss: 0.0149\n"
     ]
    },
    {
     "name": "stderr",
     "output_type": "stream",
     "text": [
      "                                   \r"
     ]
    },
    {
     "name": "stdout",
     "output_type": "stream",
     "text": [
      "Epoch [23/5000] | Training Loss: 0.0137 | Validation Loss: 0.0149\n",
      "No improvement in validation loss [10/30]\n"
     ]
    },
    {
     "name": "stderr",
     "output_type": "stream",
     "text": [
      "                                   \r"
     ]
    },
    {
     "name": "stdout",
     "output_type": "stream",
     "text": [
      "Epoch [24/5000] | Training Loss: 0.0137 | Validation Loss: 0.0149\n"
     ]
    },
    {
     "name": "stderr",
     "output_type": "stream",
     "text": [
      "                                   \r"
     ]
    },
    {
     "name": "stdout",
     "output_type": "stream",
     "text": [
      "Epoch [25/5000] | Training Loss: 0.0137 | Validation Loss: 0.0149\n"
     ]
    },
    {
     "name": "stderr",
     "output_type": "stream",
     "text": [
      "                                   \r"
     ]
    },
    {
     "name": "stdout",
     "output_type": "stream",
     "text": [
      "Epoch [26/5000] | Training Loss: 0.0137 | Validation Loss: 0.0149\n"
     ]
    },
    {
     "name": "stderr",
     "output_type": "stream",
     "text": [
      "                                   \r"
     ]
    },
    {
     "name": "stdout",
     "output_type": "stream",
     "text": [
      "Epoch [27/5000] | Training Loss: 0.0136 | Validation Loss: 0.0150\n"
     ]
    },
    {
     "name": "stderr",
     "output_type": "stream",
     "text": [
      "                                   \r"
     ]
    },
    {
     "name": "stdout",
     "output_type": "stream",
     "text": [
      "Epoch [28/5000] | Training Loss: 0.0136 | Validation Loss: 0.0150\n",
      "No improvement in validation loss [15/30]\n"
     ]
    },
    {
     "name": "stderr",
     "output_type": "stream",
     "text": [
      "                                   \r"
     ]
    },
    {
     "name": "stdout",
     "output_type": "stream",
     "text": [
      "Epoch [29/5000] | Training Loss: 0.0136 | Validation Loss: 0.0149\n"
     ]
    },
    {
     "name": "stderr",
     "output_type": "stream",
     "text": [
      "                                   \r"
     ]
    },
    {
     "name": "stdout",
     "output_type": "stream",
     "text": [
      "Epoch [30/5000] | Training Loss: 0.0136 | Validation Loss: 0.0149\n"
     ]
    },
    {
     "name": "stderr",
     "output_type": "stream",
     "text": [
      "                                   \r"
     ]
    },
    {
     "name": "stdout",
     "output_type": "stream",
     "text": [
      "Epoch [31/5000] | Training Loss: 0.0136 | Validation Loss: 0.0149\n"
     ]
    },
    {
     "name": "stderr",
     "output_type": "stream",
     "text": [
      "                                   \r"
     ]
    },
    {
     "name": "stdout",
     "output_type": "stream",
     "text": [
      "Epoch [32/5000] | Training Loss: 0.0136 | Validation Loss: 0.0149\n"
     ]
    },
    {
     "name": "stderr",
     "output_type": "stream",
     "text": [
      "                                   \r"
     ]
    },
    {
     "name": "stdout",
     "output_type": "stream",
     "text": [
      "Epoch [33/5000] | Training Loss: 0.0136 | Validation Loss: 0.0149\n",
      "No improvement in validation loss [20/30]\n"
     ]
    },
    {
     "name": "stderr",
     "output_type": "stream",
     "text": [
      "                                   \r"
     ]
    },
    {
     "name": "stdout",
     "output_type": "stream",
     "text": [
      "Epoch [34/5000] | Training Loss: 0.0136 | Validation Loss: 0.0150\n"
     ]
    },
    {
     "name": "stderr",
     "output_type": "stream",
     "text": [
      "                                   \r"
     ]
    },
    {
     "name": "stdout",
     "output_type": "stream",
     "text": [
      "Epoch [35/5000] | Training Loss: 0.0136 | Validation Loss: 0.0149\n"
     ]
    },
    {
     "name": "stderr",
     "output_type": "stream",
     "text": [
      "                                   \r"
     ]
    },
    {
     "name": "stdout",
     "output_type": "stream",
     "text": [
      "Epoch [36/5000] | Training Loss: 0.0136 | Validation Loss: 0.0149\n"
     ]
    },
    {
     "name": "stderr",
     "output_type": "stream",
     "text": [
      "                                   \r"
     ]
    },
    {
     "name": "stdout",
     "output_type": "stream",
     "text": [
      "Epoch [37/5000] | Training Loss: 0.0136 | Validation Loss: 0.0149\n"
     ]
    },
    {
     "name": "stderr",
     "output_type": "stream",
     "text": [
      "                                   \r"
     ]
    },
    {
     "name": "stdout",
     "output_type": "stream",
     "text": [
      "Epoch [38/5000] | Training Loss: 0.0136 | Validation Loss: 0.0149\n",
      "No improvement in validation loss [25/30]\n"
     ]
    },
    {
     "name": "stderr",
     "output_type": "stream",
     "text": [
      "                                   \r"
     ]
    },
    {
     "name": "stdout",
     "output_type": "stream",
     "text": [
      "Epoch [39/5000] | Training Loss: 0.0136 | Validation Loss: 0.0149\n"
     ]
    },
    {
     "name": "stderr",
     "output_type": "stream",
     "text": [
      "                                   \r"
     ]
    },
    {
     "name": "stdout",
     "output_type": "stream",
     "text": [
      "Epoch [40/5000] | Training Loss: 0.0136 | Validation Loss: 0.0149\n"
     ]
    },
    {
     "name": "stderr",
     "output_type": "stream",
     "text": [
      "                                   \r"
     ]
    },
    {
     "name": "stdout",
     "output_type": "stream",
     "text": [
      "Epoch [41/5000] | Training Loss: 0.0136 | Validation Loss: 0.0149\n"
     ]
    },
    {
     "name": "stderr",
     "output_type": "stream",
     "text": [
      "                                   \r"
     ]
    },
    {
     "name": "stdout",
     "output_type": "stream",
     "text": [
      "Epoch [42/5000] | Training Loss: 0.0136 | Validation Loss: 0.0149\n"
     ]
    },
    {
     "name": "stderr",
     "output_type": "stream",
     "text": [
      "                                   \r"
     ]
    },
    {
     "name": "stdout",
     "output_type": "stream",
     "text": [
      "Epoch [43/5000] | Training Loss: 0.0136 | Validation Loss: 0.0149\n",
      "No improvement in validation loss [30/30]\n",
      "Early stopping triggered.\n"
     ]
    }
   ],
   "source": [
    "gru_model = GRUModel(\n",
    "    input_size=len(feature_cols),\n",
    "    hidden_size=SIZE_GRU,\n",
    "    num_layers=N_LAYERS_GRU,\n",
    "    dropout=DROPOUT_GRU,\n",
    "    output_size=forecast_horizon\n",
    ")\n",
    "gru_train_loss, gru_val_loss = train(model=gru_model, \n",
    "                                     train_loader=train_loader, \n",
    "                                     val_loader=val_loader,\n",
    "                                     model_file_path='models/gru_model.pt')"
   ]
  },
  {
   "cell_type": "code",
   "execution_count": 20,
   "id": "be0e2ff4",
   "metadata": {},
   "outputs": [
    {
     "data": {
      "image/png": "[encoded data removed]",
      "text/plain": [
       "<Figure size 640x480 with 1 Axes>"
      ]
     },
     "metadata": {},
     "output_type": "display_data"
    }
   ],
   "source": [
    "plt.plot(multibranch_train_loss, label='Multibranch Training loss')\n",
    "plt.plot(multibranch_val_loss, label='Multibranch Validation loss')\n",
    "plt.plot(lstm_train_loss, label='LSTM Training loss')\n",
    "plt.plot(lstm_val_loss, label='LSTM Validation loss')\n",
    "plt.plot(gru_train_loss, label='GRU Training loss')\n",
    "plt.plot(gru_val_loss, label='GRU Validation loss')\n",
    "plt.title('Loss evolution')\n",
    "plt.xlabel('Epochs')\n",
    "plt.ylabel('Loss')\n",
    "plt.grid(True)\n",
    "plt.tight_layout()\n",
    "plt.legend()\n",
    "plt.savefig('results/loss.png')\n",
    "plt.show()\n"
   ]
  },
  {
   "cell_type": "markdown",
   "id": "a5e13370",
   "metadata": {},
   "source": [
    "# Evaluation"
   ]
  },
  {
   "cell_type": "code",
   "execution_count": 21,
   "id": "767ead60",
   "metadata": {},
   "outputs": [],
   "source": [
    "def evaluate(model: nn.Module, test_loader: DataLoader) -> dict[str, float]:\n",
    "    loss_fn = nn.MSELoss()\n",
    "    device = torch.device(\"cuda\" if torch.cuda.is_available() else \"cpu\")\n",
    "    tester = Tester(model=model,\n",
    "                    loss_fn=loss_fn,\n",
    "                    device=device)\n",
    "    metrics = tester.evaluate(dataloader=test_loader)\n",
    "    return metrics"
   ]
  },
  {
   "cell_type": "code",
   "execution_count": 36,
   "id": "16ec63c9",
   "metadata": {},
   "outputs": [],
   "source": [
    "def save_model(model: nn.Module, model_name: str, id: int) -> None:\n",
    "    torch.save(model.state_dict(), f'models/{id}_{model_name}.pt')\n",
    "\n",
    "def save_evaluation(model: nn.Module, model_name: str, layers: int | list[int], n_layers: int | list[int], metrics: dict[str, float]) -> pd.DataFrame:\n",
    "    actual_results: pd.DataFrame = pd.read_csv('results/results.csv', sep=';')\n",
    "    max_id: int = actual_results['ID'].max()\n",
    "    new_id: int = max_id + 1\n",
    "    new_df: pd.DataFrame = pd.DataFrame({'ID': new_id,\n",
    "                                        'model_name': model_name,\n",
    "                                        'layers': str(layers),\n",
    "                                        'n_layers': str(n_layers),\n",
    "                                        'loss': metrics['loss'],\n",
    "                                        'mse': metrics['mse'],\n",
    "                                        'mae': metrics['mae'],\n",
    "                                        'rmse': metrics['rmse'],\n",
    "                                        'r2': metrics['r2']\n",
    "                                        }, index=[new_id])\n",
    "    results_df = pd.concat([actual_results, new_df], axis=0)\n",
    "    results_df.to_csv('results/results.csv', index=False, sep=';')\n",
    "    save_model(model, model_name, new_id)\n",
    "\n",
    "    return new_df"
   ]
  },
  {
   "cell_type": "code",
   "execution_count": null,
   "id": "1fe4081c",
   "metadata": {},
   "outputs": [
    {
     "name": "stdout",
     "output_type": "stream",
     "text": [
      "multibranch_model\n",
      "lstm_model\n",
      "gru_model\n"
     ]
    }
   ],
   "source": [
    "models_to_evaluate = {'multibranch_model': multibranch_model,\n",
    "                      'lstm_model': lstm_model,\n",
    "                      'gru_model': gru_model}\n",
    "\n",
    "metrics_list: list[pd.DataFrame] = []\n",
    "\n",
    "for model_name, model in models_to_evaluate.items():\n",
    "    metrics: dict[str, float] = evaluate(model=model, test_loader=test_loader)\n",
    "    if model_name == 'multibranch_model':\n",
    "        model_size = [SIZE_MB_LSTM, SIZE_MB_GRU]\n",
    "        n_layers = [N_LAYERS_MB_LSTM, N_LAYERS_MB_GRU]\n",
    "    elif model_name == 'lstm_model':\n",
    "        model_size = SIZE_LSTM\n",
    "        n_layers = N_LAYERS_LSTM\n",
    "    else:\n",
    "        model_size = SIZE_GRU\n",
    "        n_layers = N_LAYERS_GRU\n",
    "\n",
    "\n",
    "    model_metrics = save_evaluation(model, model_name, model_size, n_layers, metrics)\n",
    "    metrics_list.append(model_metrics)\n",
    "\n",
    "metrics_df = pd.concat(metrics_list, axis=0)"
   ]
  },
  {
   "cell_type": "code",
   "execution_count": 40,
   "id": "d2bb081c",
   "metadata": {},
   "outputs": [
    {
     "data": {
      "text/html": [
       "<div>\n",
       "<style scoped>\n",
       "    .dataframe tbody tr th:only-of-type {\n",
       "        vertical-align: middle;\n",
       "    }\n",
       "\n",
       "    .dataframe tbody tr th {\n",
       "        vertical-align: top;\n",
       "    }\n",
       "\n",
       "    .dataframe thead th {\n",
       "        text-align: right;\n",
       "    }\n",
       "</style>\n",
       "<table border=\"1\" class=\"dataframe\">\n",
       "  <thead>\n",
       "    <tr style=\"text-align: right;\">\n",
       "      <th></th>\n",
       "      <th>ID</th>\n",
       "      <th>model_name</th>\n",
       "      <th>layers</th>\n",
       "      <th>n_layers</th>\n",
       "      <th>loss</th>\n",
       "      <th>mse</th>\n",
       "      <th>mae</th>\n",
       "      <th>rmse</th>\n",
       "      <th>r2</th>\n",
       "    </tr>\n",
       "  </thead>\n",
       "  <tbody>\n",
       "    <tr>\n",
       "      <th>4</th>\n",
       "      <td>4</td>\n",
       "      <td>multibranch_model</td>\n",
       "      <td>[50, 50]</td>\n",
       "      <td>[1, 1]</td>\n",
       "      <td>0.013780</td>\n",
       "      <td>0.013779</td>\n",
       "      <td>0.083216</td>\n",
       "      <td>0.117386</td>\n",
       "      <td>0.594770</td>\n",
       "    </tr>\n",
       "    <tr>\n",
       "      <th>5</th>\n",
       "      <td>5</td>\n",
       "      <td>lstm_model</td>\n",
       "      <td>100</td>\n",
       "      <td>1</td>\n",
       "      <td>0.013557</td>\n",
       "      <td>0.013556</td>\n",
       "      <td>0.082522</td>\n",
       "      <td>0.116432</td>\n",
       "      <td>0.601327</td>\n",
       "    </tr>\n",
       "    <tr>\n",
       "      <th>6</th>\n",
       "      <td>6</td>\n",
       "      <td>gru_model</td>\n",
       "      <td>100</td>\n",
       "      <td>1</td>\n",
       "      <td>0.012593</td>\n",
       "      <td>0.012593</td>\n",
       "      <td>0.079340</td>\n",
       "      <td>0.112218</td>\n",
       "      <td>0.629666</td>\n",
       "    </tr>\n",
       "  </tbody>\n",
       "</table>\n",
       "</div>"
      ],
      "text/plain": [
       "   ID         model_name    layers n_layers      loss       mse       mae  \\\n",
       "4   4  multibranch_model  [50, 50]   [1, 1]  0.013780  0.013779  0.083216   \n",
       "5   5         lstm_model       100        1  0.013557  0.013556  0.082522   \n",
       "6   6          gru_model       100        1  0.012593  0.012593  0.079340   \n",
       "\n",
       "       rmse        r2  \n",
       "4  0.117386  0.594770  \n",
       "5  0.116432  0.601327  \n",
       "6  0.112218  0.629666  "
      ]
     },
     "execution_count": 40,
     "metadata": {},
     "output_type": "execute_result"
    }
   ],
   "source": [
    "metrics_df"
   ]
  },
  {
   "cell_type": "code",
   "execution_count": 41,
   "id": "0d0bc0c0",
   "metadata": {},
   "outputs": [
    {
     "data": {
      "image/png": "[encoded data removed]",
      "text/plain": [
       "<Figure size 1000x500 with 1 Axes>"
      ]
     },
     "metadata": {},
     "output_type": "display_data"
    }
   ],
   "source": [
    "import matplotlib.pyplot as plt\n",
    "import seaborn as sns\n",
    "\n",
    "\n",
    "metrics = [\"loss\", \"mse\", \"mae\", \"rmse\"]\n",
    "df_melt = metrics_df.melt(id_vars=\"model_name\", value_vars=metrics, var_name=\"metric\", value_name=\"value\")\n",
    "\n",
    "plt.figure(figsize=(10, 5))\n",
    "ax = sns.barplot(data=df_melt, x=\"model_name\", y=\"value\", hue=\"metric\", palette=\"viridis\")\n",
    "for container in ax.containers:\n",
    "    ax.bar_label(container, fmt=\"%.4f\", label_type=\"edge\", fontsize=8, padding=2)\n",
    "\n",
    "plt.title(\"Metrics\")\n",
    "plt.ylabel(\"Value\")\n",
    "plt.xlabel(\"Model\")\n",
    "plt.legend(title=\"Metric\", bbox_to_anchor=(1, 1))\n",
    "plt.tight_layout()\n",
    "plt.savefig('results/metrics.png')\n",
    "plt.show()\n"
   ]
  }
 ],
 "metadata": {
  "kernelspec": {
   "display_name": "multibranch-timeseries-nn (3.10.18)",
   "language": "python",
   "name": "python3"
  },
  "language_info": {
   "codemirror_mode": {
    "name": "ipython",
    "version": 3
   },
   "file_extension": ".py",
   "mimetype": "text/x-python",
   "name": "python",
   "nbconvert_exporter": "python",
   "pygments_lexer": "ipython3",
   "version": "3.10.18"
  }
 },
 "nbformat": 4,
 "nbformat_minor": 5
}
