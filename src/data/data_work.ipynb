{
 "cells": [
  {
   "cell_type": "code",
   "execution_count": 2,
   "id": "2e7b8b29",
   "metadata": {},
   "outputs": [
    {
     "data": {
      "text/html": [
       "<div>\n",
       "<style scoped>\n",
       "    .dataframe tbody tr th:only-of-type {\n",
       "        vertical-align: middle;\n",
       "    }\n",
       "\n",
       "    .dataframe tbody tr th {\n",
       "        vertical-align: top;\n",
       "    }\n",
       "\n",
       "    .dataframe thead th {\n",
       "        text-align: right;\n",
       "    }\n",
       "</style>\n",
       "<table border=\"1\" class=\"dataframe\">\n",
       "  <thead>\n",
       "    <tr style=\"text-align: right;\">\n",
       "      <th></th>\n",
       "      <th>videostatsid</th>\n",
       "      <th>ytvideoid</th>\n",
       "      <th>views</th>\n",
       "      <th>comments</th>\n",
       "      <th>likes</th>\n",
       "      <th>dislikes</th>\n",
       "      <th>timestamp</th>\n",
       "    </tr>\n",
       "  </thead>\n",
       "  <tbody>\n",
       "    <tr>\n",
       "      <th>0</th>\n",
       "      <td>1</td>\n",
       "      <td>0GLbwkfhYZk</td>\n",
       "      <td>5722228</td>\n",
       "      <td>28229</td>\n",
       "      <td>185188</td>\n",
       "      <td>10860</td>\n",
       "      <td>2019-04-15 04:42:49</td>\n",
       "    </tr>\n",
       "    <tr>\n",
       "      <th>1</th>\n",
       "      <td>2</td>\n",
       "      <td>O4NB73HTlxI</td>\n",
       "      <td>3673770</td>\n",
       "      <td>31565</td>\n",
       "      <td>278477</td>\n",
       "      <td>4705</td>\n",
       "      <td>2019-04-15 04:42:50</td>\n",
       "    </tr>\n",
       "    <tr>\n",
       "      <th>2</th>\n",
       "      <td>3</td>\n",
       "      <td>VVRcXtSjPcE</td>\n",
       "      <td>253613</td>\n",
       "      <td>1025</td>\n",
       "      <td>4587</td>\n",
       "      <td>87</td>\n",
       "      <td>2019-04-15 04:42:51</td>\n",
       "    </tr>\n",
       "    <tr>\n",
       "      <th>3</th>\n",
       "      <td>4</td>\n",
       "      <td>adzYW5DZoWs</td>\n",
       "      <td>21567972</td>\n",
       "      <td>79208</td>\n",
       "      <td>478496</td>\n",
       "      <td>61703</td>\n",
       "      <td>2019-04-15 04:42:51</td>\n",
       "    </tr>\n",
       "    <tr>\n",
       "      <th>4</th>\n",
       "      <td>5</td>\n",
       "      <td>p_8yK2kmxoo</td>\n",
       "      <td>2385064</td>\n",
       "      <td>10703</td>\n",
       "      <td>133304</td>\n",
       "      <td>1323</td>\n",
       "      <td>2019-04-15 04:42:52</td>\n",
       "    </tr>\n",
       "  </tbody>\n",
       "</table>\n",
       "</div>"
      ],
      "text/plain": [
       "   videostatsid    ytvideoid     views  comments   likes  dislikes  \\\n",
       "0             1  0GLbwkfhYZk   5722228     28229  185188     10860   \n",
       "1             2  O4NB73HTlxI   3673770     31565  278477      4705   \n",
       "2             3  VVRcXtSjPcE    253613      1025    4587        87   \n",
       "3             4  adzYW5DZoWs  21567972     79208  478496     61703   \n",
       "4             5  p_8yK2kmxoo   2385064     10703  133304      1323   \n",
       "\n",
       "             timestamp  \n",
       "0  2019-04-15 04:42:49  \n",
       "1  2019-04-15 04:42:50  \n",
       "2  2019-04-15 04:42:51  \n",
       "3  2019-04-15 04:42:51  \n",
       "4  2019-04-15 04:42:52  "
      ]
     },
     "execution_count": 2,
     "metadata": {},
     "output_type": "execute_result"
    }
   ],
   "source": [
    "import pandas as pd\n",
    "\n",
    "# df = pd.read_csv(\"hf://datasets/jettisonthenet/timeseries_trending_youtube_videos_2019-04-15_to_2020-04-15/videostats.csv\")\n",
    "df = pd.read_csv(\"youtube_dataset.csv\")\n",
    "df.head()"
   ]
  },
  {
   "cell_type": "markdown",
   "id": "a5e3522a",
   "metadata": {},
   "source": [
    "# Explore data"
   ]
  },
  {
   "cell_type": "code",
   "execution_count": 3,
   "id": "08f1600c",
   "metadata": {},
   "outputs": [
    {
     "name": "stdout",
     "output_type": "stream",
     "text": [
      "<class 'pandas.core.frame.DataFrame'>\n",
      "RangeIndex: 1541128 entries, 0 to 1541127\n",
      "Data columns (total 7 columns):\n",
      " #   Column        Non-Null Count    Dtype \n",
      "---  ------        --------------    ----- \n",
      " 0   videostatsid  1541128 non-null  int64 \n",
      " 1   ytvideoid     1541128 non-null  object\n",
      " 2   views         1541128 non-null  int64 \n",
      " 3   comments      1541128 non-null  int64 \n",
      " 4   likes         1541128 non-null  int64 \n",
      " 5   dislikes      1541128 non-null  int64 \n",
      " 6   timestamp     1541128 non-null  object\n",
      "dtypes: int64(5), object(2)\n",
      "memory usage: 82.3+ MB\n"
     ]
    }
   ],
   "source": [
    "df.info()"
   ]
  },
  {
   "cell_type": "code",
   "execution_count": 4,
   "id": "4901bc06",
   "metadata": {},
   "outputs": [
    {
     "data": {
      "text/html": [
       "<div>\n",
       "<style scoped>\n",
       "    .dataframe tbody tr th:only-of-type {\n",
       "        vertical-align: middle;\n",
       "    }\n",
       "\n",
       "    .dataframe tbody tr th {\n",
       "        vertical-align: top;\n",
       "    }\n",
       "\n",
       "    .dataframe thead th {\n",
       "        text-align: right;\n",
       "    }\n",
       "</style>\n",
       "<table border=\"1\" class=\"dataframe\">\n",
       "  <thead>\n",
       "    <tr style=\"text-align: right;\">\n",
       "      <th></th>\n",
       "      <th>videostatsid</th>\n",
       "      <th>views</th>\n",
       "      <th>comments</th>\n",
       "      <th>likes</th>\n",
       "      <th>dislikes</th>\n",
       "    </tr>\n",
       "  </thead>\n",
       "  <tbody>\n",
       "    <tr>\n",
       "      <th>count</th>\n",
       "      <td>1.541128e+06</td>\n",
       "      <td>1.541128e+06</td>\n",
       "      <td>1.541128e+06</td>\n",
       "      <td>1.541128e+06</td>\n",
       "      <td>1.541128e+06</td>\n",
       "    </tr>\n",
       "    <tr>\n",
       "      <th>mean</th>\n",
       "      <td>7.705645e+05</td>\n",
       "      <td>2.334113e+06</td>\n",
       "      <td>1.062863e+04</td>\n",
       "      <td>1.140499e+05</td>\n",
       "      <td>4.600412e+03</td>\n",
       "    </tr>\n",
       "    <tr>\n",
       "      <th>std</th>\n",
       "      <td>4.448855e+05</td>\n",
       "      <td>4.739228e+06</td>\n",
       "      <td>4.690702e+04</td>\n",
       "      <td>2.811799e+05</td>\n",
       "      <td>7.602899e+04</td>\n",
       "    </tr>\n",
       "    <tr>\n",
       "      <th>min</th>\n",
       "      <td>1.000000e+00</td>\n",
       "      <td>3.969000e+03</td>\n",
       "      <td>0.000000e+00</td>\n",
       "      <td>1.040000e+02</td>\n",
       "      <td>6.000000e+00</td>\n",
       "    </tr>\n",
       "    <tr>\n",
       "      <th>25%</th>\n",
       "      <td>3.852828e+05</td>\n",
       "      <td>6.039978e+05</td>\n",
       "      <td>1.991000e+03</td>\n",
       "      <td>1.911500e+04</td>\n",
       "      <td>4.710000e+02</td>\n",
       "    </tr>\n",
       "    <tr>\n",
       "      <th>50%</th>\n",
       "      <td>7.705645e+05</td>\n",
       "      <td>1.092915e+06</td>\n",
       "      <td>4.037000e+03</td>\n",
       "      <td>4.295800e+04</td>\n",
       "      <td>1.024000e+03</td>\n",
       "    </tr>\n",
       "    <tr>\n",
       "      <th>75%</th>\n",
       "      <td>1.155846e+06</td>\n",
       "      <td>2.185136e+06</td>\n",
       "      <td>8.882000e+03</td>\n",
       "      <td>9.950500e+04</td>\n",
       "      <td>2.515000e+03</td>\n",
       "    </tr>\n",
       "    <tr>\n",
       "      <th>max</th>\n",
       "      <td>1.541128e+06</td>\n",
       "      <td>1.527469e+08</td>\n",
       "      <td>2.919587e+06</td>\n",
       "      <td>8.517540e+06</td>\n",
       "      <td>7.027836e+06</td>\n",
       "    </tr>\n",
       "  </tbody>\n",
       "</table>\n",
       "</div>"
      ],
      "text/plain": [
       "       videostatsid         views      comments         likes      dislikes\n",
       "count  1.541128e+06  1.541128e+06  1.541128e+06  1.541128e+06  1.541128e+06\n",
       "mean   7.705645e+05  2.334113e+06  1.062863e+04  1.140499e+05  4.600412e+03\n",
       "std    4.448855e+05  4.739228e+06  4.690702e+04  2.811799e+05  7.602899e+04\n",
       "min    1.000000e+00  3.969000e+03  0.000000e+00  1.040000e+02  6.000000e+00\n",
       "25%    3.852828e+05  6.039978e+05  1.991000e+03  1.911500e+04  4.710000e+02\n",
       "50%    7.705645e+05  1.092915e+06  4.037000e+03  4.295800e+04  1.024000e+03\n",
       "75%    1.155846e+06  2.185136e+06  8.882000e+03  9.950500e+04  2.515000e+03\n",
       "max    1.541128e+06  1.527469e+08  2.919587e+06  8.517540e+06  7.027836e+06"
      ]
     },
     "execution_count": 4,
     "metadata": {},
     "output_type": "execute_result"
    }
   ],
   "source": [
    "df.describe()"
   ]
  },
  {
   "cell_type": "markdown",
   "id": "120cc979",
   "metadata": {},
   "source": [
    "## Data distribution"
   ]
  },
  {
   "cell_type": "code",
   "execution_count": 5,
   "id": "7855fd61",
   "metadata": {},
   "outputs": [
    {
     "data": {
      "image/png": "[encoded data removed]",
      "text/plain": [
       "<Figure size 1200x800 with 4 Axes>"
      ]
     },
     "metadata": {},
     "output_type": "display_data"
    }
   ],
   "source": [
    "import matplotlib.pyplot as plt\n",
    "cols = ['views', 'comments', 'likes', 'dislikes']\n",
    "df[cols].hist(bins=20, figsize=(12, 8))\n",
    "plt.tight_layout()\n",
    "plt.show()"
   ]
  },
  {
   "cell_type": "code",
   "execution_count": 6,
   "id": "c36a0dc9",
   "metadata": {},
   "outputs": [
    {
     "data": {
      "image/png": "[encoded data removed]",
      "text/plain": [
       "<Figure size 1200x1000 with 16 Axes>"
      ]
     },
     "metadata": {},
     "output_type": "display_data"
    }
   ],
   "source": [
    "df[cols].plot(kind='density', subplots=True, layout=(4, 4), sharex=False, figsize=(12, 10))\n",
    "plt.tight_layout()\n",
    "plt.show()"
   ]
  },
  {
   "cell_type": "markdown",
   "id": "f0f66af4",
   "metadata": {},
   "source": [
    "## Duplicates and nans"
   ]
  },
  {
   "cell_type": "code",
   "execution_count": 7,
   "id": "b6a1e8f1",
   "metadata": {},
   "outputs": [
    {
     "data": {
      "text/html": [
       "<div>\n",
       "<style scoped>\n",
       "    .dataframe tbody tr th:only-of-type {\n",
       "        vertical-align: middle;\n",
       "    }\n",
       "\n",
       "    .dataframe tbody tr th {\n",
       "        vertical-align: top;\n",
       "    }\n",
       "\n",
       "    .dataframe thead th {\n",
       "        text-align: right;\n",
       "    }\n",
       "</style>\n",
       "<table border=\"1\" class=\"dataframe\">\n",
       "  <thead>\n",
       "    <tr style=\"text-align: right;\">\n",
       "      <th></th>\n",
       "      <th>videostatsid</th>\n",
       "      <th>ytvideoid</th>\n",
       "      <th>views</th>\n",
       "      <th>comments</th>\n",
       "      <th>likes</th>\n",
       "      <th>dislikes</th>\n",
       "      <th>timestamp</th>\n",
       "    </tr>\n",
       "  </thead>\n",
       "  <tbody>\n",
       "  </tbody>\n",
       "</table>\n",
       "</div>"
      ],
      "text/plain": [
       "Empty DataFrame\n",
       "Columns: [videostatsid, ytvideoid, views, comments, likes, dislikes, timestamp]\n",
       "Index: []"
      ]
     },
     "execution_count": 7,
     "metadata": {},
     "output_type": "execute_result"
    }
   ],
   "source": [
    "df[df.duplicated()]"
   ]
  },
  {
   "cell_type": "code",
   "execution_count": 8,
   "id": "914268e3",
   "metadata": {},
   "outputs": [
    {
     "data": {
      "text/html": [
       "<div>\n",
       "<style scoped>\n",
       "    .dataframe tbody tr th:only-of-type {\n",
       "        vertical-align: middle;\n",
       "    }\n",
       "\n",
       "    .dataframe tbody tr th {\n",
       "        vertical-align: top;\n",
       "    }\n",
       "\n",
       "    .dataframe thead th {\n",
       "        text-align: right;\n",
       "    }\n",
       "</style>\n",
       "<table border=\"1\" class=\"dataframe\">\n",
       "  <thead>\n",
       "    <tr style=\"text-align: right;\">\n",
       "      <th></th>\n",
       "      <th>videostatsid</th>\n",
       "      <th>ytvideoid</th>\n",
       "      <th>views</th>\n",
       "      <th>comments</th>\n",
       "      <th>likes</th>\n",
       "      <th>dislikes</th>\n",
       "      <th>timestamp</th>\n",
       "    </tr>\n",
       "  </thead>\n",
       "  <tbody>\n",
       "  </tbody>\n",
       "</table>\n",
       "</div>"
      ],
      "text/plain": [
       "Empty DataFrame\n",
       "Columns: [videostatsid, ytvideoid, views, comments, likes, dislikes, timestamp]\n",
       "Index: []"
      ]
     },
     "execution_count": 8,
     "metadata": {},
     "output_type": "execute_result"
    }
   ],
   "source": [
    "df[df.duplicated(subset=['videostatsid'])]"
   ]
  },
  {
   "cell_type": "code",
   "execution_count": 9,
   "id": "707cd633",
   "metadata": {},
   "outputs": [
    {
     "data": {
      "text/html": [
       "<div>\n",
       "<style scoped>\n",
       "    .dataframe tbody tr th:only-of-type {\n",
       "        vertical-align: middle;\n",
       "    }\n",
       "\n",
       "    .dataframe tbody tr th {\n",
       "        vertical-align: top;\n",
       "    }\n",
       "\n",
       "    .dataframe thead th {\n",
       "        text-align: right;\n",
       "    }\n",
       "</style>\n",
       "<table border=\"1\" class=\"dataframe\">\n",
       "  <thead>\n",
       "    <tr style=\"text-align: right;\">\n",
       "      <th></th>\n",
       "      <th>videostatsid</th>\n",
       "      <th>ytvideoid</th>\n",
       "      <th>views</th>\n",
       "      <th>comments</th>\n",
       "      <th>likes</th>\n",
       "      <th>dislikes</th>\n",
       "      <th>timestamp</th>\n",
       "    </tr>\n",
       "  </thead>\n",
       "  <tbody>\n",
       "  </tbody>\n",
       "</table>\n",
       "</div>"
      ],
      "text/plain": [
       "Empty DataFrame\n",
       "Columns: [videostatsid, ytvideoid, views, comments, likes, dislikes, timestamp]\n",
       "Index: []"
      ]
     },
     "execution_count": 9,
     "metadata": {},
     "output_type": "execute_result"
    }
   ],
   "source": [
    "df.loc[df.isna().any(axis=1)]\n"
   ]
  },
  {
   "cell_type": "code",
   "execution_count": 10,
   "id": "56af388f",
   "metadata": {},
   "outputs": [
    {
     "data": {
      "text/plain": [
       "11369"
      ]
     },
     "execution_count": 10,
     "metadata": {},
     "output_type": "execute_result"
    }
   ],
   "source": [
    "len(df['ytvideoid'].unique())"
   ]
  },
  {
   "cell_type": "markdown",
   "id": "cd66763e",
   "metadata": {},
   "source": [
    "## Exploring timestamp"
   ]
  },
  {
   "cell_type": "code",
   "execution_count": 14,
   "id": "e7f7dc2c",
   "metadata": {},
   "outputs": [],
   "source": [
    "df['timestamp'] = pd.to_datetime(df['timestamp'])\n",
    "df['timestamp'] = df['timestamp'].dt.round('30min')\n",
    "\n",
    "df = df.sort_values(['ytvideoid', 'timestamp'])"
   ]
  },
  {
   "cell_type": "code",
   "execution_count": 11,
   "id": "91cfe8d3",
   "metadata": {},
   "outputs": [
    {
     "data": {
      "text/plain": [
       "count    11369.000000\n",
       "mean       135.555282\n",
       "std         77.114336\n",
       "min          1.000000\n",
       "25%         84.000000\n",
       "50%        136.000000\n",
       "75%        181.000000\n",
       "max        628.000000\n",
       "Name: timestamp, dtype: float64"
      ]
     },
     "execution_count": 11,
     "metadata": {},
     "output_type": "execute_result"
    }
   ],
   "source": [
    "df.groupby('ytvideoid')['timestamp'].count().describe()"
   ]
  },
  {
   "cell_type": "code",
   "execution_count": 15,
   "id": "a44ec52b",
   "metadata": {},
   "outputs": [
    {
     "data": {
      "text/plain": [
       "count                      1529759\n",
       "mean     0 days 00:29:53.520155789\n",
       "std      0 days 00:44:15.257426654\n",
       "min                0 days 00:00:00\n",
       "25%                0 days 00:30:00\n",
       "50%                0 days 00:30:00\n",
       "75%                0 days 00:30:00\n",
       "max                7 days 19:00:00\n",
       "Name: time_diff, dtype: object"
      ]
     },
     "execution_count": 15,
     "metadata": {},
     "output_type": "execute_result"
    }
   ],
   "source": [
    "df['time_diff'] = df.groupby('ytvideoid')['timestamp'].diff()\n",
    "df['time_diff'].describe()"
   ]
  },
  {
   "cell_type": "markdown",
   "id": "0de60256",
   "metadata": {},
   "source": [
    "# Clean data"
   ]
  },
  {
   "cell_type": "markdown",
   "id": "3d93da3e",
   "metadata": {},
   "source": [
    "Only rows with 30 min separation"
   ]
  },
  {
   "cell_type": "code",
   "execution_count": 75,
   "id": "d05f14f2",
   "metadata": {},
   "outputs": [
    {
     "data": {
      "text/html": [
       "<div>\n",
       "<style scoped>\n",
       "    .dataframe tbody tr th:only-of-type {\n",
       "        vertical-align: middle;\n",
       "    }\n",
       "\n",
       "    .dataframe tbody tr th {\n",
       "        vertical-align: top;\n",
       "    }\n",
       "\n",
       "    .dataframe thead th {\n",
       "        text-align: right;\n",
       "    }\n",
       "</style>\n",
       "<table border=\"1\" class=\"dataframe\">\n",
       "  <thead>\n",
       "    <tr style=\"text-align: right;\">\n",
       "      <th></th>\n",
       "      <th>videostatsid</th>\n",
       "      <th>ytvideoid</th>\n",
       "      <th>views</th>\n",
       "      <th>comments</th>\n",
       "      <th>likes</th>\n",
       "      <th>dislikes</th>\n",
       "      <th>timestamp</th>\n",
       "    </tr>\n",
       "  </thead>\n",
       "  <tbody>\n",
       "    <tr>\n",
       "      <th>0</th>\n",
       "      <td>1</td>\n",
       "      <td>0GLbwkfhYZk</td>\n",
       "      <td>5722228</td>\n",
       "      <td>28229</td>\n",
       "      <td>185188</td>\n",
       "      <td>10860</td>\n",
       "      <td>2019-04-15 04:30:00</td>\n",
       "    </tr>\n",
       "    <tr>\n",
       "      <th>1</th>\n",
       "      <td>2</td>\n",
       "      <td>O4NB73HTlxI</td>\n",
       "      <td>3673770</td>\n",
       "      <td>31565</td>\n",
       "      <td>278477</td>\n",
       "      <td>4705</td>\n",
       "      <td>2019-04-15 04:30:00</td>\n",
       "    </tr>\n",
       "    <tr>\n",
       "      <th>2</th>\n",
       "      <td>3</td>\n",
       "      <td>VVRcXtSjPcE</td>\n",
       "      <td>253613</td>\n",
       "      <td>1025</td>\n",
       "      <td>4587</td>\n",
       "      <td>87</td>\n",
       "      <td>2019-04-15 04:30:00</td>\n",
       "    </tr>\n",
       "    <tr>\n",
       "      <th>3</th>\n",
       "      <td>4</td>\n",
       "      <td>adzYW5DZoWs</td>\n",
       "      <td>21567972</td>\n",
       "      <td>79208</td>\n",
       "      <td>478496</td>\n",
       "      <td>61703</td>\n",
       "      <td>2019-04-15 04:30:00</td>\n",
       "    </tr>\n",
       "    <tr>\n",
       "      <th>4</th>\n",
       "      <td>5</td>\n",
       "      <td>p_8yK2kmxoo</td>\n",
       "      <td>2385064</td>\n",
       "      <td>10703</td>\n",
       "      <td>133304</td>\n",
       "      <td>1323</td>\n",
       "      <td>2019-04-15 04:30:00</td>\n",
       "    </tr>\n",
       "  </tbody>\n",
       "</table>\n",
       "</div>"
      ],
      "text/plain": [
       "   videostatsid    ytvideoid     views  comments   likes  dislikes  \\\n",
       "0             1  0GLbwkfhYZk   5722228     28229  185188     10860   \n",
       "1             2  O4NB73HTlxI   3673770     31565  278477      4705   \n",
       "2             3  VVRcXtSjPcE    253613      1025    4587        87   \n",
       "3             4  adzYW5DZoWs  21567972     79208  478496     61703   \n",
       "4             5  p_8yK2kmxoo   2385064     10703  133304      1323   \n",
       "\n",
       "            timestamp  \n",
       "0 2019-04-15 04:30:00  \n",
       "1 2019-04-15 04:30:00  \n",
       "2 2019-04-15 04:30:00  \n",
       "3 2019-04-15 04:30:00  \n",
       "4 2019-04-15 04:30:00  "
      ]
     },
     "execution_count": 75,
     "metadata": {},
     "output_type": "execute_result"
    }
   ],
   "source": [
    "df_30min = df[df['time_diff'] == pd.Timedelta('30min')]\n",
    "first_rows = df.groupby('ytvideoid').head(1).index\n",
    "df = df.loc[df_30min.index.union(first_rows)]\n",
    "df.drop(columns='time_diff', inplace=True)\n",
    "df.head()"
   ]
  },
  {
   "cell_type": "markdown",
   "id": "0cb9d169",
   "metadata": {},
   "source": [
    "Onyl videos with more than 48 (24hs) registers"
   ]
  },
  {
   "cell_type": "code",
   "execution_count": 76,
   "id": "dd719f41",
   "metadata": {},
   "outputs": [
    {
     "data": {
      "text/html": [
       "<div>\n",
       "<style scoped>\n",
       "    .dataframe tbody tr th:only-of-type {\n",
       "        vertical-align: middle;\n",
       "    }\n",
       "\n",
       "    .dataframe tbody tr th {\n",
       "        vertical-align: top;\n",
       "    }\n",
       "\n",
       "    .dataframe thead th {\n",
       "        text-align: right;\n",
       "    }\n",
       "</style>\n",
       "<table border=\"1\" class=\"dataframe\">\n",
       "  <thead>\n",
       "    <tr style=\"text-align: right;\">\n",
       "      <th></th>\n",
       "      <th>videostatsid</th>\n",
       "      <th>ytvideoid</th>\n",
       "      <th>views</th>\n",
       "      <th>comments</th>\n",
       "      <th>likes</th>\n",
       "      <th>dislikes</th>\n",
       "      <th>timestamp</th>\n",
       "    </tr>\n",
       "  </thead>\n",
       "  <tbody>\n",
       "    <tr>\n",
       "      <th>2802</th>\n",
       "      <td>2803</td>\n",
       "      <td>--Oly6yY5To</td>\n",
       "      <td>354013</td>\n",
       "      <td>2472</td>\n",
       "      <td>8037</td>\n",
       "      <td>1208</td>\n",
       "      <td>2019-04-15 11:30:00</td>\n",
       "    </tr>\n",
       "    <tr>\n",
       "      <th>2901</th>\n",
       "      <td>2902</td>\n",
       "      <td>--Oly6yY5To</td>\n",
       "      <td>355038</td>\n",
       "      <td>2486</td>\n",
       "      <td>8083</td>\n",
       "      <td>1220</td>\n",
       "      <td>2019-04-15 12:00:00</td>\n",
       "    </tr>\n",
       "    <tr>\n",
       "      <th>3099</th>\n",
       "      <td>3100</td>\n",
       "      <td>--Oly6yY5To</td>\n",
       "      <td>358091</td>\n",
       "      <td>2494</td>\n",
       "      <td>8154</td>\n",
       "      <td>1242</td>\n",
       "      <td>2019-04-15 12:30:00</td>\n",
       "    </tr>\n",
       "    <tr>\n",
       "      <th>3298</th>\n",
       "      <td>3299</td>\n",
       "      <td>--Oly6yY5To</td>\n",
       "      <td>361332</td>\n",
       "      <td>2516</td>\n",
       "      <td>8231</td>\n",
       "      <td>1265</td>\n",
       "      <td>2019-04-15 13:00:00</td>\n",
       "    </tr>\n",
       "    <tr>\n",
       "      <th>3496</th>\n",
       "      <td>3497</td>\n",
       "      <td>--Oly6yY5To</td>\n",
       "      <td>364443</td>\n",
       "      <td>2547</td>\n",
       "      <td>8304</td>\n",
       "      <td>1288</td>\n",
       "      <td>2019-04-15 13:30:00</td>\n",
       "    </tr>\n",
       "    <tr>\n",
       "      <th>...</th>\n",
       "      <td>...</td>\n",
       "      <td>...</td>\n",
       "      <td>...</td>\n",
       "      <td>...</td>\n",
       "      <td>...</td>\n",
       "      <td>...</td>\n",
       "      <td>...</td>\n",
       "    </tr>\n",
       "    <tr>\n",
       "      <th>604270</th>\n",
       "      <td>604271</td>\n",
       "      <td>zzrAx_he5oY</td>\n",
       "      <td>753130</td>\n",
       "      <td>5237</td>\n",
       "      <td>41054</td>\n",
       "      <td>717</td>\n",
       "      <td>2019-08-20 08:30:00</td>\n",
       "    </tr>\n",
       "    <tr>\n",
       "      <th>604370</th>\n",
       "      <td>604371</td>\n",
       "      <td>zzrAx_he5oY</td>\n",
       "      <td>753544</td>\n",
       "      <td>5237</td>\n",
       "      <td>41064</td>\n",
       "      <td>718</td>\n",
       "      <td>2019-08-20 09:00:00</td>\n",
       "    </tr>\n",
       "    <tr>\n",
       "      <th>604470</th>\n",
       "      <td>604471</td>\n",
       "      <td>zzrAx_he5oY</td>\n",
       "      <td>753974</td>\n",
       "      <td>5240</td>\n",
       "      <td>41079</td>\n",
       "      <td>717</td>\n",
       "      <td>2019-08-20 09:30:00</td>\n",
       "    </tr>\n",
       "    <tr>\n",
       "      <th>604570</th>\n",
       "      <td>604571</td>\n",
       "      <td>zzrAx_he5oY</td>\n",
       "      <td>754419</td>\n",
       "      <td>5240</td>\n",
       "      <td>41110</td>\n",
       "      <td>717</td>\n",
       "      <td>2019-08-20 10:00:00</td>\n",
       "    </tr>\n",
       "    <tr>\n",
       "      <th>604673</th>\n",
       "      <td>604674</td>\n",
       "      <td>zzrAx_he5oY</td>\n",
       "      <td>754922</td>\n",
       "      <td>5240</td>\n",
       "      <td>41130</td>\n",
       "      <td>716</td>\n",
       "      <td>2019-08-20 10:30:00</td>\n",
       "    </tr>\n",
       "  </tbody>\n",
       "</table>\n",
       "<p>1425293 rows × 7 columns</p>\n",
       "</div>"
      ],
      "text/plain": [
       "        videostatsid    ytvideoid   views  comments  likes  dislikes  \\\n",
       "2802            2803  --Oly6yY5To  354013      2472   8037      1208   \n",
       "2901            2902  --Oly6yY5To  355038      2486   8083      1220   \n",
       "3099            3100  --Oly6yY5To  358091      2494   8154      1242   \n",
       "3298            3299  --Oly6yY5To  361332      2516   8231      1265   \n",
       "3496            3497  --Oly6yY5To  364443      2547   8304      1288   \n",
       "...              ...          ...     ...       ...    ...       ...   \n",
       "604270        604271  zzrAx_he5oY  753130      5237  41054       717   \n",
       "604370        604371  zzrAx_he5oY  753544      5237  41064       718   \n",
       "604470        604471  zzrAx_he5oY  753974      5240  41079       717   \n",
       "604570        604571  zzrAx_he5oY  754419      5240  41110       717   \n",
       "604673        604674  zzrAx_he5oY  754922      5240  41130       716   \n",
       "\n",
       "                 timestamp  \n",
       "2802   2019-04-15 11:30:00  \n",
       "2901   2019-04-15 12:00:00  \n",
       "3099   2019-04-15 12:30:00  \n",
       "3298   2019-04-15 13:00:00  \n",
       "3496   2019-04-15 13:30:00  \n",
       "...                    ...  \n",
       "604270 2019-08-20 08:30:00  \n",
       "604370 2019-08-20 09:00:00  \n",
       "604470 2019-08-20 09:30:00  \n",
       "604570 2019-08-20 10:00:00  \n",
       "604673 2019-08-20 10:30:00  \n",
       "\n",
       "[1425293 rows x 7 columns]"
      ]
     },
     "execution_count": 76,
     "metadata": {},
     "output_type": "execute_result"
    }
   ],
   "source": [
    "min_rows = 48\n",
    "df = df.groupby('ytvideoid').filter(lambda x: len(x) >= min_rows)\n",
    "df = df.sort_values(['ytvideoid', 'timestamp'])\n",
    "df"
   ]
  },
  {
   "cell_type": "markdown",
   "id": "bd9a1e36",
   "metadata": {},
   "source": [
    "Ytvideoid to int"
   ]
  },
  {
   "cell_type": "code",
   "execution_count": 77,
   "id": "fe2f92e7",
   "metadata": {},
   "outputs": [
    {
     "name": "stdout",
     "output_type": "stream",
     "text": [
      "1425293\n"
     ]
    },
    {
     "data": {
      "text/html": [
       "<div>\n",
       "<style scoped>\n",
       "    .dataframe tbody tr th:only-of-type {\n",
       "        vertical-align: middle;\n",
       "    }\n",
       "\n",
       "    .dataframe tbody tr th {\n",
       "        vertical-align: top;\n",
       "    }\n",
       "\n",
       "    .dataframe thead th {\n",
       "        text-align: right;\n",
       "    }\n",
       "</style>\n",
       "<table border=\"1\" class=\"dataframe\">\n",
       "  <thead>\n",
       "    <tr style=\"text-align: right;\">\n",
       "      <th></th>\n",
       "      <th>ytvideoid</th>\n",
       "      <th>views</th>\n",
       "      <th>comments</th>\n",
       "      <th>likes</th>\n",
       "      <th>dislikes</th>\n",
       "      <th>timestamp</th>\n",
       "    </tr>\n",
       "  </thead>\n",
       "  <tbody>\n",
       "    <tr>\n",
       "      <th>2802</th>\n",
       "      <td>0</td>\n",
       "      <td>354013</td>\n",
       "      <td>2472</td>\n",
       "      <td>8037</td>\n",
       "      <td>1208</td>\n",
       "      <td>2019-04-15 11:30:00</td>\n",
       "    </tr>\n",
       "    <tr>\n",
       "      <th>2901</th>\n",
       "      <td>0</td>\n",
       "      <td>355038</td>\n",
       "      <td>2486</td>\n",
       "      <td>8083</td>\n",
       "      <td>1220</td>\n",
       "      <td>2019-04-15 12:00:00</td>\n",
       "    </tr>\n",
       "    <tr>\n",
       "      <th>3099</th>\n",
       "      <td>0</td>\n",
       "      <td>358091</td>\n",
       "      <td>2494</td>\n",
       "      <td>8154</td>\n",
       "      <td>1242</td>\n",
       "      <td>2019-04-15 12:30:00</td>\n",
       "    </tr>\n",
       "    <tr>\n",
       "      <th>3298</th>\n",
       "      <td>0</td>\n",
       "      <td>361332</td>\n",
       "      <td>2516</td>\n",
       "      <td>8231</td>\n",
       "      <td>1265</td>\n",
       "      <td>2019-04-15 13:00:00</td>\n",
       "    </tr>\n",
       "    <tr>\n",
       "      <th>3496</th>\n",
       "      <td>0</td>\n",
       "      <td>364443</td>\n",
       "      <td>2547</td>\n",
       "      <td>8304</td>\n",
       "      <td>1288</td>\n",
       "      <td>2019-04-15 13:30:00</td>\n",
       "    </tr>\n",
       "  </tbody>\n",
       "</table>\n",
       "</div>"
      ],
      "text/plain": [
       "      ytvideoid   views  comments  likes  dislikes           timestamp\n",
       "2802          0  354013      2472   8037      1208 2019-04-15 11:30:00\n",
       "2901          0  355038      2486   8083      1220 2019-04-15 12:00:00\n",
       "3099          0  358091      2494   8154      1242 2019-04-15 12:30:00\n",
       "3298          0  361332      2516   8231      1265 2019-04-15 13:00:00\n",
       "3496          0  364443      2547   8304      1288 2019-04-15 13:30:00"
      ]
     },
     "execution_count": 77,
     "metadata": {},
     "output_type": "execute_result"
    }
   ],
   "source": [
    "df.drop(columns=['videostatsid'], inplace=True)\n",
    "df['ytvideoid'] = df['ytvideoid'].astype('category').cat.codes\n",
    "print(len(df))\n",
    "df.head()"
   ]
  },
  {
   "cell_type": "markdown",
   "id": "7c3dd319",
   "metadata": {},
   "source": [
    "Removing outliers using iqr"
   ]
  },
  {
   "cell_type": "code",
   "execution_count": 78,
   "id": "6045f7dc",
   "metadata": {},
   "outputs": [
    {
     "data": {
      "text/html": [
       "<div>\n",
       "<style scoped>\n",
       "    .dataframe tbody tr th:only-of-type {\n",
       "        vertical-align: middle;\n",
       "    }\n",
       "\n",
       "    .dataframe tbody tr th {\n",
       "        vertical-align: top;\n",
       "    }\n",
       "\n",
       "    .dataframe thead th {\n",
       "        text-align: right;\n",
       "    }\n",
       "</style>\n",
       "<table border=\"1\" class=\"dataframe\">\n",
       "  <thead>\n",
       "    <tr style=\"text-align: right;\">\n",
       "      <th></th>\n",
       "      <th>ytvideoid</th>\n",
       "      <th>views</th>\n",
       "      <th>comments</th>\n",
       "      <th>likes</th>\n",
       "      <th>dislikes</th>\n",
       "      <th>timestamp</th>\n",
       "    </tr>\n",
       "  </thead>\n",
       "  <tbody>\n",
       "    <tr>\n",
       "      <th>2802</th>\n",
       "      <td>0</td>\n",
       "      <td>354013</td>\n",
       "      <td>2472</td>\n",
       "      <td>8037</td>\n",
       "      <td>1208</td>\n",
       "      <td>2019-04-15 11:30:00</td>\n",
       "    </tr>\n",
       "    <tr>\n",
       "      <th>2901</th>\n",
       "      <td>0</td>\n",
       "      <td>355038</td>\n",
       "      <td>2486</td>\n",
       "      <td>8083</td>\n",
       "      <td>1220</td>\n",
       "      <td>2019-04-15 12:00:00</td>\n",
       "    </tr>\n",
       "    <tr>\n",
       "      <th>3099</th>\n",
       "      <td>0</td>\n",
       "      <td>358091</td>\n",
       "      <td>2494</td>\n",
       "      <td>8154</td>\n",
       "      <td>1242</td>\n",
       "      <td>2019-04-15 12:30:00</td>\n",
       "    </tr>\n",
       "    <tr>\n",
       "      <th>3298</th>\n",
       "      <td>0</td>\n",
       "      <td>361332</td>\n",
       "      <td>2516</td>\n",
       "      <td>8231</td>\n",
       "      <td>1265</td>\n",
       "      <td>2019-04-15 13:00:00</td>\n",
       "    </tr>\n",
       "    <tr>\n",
       "      <th>3496</th>\n",
       "      <td>0</td>\n",
       "      <td>364443</td>\n",
       "      <td>2547</td>\n",
       "      <td>8304</td>\n",
       "      <td>1288</td>\n",
       "      <td>2019-04-15 13:30:00</td>\n",
       "    </tr>\n",
       "  </tbody>\n",
       "</table>\n",
       "</div>"
      ],
      "text/plain": [
       "      ytvideoid   views  comments  likes  dislikes           timestamp\n",
       "2802          0  354013      2472   8037      1208 2019-04-15 11:30:00\n",
       "2901          0  355038      2486   8083      1220 2019-04-15 12:00:00\n",
       "3099          0  358091      2494   8154      1242 2019-04-15 12:30:00\n",
       "3298          0  361332      2516   8231      1265 2019-04-15 13:00:00\n",
       "3496          0  364443      2547   8304      1288 2019-04-15 13:30:00"
      ]
     },
     "execution_count": 78,
     "metadata": {},
     "output_type": "execute_result"
    }
   ],
   "source": [
    "def remove_outliers_iqr(df, cols, k=1.5):\n",
    "    df_clean = df.copy()\n",
    "    for col in cols:\n",
    "        Q1 = df[col].quantile(0.25)\n",
    "        Q3 = df[col].quantile(0.75)\n",
    "        IQR = Q3 - Q1\n",
    "        lower = Q1 - k * IQR\n",
    "        upper = Q3 + k * IQR\n",
    "        df_clean = df_clean[(df_clean[col] >= lower) & (df_clean[col] <= upper)]\n",
    "    return df_clean\n",
    "\n",
    "df = remove_outliers_iqr(df, ['views', 'comments', 'likes', 'dislikes'])\n",
    "df.head()"
   ]
  },
  {
   "cell_type": "code",
   "execution_count": 79,
   "id": "a6dd29af",
   "metadata": {},
   "outputs": [
    {
     "data": {
      "text/plain": [
       "1152714"
      ]
     },
     "execution_count": 79,
     "metadata": {},
     "output_type": "execute_result"
    }
   ],
   "source": [
    "len(df)"
   ]
  },
  {
   "cell_type": "code",
   "execution_count": 80,
   "id": "31b7f4f7",
   "metadata": {},
   "outputs": [
    {
     "data": {
      "text/html": [
       "<div>\n",
       "<style scoped>\n",
       "    .dataframe tbody tr th:only-of-type {\n",
       "        vertical-align: middle;\n",
       "    }\n",
       "\n",
       "    .dataframe tbody tr th {\n",
       "        vertical-align: top;\n",
       "    }\n",
       "\n",
       "    .dataframe thead th {\n",
       "        text-align: right;\n",
       "    }\n",
       "</style>\n",
       "<table border=\"1\" class=\"dataframe\">\n",
       "  <thead>\n",
       "    <tr style=\"text-align: right;\">\n",
       "      <th></th>\n",
       "      <th>ytvideoid</th>\n",
       "      <th>views</th>\n",
       "      <th>comments</th>\n",
       "      <th>likes</th>\n",
       "      <th>dislikes</th>\n",
       "      <th>timestamp</th>\n",
       "    </tr>\n",
       "  </thead>\n",
       "  <tbody>\n",
       "    <tr>\n",
       "      <th>count</th>\n",
       "      <td>1.152714e+06</td>\n",
       "      <td>1.152714e+06</td>\n",
       "      <td>1.152714e+06</td>\n",
       "      <td>1.152714e+06</td>\n",
       "      <td>1.152714e+06</td>\n",
       "      <td>1152714</td>\n",
       "    </tr>\n",
       "    <tr>\n",
       "      <th>mean</th>\n",
       "      <td>4.864105e+03</td>\n",
       "      <td>1.129981e+06</td>\n",
       "      <td>4.259493e+03</td>\n",
       "      <td>4.710017e+04</td>\n",
       "      <td>1.158373e+03</td>\n",
       "      <td>2019-10-21 21:05:28.346493952</td>\n",
       "    </tr>\n",
       "    <tr>\n",
       "      <th>min</th>\n",
       "      <td>0.000000e+00</td>\n",
       "      <td>3.969000e+03</td>\n",
       "      <td>0.000000e+00</td>\n",
       "      <td>1.040000e+02</td>\n",
       "      <td>6.000000e+00</td>\n",
       "      <td>2019-04-15 04:30:00</td>\n",
       "    </tr>\n",
       "    <tr>\n",
       "      <th>25%</th>\n",
       "      <td>2.437000e+03</td>\n",
       "      <td>5.377662e+05</td>\n",
       "      <td>1.714000e+03</td>\n",
       "      <td>1.613800e+04</td>\n",
       "      <td>4.100000e+02</td>\n",
       "      <td>2019-07-10 11:00:00</td>\n",
       "    </tr>\n",
       "    <tr>\n",
       "      <th>50%</th>\n",
       "      <td>4.850000e+03</td>\n",
       "      <td>8.954160e+05</td>\n",
       "      <td>3.216000e+03</td>\n",
       "      <td>3.409800e+04</td>\n",
       "      <td>7.900000e+02</td>\n",
       "      <td>2019-11-06 23:30:00</td>\n",
       "    </tr>\n",
       "    <tr>\n",
       "      <th>75%</th>\n",
       "      <td>7.300000e+03</td>\n",
       "      <td>1.490897e+06</td>\n",
       "      <td>5.682000e+03</td>\n",
       "      <td>6.535700e+04</td>\n",
       "      <td>1.549000e+03</td>\n",
       "      <td>2020-01-29 06:00:00</td>\n",
       "    </tr>\n",
       "    <tr>\n",
       "      <th>max</th>\n",
       "      <td>9.745000e+03</td>\n",
       "      <td>4.584383e+06</td>\n",
       "      <td>1.927100e+04</td>\n",
       "      <td>2.223060e+05</td>\n",
       "      <td>5.716000e+03</td>\n",
       "      <td>2020-04-14 23:30:00</td>\n",
       "    </tr>\n",
       "    <tr>\n",
       "      <th>std</th>\n",
       "      <td>2.801633e+03</td>\n",
       "      <td>8.198984e+05</td>\n",
       "      <td>3.529776e+03</td>\n",
       "      <td>4.269966e+04</td>\n",
       "      <td>1.067671e+03</td>\n",
       "      <td>NaN</td>\n",
       "    </tr>\n",
       "  </tbody>\n",
       "</table>\n",
       "</div>"
      ],
      "text/plain": [
       "          ytvideoid         views      comments         likes      dislikes  \\\n",
       "count  1.152714e+06  1.152714e+06  1.152714e+06  1.152714e+06  1.152714e+06   \n",
       "mean   4.864105e+03  1.129981e+06  4.259493e+03  4.710017e+04  1.158373e+03   \n",
       "min    0.000000e+00  3.969000e+03  0.000000e+00  1.040000e+02  6.000000e+00   \n",
       "25%    2.437000e+03  5.377662e+05  1.714000e+03  1.613800e+04  4.100000e+02   \n",
       "50%    4.850000e+03  8.954160e+05  3.216000e+03  3.409800e+04  7.900000e+02   \n",
       "75%    7.300000e+03  1.490897e+06  5.682000e+03  6.535700e+04  1.549000e+03   \n",
       "max    9.745000e+03  4.584383e+06  1.927100e+04  2.223060e+05  5.716000e+03   \n",
       "std    2.801633e+03  8.198984e+05  3.529776e+03  4.269966e+04  1.067671e+03   \n",
       "\n",
       "                           timestamp  \n",
       "count                        1152714  \n",
       "mean   2019-10-21 21:05:28.346493952  \n",
       "min              2019-04-15 04:30:00  \n",
       "25%              2019-07-10 11:00:00  \n",
       "50%              2019-11-06 23:30:00  \n",
       "75%              2020-01-29 06:00:00  \n",
       "max              2020-04-14 23:30:00  \n",
       "std                              NaN  "
      ]
     },
     "execution_count": 80,
     "metadata": {},
     "output_type": "execute_result"
    }
   ],
   "source": [
    "df.describe()"
   ]
  },
  {
   "cell_type": "markdown",
   "id": "0a4eba7c",
   "metadata": {},
   "source": [
    "New data distribution"
   ]
  },
  {
   "cell_type": "code",
   "execution_count": 81,
   "id": "9ba33769",
   "metadata": {},
   "outputs": [
    {
     "data": {
      "image/png": "[encoded data removed]",
      "text/plain": [
       "<Figure size 1200x800 with 4 Axes>"
      ]
     },
     "metadata": {},
     "output_type": "display_data"
    }
   ],
   "source": [
    "cols = ['views', 'comments', 'likes', 'dislikes']\n",
    "df[cols].hist(bins=20, figsize=(12, 8))\n",
    "plt.tight_layout()\n",
    "plt.show()"
   ]
  },
  {
   "cell_type": "code",
   "execution_count": 82,
   "id": "d08f88d1",
   "metadata": {},
   "outputs": [
    {
     "data": {
      "image/png": "[encoded data removed]",
      "text/plain": [
       "<Figure size 1200x1000 with 16 Axes>"
      ]
     },
     "metadata": {},
     "output_type": "display_data"
    }
   ],
   "source": [
    "df[cols].plot(kind='density', subplots=True, layout=(4, 4), sharex=False, figsize=(12, 10))\n",
    "plt.tight_layout()\n",
    "plt.show()"
   ]
  },
  {
   "cell_type": "markdown",
   "id": "f1ce8598",
   "metadata": {},
   "source": [
    "# Split data"
   ]
  },
  {
   "cell_type": "code",
   "execution_count": 91,
   "id": "e7996131",
   "metadata": {},
   "outputs": [
    {
     "name": "stdout",
     "output_type": "stream",
     "text": [
      "Train size: 862269\n",
      "Val size: 174518\n",
      "Test size: 115927\n"
     ]
    }
   ],
   "source": [
    "from sklearn.model_selection import train_test_split\n",
    "\n",
    "train_ratio = 0.75\n",
    "val_ratio = 0.15\n",
    "test_ratio = 0.1\n",
    "\n",
    "videos_id = df['ytvideoid'].unique()\n",
    "\n",
    "train_ids, test_ids = train_test_split(videos_id, test_size = 1-train_ratio)\n",
    "val_ids, test_ids = train_test_split(test_ids, test_size = test_ratio/(test_ratio+val_ratio))\n",
    "\n",
    "train_df = df[df['ytvideoid'].isin(train_ids)]\n",
    "val_df = df[df['ytvideoid'].isin(val_ids)]\n",
    "test_df = df[df['ytvideoid'].isin(test_ids)]\n",
    "\n",
    "print(f'Train size: {len(train_df)}\\nVal size: {len(val_df)}\\nTest size: {len(test_df)}')"
   ]
  },
  {
   "cell_type": "code",
   "execution_count": 103,
   "id": "7e3aeb1b",
   "metadata": {},
   "outputs": [
    {
     "name": "stdout",
     "output_type": "stream",
     "text": [
      "6769\n",
      "1354\n",
      "903\n"
     ]
    }
   ],
   "source": [
    "print(len(train_ids))\n",
    "print(len(val_ids))\n",
    "print(len(test_ids))"
   ]
  },
  {
   "cell_type": "code",
   "execution_count": 92,
   "id": "5d7e48b4",
   "metadata": {},
   "outputs": [],
   "source": [
    "train_df.to_csv('train_data.csv', index=False)\n",
    "val_df.to_csv('val_data.csv', index=False)\n",
    "test_df.to_csv('test_data.csv', index=False)"
   ]
  }
 ],
 "metadata": {
  "kernelspec": {
   "display_name": "multibranch-ts-nn",
   "language": "python",
   "name": "multibranch-ts-nn"
  },
  "language_info": {
   "codemirror_mode": {
    "name": "ipython",
    "version": 3
   },
   "file_extension": ".py",
   "mimetype": "text/x-python",
   "name": "python",
   "nbconvert_exporter": "python",
   "pygments_lexer": "ipython3",
   "version": "3.10.18"
  }
 },
 "nbformat": 4,
 "nbformat_minor": 5
}
