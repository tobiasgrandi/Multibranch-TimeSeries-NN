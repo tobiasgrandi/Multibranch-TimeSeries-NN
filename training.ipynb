{
 "cells": [
  {
   "cell_type": "code",
   "execution_count": 6,
   "id": "ed16ba85",
   "metadata": {},
   "outputs": [],
   "source": [
    "from model.MultiBranchModel import MultiBranchModel\n",
    "from model.LSTMModel import LSTMModel\n",
    "from model.GRUModel import GRUModel \n",
    "from helpers.Trainer import Trainer\n",
    "from helpers.Tester import Tester\n",
    "from helpers.YoutubeDataset import YoutubeDataset\n",
    "from helpers.EarlyStopping import EarlyStopping\n",
    "from torch.utils.data import DataLoader\n",
    "import pandas as pd\n",
    "import matplotlib.pyplot as plt\n",
    "from sklearn.preprocessing import StandardScaler\n"
   ]
  },
  {
   "cell_type": "markdown",
   "id": "34759a46",
   "metadata": {},
   "source": [
    "# Load data"
   ]
  },
  {
   "cell_type": "code",
   "execution_count": 7,
   "id": "c9c0c624",
   "metadata": {},
   "outputs": [
    {
     "data": {
      "text/html": [
       "<div>\n",
       "<style scoped>\n",
       "    .dataframe tbody tr th:only-of-type {\n",
       "        vertical-align: middle;\n",
       "    }\n",
       "\n",
       "    .dataframe tbody tr th {\n",
       "        vertical-align: top;\n",
       "    }\n",
       "\n",
       "    .dataframe thead th {\n",
       "        text-align: right;\n",
       "    }\n",
       "</style>\n",
       "<table border=\"1\" class=\"dataframe\">\n",
       "  <thead>\n",
       "    <tr style=\"text-align: right;\">\n",
       "      <th></th>\n",
       "      <th>ytvideoid</th>\n",
       "      <th>views</th>\n",
       "      <th>comments</th>\n",
       "      <th>likes</th>\n",
       "      <th>dislikes</th>\n",
       "      <th>timestamp</th>\n",
       "    </tr>\n",
       "  </thead>\n",
       "  <tbody>\n",
       "    <tr>\n",
       "      <th>0</th>\n",
       "      <td>1</td>\n",
       "      <td>472549</td>\n",
       "      <td>3887</td>\n",
       "      <td>72559</td>\n",
       "      <td>1339</td>\n",
       "      <td>2019-11-25 17:30:00</td>\n",
       "    </tr>\n",
       "    <tr>\n",
       "      <th>1</th>\n",
       "      <td>1</td>\n",
       "      <td>472549</td>\n",
       "      <td>4026</td>\n",
       "      <td>74427</td>\n",
       "      <td>1365</td>\n",
       "      <td>2019-11-25 18:00:00</td>\n",
       "    </tr>\n",
       "    <tr>\n",
       "      <th>2</th>\n",
       "      <td>1</td>\n",
       "      <td>472549</td>\n",
       "      <td>4150</td>\n",
       "      <td>76092</td>\n",
       "      <td>1388</td>\n",
       "      <td>2019-11-25 18:30:00</td>\n",
       "    </tr>\n",
       "    <tr>\n",
       "      <th>3</th>\n",
       "      <td>1</td>\n",
       "      <td>485143</td>\n",
       "      <td>4235</td>\n",
       "      <td>77472</td>\n",
       "      <td>1420</td>\n",
       "      <td>2019-11-25 19:00:00</td>\n",
       "    </tr>\n",
       "    <tr>\n",
       "      <th>4</th>\n",
       "      <td>1</td>\n",
       "      <td>532254</td>\n",
       "      <td>4334</td>\n",
       "      <td>78655</td>\n",
       "      <td>1443</td>\n",
       "      <td>2019-11-25 19:30:00</td>\n",
       "    </tr>\n",
       "  </tbody>\n",
       "</table>\n",
       "</div>"
      ],
      "text/plain": [
       "   ytvideoid   views  comments  likes  dislikes            timestamp\n",
       "0          1  472549      3887  72559      1339  2019-11-25 17:30:00\n",
       "1          1  472549      4026  74427      1365  2019-11-25 18:00:00\n",
       "2          1  472549      4150  76092      1388  2019-11-25 18:30:00\n",
       "3          1  485143      4235  77472      1420  2019-11-25 19:00:00\n",
       "4          1  532254      4334  78655      1443  2019-11-25 19:30:00"
      ]
     },
     "execution_count": 7,
     "metadata": {},
     "output_type": "execute_result"
    }
   ],
   "source": [
    "train_data = pd.read_csv('data/train_data.csv')\n",
    "val_data = pd.read_csv('data/val_data.csv')\n",
    "test_data = pd.read_csv('data/test_data.csv')\n",
    "train_data.head()"
   ]
  },
  {
   "cell_type": "code",
   "execution_count": 8,
   "id": "4245174a",
   "metadata": {},
   "outputs": [
    {
     "data": {
      "text/html": [
       "<div>\n",
       "<style scoped>\n",
       "    .dataframe tbody tr th:only-of-type {\n",
       "        vertical-align: middle;\n",
       "    }\n",
       "\n",
       "    .dataframe tbody tr th {\n",
       "        vertical-align: top;\n",
       "    }\n",
       "\n",
       "    .dataframe thead th {\n",
       "        text-align: right;\n",
       "    }\n",
       "</style>\n",
       "<table border=\"1\" class=\"dataframe\">\n",
       "  <thead>\n",
       "    <tr style=\"text-align: right;\">\n",
       "      <th></th>\n",
       "      <th>ytvideoid</th>\n",
       "      <th>views</th>\n",
       "      <th>comments</th>\n",
       "      <th>likes</th>\n",
       "      <th>dislikes</th>\n",
       "      <th>timestamp</th>\n",
       "    </tr>\n",
       "  </thead>\n",
       "  <tbody>\n",
       "    <tr>\n",
       "      <th>0</th>\n",
       "      <td>1</td>\n",
       "      <td>-0.405903</td>\n",
       "      <td>-0.157636</td>\n",
       "      <td>-0.160458</td>\n",
       "      <td>-0.040363</td>\n",
       "      <td>2019-11-25 17:30:00</td>\n",
       "    </tr>\n",
       "    <tr>\n",
       "      <th>1</th>\n",
       "      <td>1</td>\n",
       "      <td>-0.405903</td>\n",
       "      <td>-0.154329</td>\n",
       "      <td>-0.153561</td>\n",
       "      <td>-0.040076</td>\n",
       "      <td>2019-11-25 18:00:00</td>\n",
       "    </tr>\n",
       "    <tr>\n",
       "      <th>2</th>\n",
       "      <td>1</td>\n",
       "      <td>-0.405903</td>\n",
       "      <td>-0.151378</td>\n",
       "      <td>-0.147413</td>\n",
       "      <td>-0.039823</td>\n",
       "      <td>2019-11-25 18:30:00</td>\n",
       "    </tr>\n",
       "    <tr>\n",
       "      <th>3</th>\n",
       "      <td>1</td>\n",
       "      <td>-0.403192</td>\n",
       "      <td>-0.149355</td>\n",
       "      <td>-0.142317</td>\n",
       "      <td>-0.039470</td>\n",
       "      <td>2019-11-25 19:00:00</td>\n",
       "    </tr>\n",
       "    <tr>\n",
       "      <th>4</th>\n",
       "      <td>1</td>\n",
       "      <td>-0.393049</td>\n",
       "      <td>-0.146999</td>\n",
       "      <td>-0.137949</td>\n",
       "      <td>-0.039217</td>\n",
       "      <td>2019-11-25 19:30:00</td>\n",
       "    </tr>\n",
       "  </tbody>\n",
       "</table>\n",
       "</div>"
      ],
      "text/plain": [
       "   ytvideoid     views  comments     likes  dislikes            timestamp\n",
       "0          1 -0.405903 -0.157636 -0.160458 -0.040363  2019-11-25 17:30:00\n",
       "1          1 -0.405903 -0.154329 -0.153561 -0.040076  2019-11-25 18:00:00\n",
       "2          1 -0.405903 -0.151378 -0.147413 -0.039823  2019-11-25 18:30:00\n",
       "3          1 -0.403192 -0.149355 -0.142317 -0.039470  2019-11-25 19:00:00\n",
       "4          1 -0.393049 -0.146999 -0.137949 -0.039217  2019-11-25 19:30:00"
      ]
     },
     "execution_count": 8,
     "metadata": {},
     "output_type": "execute_result"
    }
   ],
   "source": [
    "feature_cols = ['views', 'comments', 'likes', 'dislikes'] \n",
    "\n",
    "scaler = StandardScaler()\n",
    "\n",
    "scaler.fit(train_data[feature_cols])\n",
    "\n",
    "train_scaled = train_data.copy()\n",
    "train_scaled[feature_cols] = scaler.transform(train_data[feature_cols])\n",
    "\n",
    "val_scaled = val_data.copy()\n",
    "val_scaled[feature_cols] = scaler.transform(val_data[feature_cols])\n",
    "\n",
    "test_scaled = test_data.copy()\n",
    "test_scaled[feature_cols] = scaler.transform(test_data[feature_cols])\n",
    "\n",
    "train_scaled.head()"
   ]
  },
  {
   "cell_type": "code",
   "execution_count": 9,
   "id": "c8d08924",
   "metadata": {},
   "outputs": [],
   "source": [
    "def create_loaders(datasets_scaled: dict[str, pd.DataFrame], \n",
    "                    feature_cols: list[str], \n",
    "                    target: str, \n",
    "                    seq_len: int, \n",
    "                    forecast_horizon: int,\n",
    "                    batch_size: int) -> dict[str, DataLoader]:\n",
    "    \n",
    "    res: dict[str, DataLoader] = {}\n",
    "\n",
    "    for dataset_name, dataset in datasets_scaled.items():\n",
    "        yt_dataset: YoutubeDataset = YoutubeDataset(\n",
    "            df=dataset,\n",
    "            features=feature_cols,\n",
    "            target=target,\n",
    "            seq_len=seq_len,\n",
    "            forecast_horizon=forecast_horizon\n",
    "        )\n",
    "\n",
    "        dataloader: DataLoader = DataLoader(\n",
    "                            yt_dataset,\n",
    "                            batch_size=batch_size,\n",
    "                            shuffle= True if dataset_name=='train' else False,\n",
    "                            drop_last=True,\n",
    "                            num_workers=6\n",
    "                        )\n",
    "        res[dataset_name] = dataloader\n",
    "        print(yt_dataset.sequences.shape, yt_dataset.targets.shape)\n",
    "    return res"
   ]
  },
  {
   "cell_type": "code",
   "execution_count": 10,
   "id": "d6d67174",
   "metadata": {},
   "outputs": [
    {
     "name": "stdout",
     "output_type": "stream",
     "text": [
      "torch.Size([886724, 20, 3]) torch.Size([886724, 6])\n",
      "torch.Size([177206, 20, 3]) torch.Size([177206, 6])\n",
      "torch.Size([117713, 20, 3]) torch.Size([117713, 6])\n"
     ]
    }
   ],
   "source": [
    "seq_len = 20\n",
    "forecast_horizon = 6\n",
    "batch_size = 128\n",
    "feature_cols = ['comments', 'likes', 'dislikes'] \n",
    "\n",
    "datasets_scaled: dict[str, pd.DataFrame] = {'train': train_scaled,\n",
    "                                     'val': val_scaled,\n",
    "                                     'test': test_scaled}\n",
    "\n",
    "loaders = create_loaders(datasets_scaled=datasets_scaled,\n",
    "                                                        feature_cols=feature_cols,\n",
    "                                                        target='views',\n",
    "                                                        seq_len=seq_len,\n",
    "                                                        forecast_horizon=forecast_horizon,\n",
    "                                                        batch_size=batch_size)\n",
    "train_loader = loaders['train']\n",
    "val_loader = loaders['val']\n",
    "test_loader = loaders['test']"
   ]
  },
  {
   "cell_type": "markdown",
   "id": "53dc0971",
   "metadata": {},
   "source": [
    "# Train"
   ]
  },
  {
   "cell_type": "code",
   "execution_count": 20,
   "id": "8819060e",
   "metadata": {},
   "outputs": [],
   "source": [
    "import torch.optim as optim\n",
    "import torch.nn as nn\n",
    "import torch\n",
    "\n",
    "def train(model: nn.Module, train_loader: DataLoader, val_loader: DataLoader, model_file_path: str) -> tuple[list[float], list[float]]:\n",
    "\n",
    "    epochs = 5000\n",
    "    optimizer = optim.Adam(model.parameters(), lr=0.0001, weight_decay=0.001) \n",
    "    loss_fn = nn.MSELoss()\n",
    "    device = torch.device(\"cuda\" if torch.cuda.is_available() else \"cpu\")\n",
    "    print(f'DEVICE: {device.type}')\n",
    "\n",
    "    early_stopping = EarlyStopping(patience = 30,\n",
    "                                min_delta = 0.001,\n",
    "                                verbose = True,\n",
    "                                path = model_file_path)\n",
    "\n",
    "    trainer = Trainer(\n",
    "        model=model,\n",
    "        optimizer=optimizer,\n",
    "        loss_fn=loss_fn, \n",
    "        device=device,\n",
    "        early_stopping=early_stopping\n",
    "    )\n",
    "\n",
    "    train_loss, val_loss = trainer.fit(train_loader=train_loader, val_loader=val_loader, epochs=epochs)\n",
    "\n",
    "    return train_loss, val_loss"
   ]
  },
  {
   "cell_type": "code",
   "execution_count": null,
   "id": "2570b7a9",
   "metadata": {},
   "outputs": [],
   "source": [
    "multibranch_model = MultiBranchModel(\n",
    "    input_size=len(feature_cols),\n",
    "    hidden_size={'lstm': 10, 'gru': 10},\n",
    "    num_layers={'lstm': 1, 'gru': 1},\n",
    "    dropout={'lstm': 0, 'gru': 0},\n",
    "    output_size=forecast_horizon\n",
    ")\n",
    "multibranch_train_loss, multibranch_val_loss = train(model=multibranch_model, \n",
    "                                                     train_loader=train_loader, \n",
    "                                                     val_loader=val_loader,\n",
    "                                                     model_file_path='models/multibranch_model.pt')"
   ]
  },
  {
   "cell_type": "code",
   "execution_count": null,
   "id": "198c25a6",
   "metadata": {},
   "outputs": [
    {
     "name": "stdout",
     "output_type": "stream",
     "text": [
      "DEVICE: cpu\n",
      "Starting training.\n"
     ]
    },
    {
     "name": "stderr",
     "output_type": "stream",
     "text": [
      "                                   \r"
     ]
    },
    {
     "name": "stdout",
     "output_type": "stream",
     "text": [
      "Epoch [1/5000] | Training Loss: 0.6561 | Validation Loss: 0.3177\n",
      "Validation loss improved to 0.3177\n"
     ]
    },
    {
     "name": "stderr",
     "output_type": "stream",
     "text": [
      "                                   \r"
     ]
    },
    {
     "name": "stdout",
     "output_type": "stream",
     "text": [
      "Epoch [2/5000] | Training Loss: 0.3943 | Validation Loss: 0.2463\n",
      "Validation loss improved to 0.2463\n"
     ]
    },
    {
     "name": "stderr",
     "output_type": "stream",
     "text": [
      "                                   \r"
     ]
    },
    {
     "name": "stdout",
     "output_type": "stream",
     "text": [
      "Epoch [3/5000] | Training Loss: 0.3410 | Validation Loss: 0.2419\n",
      "Validation loss improved to 0.2419\n"
     ]
    },
    {
     "name": "stderr",
     "output_type": "stream",
     "text": [
      "                                   \r"
     ]
    },
    {
     "name": "stdout",
     "output_type": "stream",
     "text": [
      "Epoch [4/5000] | Training Loss: 0.3250 | Validation Loss: 0.2375\n",
      "Validation loss improved to 0.2375\n"
     ]
    },
    {
     "name": "stderr",
     "output_type": "stream",
     "text": [
      "                                   \r"
     ]
    },
    {
     "name": "stdout",
     "output_type": "stream",
     "text": [
      "Epoch [5/5000] | Training Loss: 0.3154 | Validation Loss: 0.2338\n",
      "Validation loss improved to 0.2338\n"
     ]
    },
    {
     "name": "stderr",
     "output_type": "stream",
     "text": [
      "                                   \r"
     ]
    },
    {
     "name": "stdout",
     "output_type": "stream",
     "text": [
      "Epoch [6/5000] | Training Loss: 0.3075 | Validation Loss: 0.2316\n",
      "Validation loss improved to 0.2316\n"
     ]
    },
    {
     "name": "stderr",
     "output_type": "stream",
     "text": [
      "                                   \r"
     ]
    },
    {
     "name": "stdout",
     "output_type": "stream",
     "text": [
      "Epoch [7/5000] | Training Loss: 0.2888 | Validation Loss: 0.2290\n",
      "Validation loss improved to 0.2290\n"
     ]
    },
    {
     "name": "stderr",
     "output_type": "stream",
     "text": [
      "                                   \r"
     ]
    },
    {
     "name": "stdout",
     "output_type": "stream",
     "text": [
      "Epoch [8/5000] | Training Loss: 0.2758 | Validation Loss: 0.2357\n",
      "No improvement in validation loss [1/30]\n"
     ]
    },
    {
     "name": "stderr",
     "output_type": "stream",
     "text": [
      "                                   \r"
     ]
    },
    {
     "name": "stdout",
     "output_type": "stream",
     "text": [
      "Epoch [9/5000] | Training Loss: 0.2658 | Validation Loss: 0.2254\n",
      "Validation loss improved to 0.2254\n"
     ]
    },
    {
     "name": "stderr",
     "output_type": "stream",
     "text": [
      "                                   \r"
     ]
    },
    {
     "name": "stdout",
     "output_type": "stream",
     "text": [
      "Epoch [10/5000] | Training Loss: 0.2563 | Validation Loss: 0.2366\n",
      "No improvement in validation loss [1/30]\n"
     ]
    },
    {
     "name": "stderr",
     "output_type": "stream",
     "text": [
      "                                   \r"
     ]
    },
    {
     "name": "stdout",
     "output_type": "stream",
     "text": [
      "Epoch [11/5000] | Training Loss: 0.2502 | Validation Loss: 0.2332\n"
     ]
    },
    {
     "name": "stderr",
     "output_type": "stream",
     "text": [
      "                                   \r"
     ]
    },
    {
     "name": "stdout",
     "output_type": "stream",
     "text": [
      "Epoch [12/5000] | Training Loss: 0.2456 | Validation Loss: 0.2419\n"
     ]
    },
    {
     "name": "stderr",
     "output_type": "stream",
     "text": [
      "                                   \r"
     ]
    },
    {
     "name": "stdout",
     "output_type": "stream",
     "text": [
      "Epoch [13/5000] | Training Loss: 0.2428 | Validation Loss: 0.2402\n"
     ]
    },
    {
     "name": "stderr",
     "output_type": "stream",
     "text": [
      "                                   \r"
     ]
    },
    {
     "name": "stdout",
     "output_type": "stream",
     "text": [
      "Epoch [14/5000] | Training Loss: 0.2402 | Validation Loss: 0.2488\n",
      "No improvement in validation loss [5/30]\n"
     ]
    },
    {
     "name": "stderr",
     "output_type": "stream",
     "text": [
      "                                   \r"
     ]
    },
    {
     "name": "stdout",
     "output_type": "stream",
     "text": [
      "Epoch [15/5000] | Training Loss: 0.2378 | Validation Loss: 0.2461\n"
     ]
    },
    {
     "name": "stderr",
     "output_type": "stream",
     "text": [
      "                                   \r"
     ]
    },
    {
     "name": "stdout",
     "output_type": "stream",
     "text": [
      "Epoch [16/5000] | Training Loss: 0.2362 | Validation Loss: 0.2440\n"
     ]
    },
    {
     "name": "stderr",
     "output_type": "stream",
     "text": [
      "                                   \r"
     ]
    },
    {
     "name": "stdout",
     "output_type": "stream",
     "text": [
      "Epoch [17/5000] | Training Loss: 0.2340 | Validation Loss: 0.2521\n"
     ]
    },
    {
     "name": "stderr",
     "output_type": "stream",
     "text": [
      "                                   \r"
     ]
    },
    {
     "name": "stdout",
     "output_type": "stream",
     "text": [
      "Epoch [18/5000] | Training Loss: 0.2322 | Validation Loss: 0.2536\n"
     ]
    },
    {
     "name": "stderr",
     "output_type": "stream",
     "text": [
      "                                   \r"
     ]
    },
    {
     "name": "stdout",
     "output_type": "stream",
     "text": [
      "Epoch [19/5000] | Training Loss: 0.2312 | Validation Loss: 0.2542\n",
      "No improvement in validation loss [10/30]\n"
     ]
    },
    {
     "name": "stderr",
     "output_type": "stream",
     "text": [
      "                                   \r"
     ]
    },
    {
     "name": "stdout",
     "output_type": "stream",
     "text": [
      "Epoch [20/5000] | Training Loss: 0.2299 | Validation Loss: 0.2514\n"
     ]
    },
    {
     "name": "stderr",
     "output_type": "stream",
     "text": [
      "                                   \r"
     ]
    },
    {
     "name": "stdout",
     "output_type": "stream",
     "text": [
      "Epoch [21/5000] | Training Loss: 0.2286 | Validation Loss: 0.2585\n"
     ]
    },
    {
     "name": "stderr",
     "output_type": "stream",
     "text": [
      "                                   \r"
     ]
    },
    {
     "name": "stdout",
     "output_type": "stream",
     "text": [
      "Epoch [22/5000] | Training Loss: 0.2277 | Validation Loss: 0.2505\n"
     ]
    },
    {
     "name": "stderr",
     "output_type": "stream",
     "text": [
      "                                   \r"
     ]
    },
    {
     "name": "stdout",
     "output_type": "stream",
     "text": [
      "Epoch [23/5000] | Training Loss: 0.2267 | Validation Loss: 0.2573\n"
     ]
    },
    {
     "name": "stderr",
     "output_type": "stream",
     "text": [
      "                                   \r"
     ]
    },
    {
     "name": "stdout",
     "output_type": "stream",
     "text": [
      "Epoch [24/5000] | Training Loss: 0.2252 | Validation Loss: 0.2605\n",
      "No improvement in validation loss [15/30]\n"
     ]
    },
    {
     "name": "stderr",
     "output_type": "stream",
     "text": [
      "                                   \r"
     ]
    },
    {
     "name": "stdout",
     "output_type": "stream",
     "text": [
      "Epoch [25/5000] | Training Loss: 0.2248 | Validation Loss: 0.2550\n"
     ]
    },
    {
     "name": "stderr",
     "output_type": "stream",
     "text": [
      "                                   \r"
     ]
    },
    {
     "name": "stdout",
     "output_type": "stream",
     "text": [
      "Epoch [26/5000] | Training Loss: 0.2241 | Validation Loss: 0.2598\n"
     ]
    },
    {
     "name": "stderr",
     "output_type": "stream",
     "text": [
      "                                   \r"
     ]
    },
    {
     "name": "stdout",
     "output_type": "stream",
     "text": [
      "Epoch [27/5000] | Training Loss: 0.2238 | Validation Loss: 0.2607\n"
     ]
    },
    {
     "name": "stderr",
     "output_type": "stream",
     "text": [
      "                                   \r"
     ]
    },
    {
     "name": "stdout",
     "output_type": "stream",
     "text": [
      "Epoch [28/5000] | Training Loss: 0.2229 | Validation Loss: 0.2576\n"
     ]
    },
    {
     "name": "stderr",
     "output_type": "stream",
     "text": [
      "                                   \r"
     ]
    },
    {
     "name": "stdout",
     "output_type": "stream",
     "text": [
      "Epoch [29/5000] | Training Loss: 0.2221 | Validation Loss: 0.2584\n",
      "No improvement in validation loss [20/30]\n"
     ]
    },
    {
     "name": "stderr",
     "output_type": "stream",
     "text": [
      "                                   \r"
     ]
    },
    {
     "name": "stdout",
     "output_type": "stream",
     "text": [
      "Epoch [30/5000] | Training Loss: 0.2214 | Validation Loss: 0.2648\n"
     ]
    },
    {
     "name": "stderr",
     "output_type": "stream",
     "text": [
      "                                   \r"
     ]
    },
    {
     "name": "stdout",
     "output_type": "stream",
     "text": [
      "Epoch [31/5000] | Training Loss: 0.2214 | Validation Loss: 0.2620\n"
     ]
    },
    {
     "name": "stderr",
     "output_type": "stream",
     "text": [
      "                                   \r"
     ]
    },
    {
     "name": "stdout",
     "output_type": "stream",
     "text": [
      "Epoch [32/5000] | Training Loss: 0.2203 | Validation Loss: 0.2673\n"
     ]
    },
    {
     "name": "stderr",
     "output_type": "stream",
     "text": [
      "                                   \r"
     ]
    },
    {
     "name": "stdout",
     "output_type": "stream",
     "text": [
      "Epoch [33/5000] | Training Loss: 0.2198 | Validation Loss: 0.2655\n"
     ]
    },
    {
     "name": "stderr",
     "output_type": "stream",
     "text": [
      "                                   \r"
     ]
    },
    {
     "name": "stdout",
     "output_type": "stream",
     "text": [
      "Epoch [34/5000] | Training Loss: 0.2192 | Validation Loss: 0.2669\n",
      "No improvement in validation loss [25/30]\n"
     ]
    },
    {
     "name": "stderr",
     "output_type": "stream",
     "text": [
      "                                   \r"
     ]
    },
    {
     "name": "stdout",
     "output_type": "stream",
     "text": [
      "Epoch [35/5000] | Training Loss: 0.2181 | Validation Loss: 0.2597\n"
     ]
    },
    {
     "name": "stderr",
     "output_type": "stream",
     "text": [
      "                                   \r"
     ]
    },
    {
     "name": "stdout",
     "output_type": "stream",
     "text": [
      "Epoch [36/5000] | Training Loss: 0.2178 | Validation Loss: 0.2615\n"
     ]
    },
    {
     "name": "stderr",
     "output_type": "stream",
     "text": [
      "                                   \r"
     ]
    },
    {
     "name": "stdout",
     "output_type": "stream",
     "text": [
      "Epoch [37/5000] | Training Loss: 0.2174 | Validation Loss: 0.2636\n"
     ]
    },
    {
     "name": "stderr",
     "output_type": "stream",
     "text": [
      "                                   \r"
     ]
    },
    {
     "name": "stdout",
     "output_type": "stream",
     "text": [
      "Epoch [38/5000] | Training Loss: 0.2164 | Validation Loss: 0.2627\n"
     ]
    },
    {
     "name": "stderr",
     "output_type": "stream",
     "text": [
      "                                   \r"
     ]
    },
    {
     "name": "stdout",
     "output_type": "stream",
     "text": [
      "Epoch [39/5000] | Training Loss: 0.2164 | Validation Loss: 0.2608\n",
      "No improvement in validation loss [30/30]\n",
      "Early stopping triggered.\n"
     ]
    }
   ],
   "source": [
    "lstm_model = LSTMModel(\n",
    "    input_size=len(feature_cols),\n",
    "    hidden_size=10,\n",
    "    num_layers=1,\n",
    "    dropout=0,\n",
    "    output_size=forecast_horizon\n",
    ")\n",
    "lstm_train_loss, lstm_val_loss = train(model=lstm_model, \n",
    "                                       train_loader=train_loader, \n",
    "                                       val_loader=val_loader,\n",
    "                                       model_file_path='models/lstm_model.pt')"
   ]
  },
  {
   "cell_type": "code",
   "execution_count": null,
   "id": "b6cbe8a8",
   "metadata": {},
   "outputs": [
    {
     "name": "stdout",
     "output_type": "stream",
     "text": [
      "DEVICE: cpu\n",
      "Starting training.\n"
     ]
    },
    {
     "name": "stderr",
     "output_type": "stream",
     "text": [
      "                                   \r"
     ]
    },
    {
     "name": "stdout",
     "output_type": "stream",
     "text": [
      "Epoch [1/5000] | Training Loss: 0.6228 | Validation Loss: 0.3119\n",
      "Validation loss improved to 0.3119\n"
     ]
    },
    {
     "name": "stderr",
     "output_type": "stream",
     "text": [
      "                                   \r"
     ]
    },
    {
     "name": "stdout",
     "output_type": "stream",
     "text": [
      "Epoch [2/5000] | Training Loss: 0.4010 | Validation Loss: 0.2601\n",
      "Validation loss improved to 0.2601\n"
     ]
    },
    {
     "name": "stderr",
     "output_type": "stream",
     "text": [
      "                                   \r"
     ]
    },
    {
     "name": "stdout",
     "output_type": "stream",
     "text": [
      "Epoch [3/5000] | Training Loss: 0.3447 | Validation Loss: 0.2205\n",
      "Validation loss improved to 0.2205\n"
     ]
    },
    {
     "name": "stderr",
     "output_type": "stream",
     "text": [
      "                                   \r"
     ]
    },
    {
     "name": "stdout",
     "output_type": "stream",
     "text": [
      "Epoch [4/5000] | Training Loss: 0.3078 | Validation Loss: 0.2165\n",
      "Validation loss improved to 0.2165\n"
     ]
    },
    {
     "name": "stderr",
     "output_type": "stream",
     "text": [
      "                                   \r"
     ]
    },
    {
     "name": "stdout",
     "output_type": "stream",
     "text": [
      "Epoch [5/5000] | Training Loss: 0.2950 | Validation Loss: 0.2156\n",
      "No improvement in validation loss [1/30]\n"
     ]
    },
    {
     "name": "stderr",
     "output_type": "stream",
     "text": [
      "                                   \r"
     ]
    },
    {
     "name": "stdout",
     "output_type": "stream",
     "text": [
      "Epoch [6/5000] | Training Loss: 0.2866 | Validation Loss: 0.2159\n"
     ]
    },
    {
     "name": "stderr",
     "output_type": "stream",
     "text": [
      "                                   \r"
     ]
    },
    {
     "name": "stdout",
     "output_type": "stream",
     "text": [
      "Epoch [7/5000] | Training Loss: 0.2802 | Validation Loss: 0.2180\n"
     ]
    },
    {
     "name": "stderr",
     "output_type": "stream",
     "text": [
      "                                   \r"
     ]
    },
    {
     "name": "stdout",
     "output_type": "stream",
     "text": [
      "Epoch [8/5000] | Training Loss: 0.2750 | Validation Loss: 0.2173\n"
     ]
    },
    {
     "name": "stderr",
     "output_type": "stream",
     "text": [
      "                                   \r"
     ]
    },
    {
     "name": "stdout",
     "output_type": "stream",
     "text": [
      "Epoch [9/5000] | Training Loss: 0.2700 | Validation Loss: 0.2185\n",
      "No improvement in validation loss [5/30]\n"
     ]
    },
    {
     "name": "stderr",
     "output_type": "stream",
     "text": [
      "                                   \r"
     ]
    },
    {
     "name": "stdout",
     "output_type": "stream",
     "text": [
      "Epoch [10/5000] | Training Loss: 0.2649 | Validation Loss: 0.2201\n"
     ]
    },
    {
     "name": "stderr",
     "output_type": "stream",
     "text": [
      "                                   \r"
     ]
    },
    {
     "name": "stdout",
     "output_type": "stream",
     "text": [
      "Epoch [11/5000] | Training Loss: 0.2595 | Validation Loss: 0.2207\n"
     ]
    },
    {
     "name": "stderr",
     "output_type": "stream",
     "text": [
      "                                   \r"
     ]
    },
    {
     "name": "stdout",
     "output_type": "stream",
     "text": [
      "Epoch [12/5000] | Training Loss: 0.2546 | Validation Loss: 0.2197\n"
     ]
    },
    {
     "name": "stderr",
     "output_type": "stream",
     "text": [
      "                                   \r"
     ]
    },
    {
     "name": "stdout",
     "output_type": "stream",
     "text": [
      "Epoch [13/5000] | Training Loss: 0.2496 | Validation Loss: 0.2230\n"
     ]
    },
    {
     "name": "stderr",
     "output_type": "stream",
     "text": [
      "                                   \r"
     ]
    },
    {
     "name": "stdout",
     "output_type": "stream",
     "text": [
      "Epoch [14/5000] | Training Loss: 0.2452 | Validation Loss: 0.2262\n",
      "No improvement in validation loss [10/30]\n"
     ]
    },
    {
     "name": "stderr",
     "output_type": "stream",
     "text": [
      "                                   \r"
     ]
    },
    {
     "name": "stdout",
     "output_type": "stream",
     "text": [
      "Epoch [15/5000] | Training Loss: 0.2410 | Validation Loss: 0.2308\n"
     ]
    },
    {
     "name": "stderr",
     "output_type": "stream",
     "text": [
      "                                   \r"
     ]
    },
    {
     "name": "stdout",
     "output_type": "stream",
     "text": [
      "Epoch [16/5000] | Training Loss: 0.2371 | Validation Loss: 0.2323\n"
     ]
    },
    {
     "name": "stderr",
     "output_type": "stream",
     "text": [
      "                                   \r"
     ]
    },
    {
     "name": "stdout",
     "output_type": "stream",
     "text": [
      "Epoch [17/5000] | Training Loss: 0.2352 | Validation Loss: 0.2381\n"
     ]
    },
    {
     "name": "stderr",
     "output_type": "stream",
     "text": [
      "                                   \r"
     ]
    },
    {
     "name": "stdout",
     "output_type": "stream",
     "text": [
      "Epoch [18/5000] | Training Loss: 0.2333 | Validation Loss: 0.2377\n"
     ]
    },
    {
     "name": "stderr",
     "output_type": "stream",
     "text": [
      "                                   \r"
     ]
    },
    {
     "name": "stdout",
     "output_type": "stream",
     "text": [
      "Epoch [19/5000] | Training Loss: 0.2321 | Validation Loss: 0.2425\n",
      "No improvement in validation loss [15/30]\n"
     ]
    },
    {
     "name": "stderr",
     "output_type": "stream",
     "text": [
      "                                   \r"
     ]
    },
    {
     "name": "stdout",
     "output_type": "stream",
     "text": [
      "Epoch [20/5000] | Training Loss: 0.2309 | Validation Loss: 0.2445\n"
     ]
    },
    {
     "name": "stderr",
     "output_type": "stream",
     "text": [
      "                                   \r"
     ]
    },
    {
     "name": "stdout",
     "output_type": "stream",
     "text": [
      "Epoch [21/5000] | Training Loss: 0.2302 | Validation Loss: 0.2464\n"
     ]
    },
    {
     "name": "stderr",
     "output_type": "stream",
     "text": [
      "                                   \r"
     ]
    },
    {
     "name": "stdout",
     "output_type": "stream",
     "text": [
      "Epoch [22/5000] | Training Loss: 0.2296 | Validation Loss: 0.2459\n"
     ]
    },
    {
     "name": "stderr",
     "output_type": "stream",
     "text": [
      "                                   \r"
     ]
    },
    {
     "name": "stdout",
     "output_type": "stream",
     "text": [
      "Epoch [23/5000] | Training Loss: 0.2291 | Validation Loss: 0.2459\n"
     ]
    },
    {
     "name": "stderr",
     "output_type": "stream",
     "text": [
      "                                   \r"
     ]
    },
    {
     "name": "stdout",
     "output_type": "stream",
     "text": [
      "Epoch [24/5000] | Training Loss: 0.2284 | Validation Loss: 0.2440\n",
      "No improvement in validation loss [20/30]\n"
     ]
    },
    {
     "name": "stderr",
     "output_type": "stream",
     "text": [
      "                                   \r"
     ]
    },
    {
     "name": "stdout",
     "output_type": "stream",
     "text": [
      "Epoch [25/5000] | Training Loss: 0.2280 | Validation Loss: 0.2439\n"
     ]
    },
    {
     "name": "stderr",
     "output_type": "stream",
     "text": [
      "                                   \r"
     ]
    },
    {
     "name": "stdout",
     "output_type": "stream",
     "text": [
      "Epoch [26/5000] | Training Loss: 0.2277 | Validation Loss: 0.2478\n"
     ]
    },
    {
     "name": "stderr",
     "output_type": "stream",
     "text": [
      "                                   \r"
     ]
    },
    {
     "name": "stdout",
     "output_type": "stream",
     "text": [
      "Epoch [27/5000] | Training Loss: 0.2274 | Validation Loss: 0.2448\n"
     ]
    },
    {
     "name": "stderr",
     "output_type": "stream",
     "text": [
      "                                   \r"
     ]
    },
    {
     "name": "stdout",
     "output_type": "stream",
     "text": [
      "Epoch [28/5000] | Training Loss: 0.2272 | Validation Loss: 0.2476\n"
     ]
    },
    {
     "name": "stderr",
     "output_type": "stream",
     "text": [
      "                                   \r"
     ]
    },
    {
     "name": "stdout",
     "output_type": "stream",
     "text": [
      "Epoch [29/5000] | Training Loss: 0.2265 | Validation Loss: 0.2452\n",
      "No improvement in validation loss [25/30]\n"
     ]
    },
    {
     "name": "stderr",
     "output_type": "stream",
     "text": [
      "                                   \r"
     ]
    },
    {
     "name": "stdout",
     "output_type": "stream",
     "text": [
      "Epoch [30/5000] | Training Loss: 0.2263 | Validation Loss: 0.2500\n"
     ]
    },
    {
     "name": "stderr",
     "output_type": "stream",
     "text": [
      "                                   \r"
     ]
    },
    {
     "name": "stdout",
     "output_type": "stream",
     "text": [
      "Epoch [31/5000] | Training Loss: 0.2256 | Validation Loss: 0.2460\n"
     ]
    },
    {
     "name": "stderr",
     "output_type": "stream",
     "text": [
      "                                   \r"
     ]
    },
    {
     "name": "stdout",
     "output_type": "stream",
     "text": [
      "Epoch [32/5000] | Training Loss: 0.2252 | Validation Loss: 0.2477\n"
     ]
    },
    {
     "name": "stderr",
     "output_type": "stream",
     "text": [
      "                                   \r"
     ]
    },
    {
     "name": "stdout",
     "output_type": "stream",
     "text": [
      "Epoch [33/5000] | Training Loss: 0.2249 | Validation Loss: 0.2463\n"
     ]
    },
    {
     "name": "stderr",
     "output_type": "stream",
     "text": [
      "                                   \r"
     ]
    },
    {
     "name": "stdout",
     "output_type": "stream",
     "text": [
      "Epoch [34/5000] | Training Loss: 0.2244 | Validation Loss: 0.2473\n",
      "No improvement in validation loss [30/30]\n",
      "Early stopping triggered.\n"
     ]
    }
   ],
   "source": [
    "gru_model = GRUModel(\n",
    "    input_size=len(feature_cols),\n",
    "    hidden_size=10,\n",
    "    num_layers=1,\n",
    "    dropout=0,\n",
    "    output_size=forecast_horizon\n",
    ")\n",
    "gru_train_loss, gru_val_loss = train(model=gru_model, \n",
    "                                     train_loader=train_loader, \n",
    "                                     val_loader=val_loader,\n",
    "                                     model_file_path='models/gru_model.pt')"
   ]
  },
  {
   "cell_type": "code",
   "execution_count": 17,
   "id": "be0e2ff4",
   "metadata": {},
   "outputs": [
    {
     "data": {
      "image/png": "[encoded data removed]",
      "text/plain": [
       "<Figure size 640x480 with 1 Axes>"
      ]
     },
     "metadata": {},
     "output_type": "display_data"
    }
   ],
   "source": [
    "#plt.plot(multibranch_train_loss, label='Multibranch Training loss')\n",
    "#plt.plot(multibranch_val_loss, label='Multibranch Validation loss')\n",
    "plt.plot(lstm_train_loss, label='LSTM Training loss')\n",
    "plt.plot(lstm_val_loss, label='LSTM Validation loss')\n",
    "plt.plot(gru_train_loss, label='GRU Training loss')\n",
    "plt.plot(gru_val_loss, label='GRU Validation loss')\n",
    "plt.title('Loss evolution')\n",
    "plt.xlabel('Epochs')\n",
    "plt.ylabel('Loss')\n",
    "plt.grid(True)\n",
    "plt.tight_layout()\n",
    "plt.legend()\n",
    "plt.show()\n"
   ]
  },
  {
   "cell_type": "markdown",
   "id": "a5e13370",
   "metadata": {},
   "source": [
    "# Evaluation"
   ]
  },
  {
   "cell_type": "code",
   "execution_count": null,
   "id": "1fe4081c",
   "metadata": {},
   "outputs": [
    {
     "name": "stderr",
     "output_type": "stream",
     "text": [
      "d:\\Programacion\\Multibranch-TimeSeries-NN\\.venv\\lib\\site-packages\\torch\\nn\\modules\\rnn.py:123: UserWarning: dropout option adds dropout after all but last recurrent layer, so non-zero dropout expects num_layers greater than 1, but got dropout=0.3 and num_layers=1\n",
      "  warnings.warn(\n"
     ]
    },
    {
     "name": "stdout",
     "output_type": "stream",
     "text": [
      "MultiBranchModel(\n",
      "  (lstm): LSTMLayer(\n",
      "    (lstm): LSTM(4, 15, batch_first=True, dropout=0.3)\n",
      "  )\n",
      "  (gru): GRULayer(\n",
      "    (gru): GRU(4, 15, batch_first=True, dropout=0.3)\n",
      "  )\n",
      "  (linear): Linear(in_features=30, out_features=1, bias=True)\n",
      ")\n"
     ]
    },
    {
     "data": {
      "text/plain": [
       "{'loss': 0.0007954231333729251,\n",
       " 'mse': 0.0007955068722367287,\n",
       " 'mae': 0.004744474310427904,\n",
       " 'rmse': np.float64(0.02820473138033278),\n",
       " 'r2': 0.9991093277931213}"
      ]
     },
     "execution_count": 32,
     "metadata": {},
     "output_type": "execute_result"
    }
   ],
   "source": [
    "model = MultiBranchModel(\n",
    "    input_size=len(feature_cols),\n",
    "    hidden_size={'lstm': 15, 'gru': 15},\n",
    "    num_layers={'lstm': 1, 'gru': 1},\n",
    "    dropout={'lstm': 0.3, 'gru': 0.3},\n",
    "    output_size=forecast_horizon\n",
    ")\n",
    "model.load_state_dict(torch.load('best_model.pt', weights_only=False))\n",
    "tester = Tester(model=model, loss_fn=loss_fn, device=device)\n",
    "metrics = tester.evaluate(dataloader = test_loader)\n",
    "metrics"
   ]
  }
 ],
 "metadata": {
  "kernelspec": {
   "display_name": "multibranch-ts-nn",
   "language": "python",
   "name": "multibranch-ts-nn"
  },
  "language_info": {
   "codemirror_mode": {
    "name": "ipython",
    "version": 3
   },
   "file_extension": ".py",
   "mimetype": "text/x-python",
   "name": "python",
   "nbconvert_exporter": "python",
   "pygments_lexer": "ipython3",
   "version": "3.10.18"
  }
 },
 "nbformat": 4,
 "nbformat_minor": 5
}
