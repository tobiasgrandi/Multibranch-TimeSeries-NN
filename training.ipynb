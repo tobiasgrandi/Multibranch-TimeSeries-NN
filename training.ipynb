{
 "cells": [
  {
   "cell_type": "code",
   "execution_count": null,
   "id": "ed16ba85",
   "metadata": {},
   "outputs": [],
   "source": [
    "from model.MultiBranch import MultiBranchModel\n",
    "from helpers.Trainer import Trainer\n",
    "from helpers.YoutubeDataset import YoutubeDataset"
   ]
  }
 ],
 "metadata": {
  "language_info": {
   "name": "python"
  }
 },
 "nbformat": 4,
 "nbformat_minor": 5
}
