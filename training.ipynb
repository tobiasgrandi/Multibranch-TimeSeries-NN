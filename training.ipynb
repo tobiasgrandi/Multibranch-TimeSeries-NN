{
 "cells": [
  {
   "cell_type": "code",
   "execution_count": 3,
   "id": "ed16ba85",
   "metadata": {},
   "outputs": [],
   "source": [
    "from model.MultiBranch import MultiBranchModel\n",
    "from helpers.Trainer import Trainer\n",
    "from helpers.YoutubeDataset import YoutubeDataset\n",
    "from helpers.EarlyStopping import EarlyStopping\n",
    "from torch.utils.data import DataLoader\n",
    "import pandas as pd\n",
    "import matplotlib.pyplot as plt\n",
    "from sklearn.preprocessing import StandardScaler\n"
   ]
  },
  {
   "cell_type": "markdown",
   "id": "34759a46",
   "metadata": {},
   "source": [
    "# Load data"
   ]
  },
  {
   "cell_type": "code",
   "execution_count": 4,
   "id": "c9c0c624",
   "metadata": {},
   "outputs": [
    {
     "data": {
      "text/html": [
       "<div>\n",
       "<style scoped>\n",
       "    .dataframe tbody tr th:only-of-type {\n",
       "        vertical-align: middle;\n",
       "    }\n",
       "\n",
       "    .dataframe tbody tr th {\n",
       "        vertical-align: top;\n",
       "    }\n",
       "\n",
       "    .dataframe thead th {\n",
       "        text-align: right;\n",
       "    }\n",
       "</style>\n",
       "<table border=\"1\" class=\"dataframe\">\n",
       "  <thead>\n",
       "    <tr style=\"text-align: right;\">\n",
       "      <th></th>\n",
       "      <th>ytvideoid</th>\n",
       "      <th>views</th>\n",
       "      <th>comments</th>\n",
       "      <th>likes</th>\n",
       "      <th>dislikes</th>\n",
       "      <th>timestamp</th>\n",
       "    </tr>\n",
       "  </thead>\n",
       "  <tbody>\n",
       "    <tr>\n",
       "      <th>0</th>\n",
       "      <td>1</td>\n",
       "      <td>472549</td>\n",
       "      <td>3887</td>\n",
       "      <td>72559</td>\n",
       "      <td>1339</td>\n",
       "      <td>2019-11-25 17:30:00</td>\n",
       "    </tr>\n",
       "    <tr>\n",
       "      <th>1</th>\n",
       "      <td>1</td>\n",
       "      <td>472549</td>\n",
       "      <td>4026</td>\n",
       "      <td>74427</td>\n",
       "      <td>1365</td>\n",
       "      <td>2019-11-25 18:00:00</td>\n",
       "    </tr>\n",
       "    <tr>\n",
       "      <th>2</th>\n",
       "      <td>1</td>\n",
       "      <td>472549</td>\n",
       "      <td>4150</td>\n",
       "      <td>76092</td>\n",
       "      <td>1388</td>\n",
       "      <td>2019-11-25 18:30:00</td>\n",
       "    </tr>\n",
       "    <tr>\n",
       "      <th>3</th>\n",
       "      <td>1</td>\n",
       "      <td>485143</td>\n",
       "      <td>4235</td>\n",
       "      <td>77472</td>\n",
       "      <td>1420</td>\n",
       "      <td>2019-11-25 19:00:00</td>\n",
       "    </tr>\n",
       "    <tr>\n",
       "      <th>4</th>\n",
       "      <td>1</td>\n",
       "      <td>532254</td>\n",
       "      <td>4334</td>\n",
       "      <td>78655</td>\n",
       "      <td>1443</td>\n",
       "      <td>2019-11-25 19:30:00</td>\n",
       "    </tr>\n",
       "  </tbody>\n",
       "</table>\n",
       "</div>"
      ],
      "text/plain": [
       "   ytvideoid   views  comments  likes  dislikes            timestamp\n",
       "0          1  472549      3887  72559      1339  2019-11-25 17:30:00\n",
       "1          1  472549      4026  74427      1365  2019-11-25 18:00:00\n",
       "2          1  472549      4150  76092      1388  2019-11-25 18:30:00\n",
       "3          1  485143      4235  77472      1420  2019-11-25 19:00:00\n",
       "4          1  532254      4334  78655      1443  2019-11-25 19:30:00"
      ]
     },
     "execution_count": 4,
     "metadata": {},
     "output_type": "execute_result"
    }
   ],
   "source": [
    "train_data = pd.read_csv('data/train_data.csv')\n",
    "val_data = pd.read_csv('data/val_data.csv')\n",
    "test_data = pd.read_csv('data/test_data.csv')\n",
    "train_data.head()"
   ]
  },
  {
   "cell_type": "code",
   "execution_count": 5,
   "id": "4245174a",
   "metadata": {},
   "outputs": [
    {
     "data": {
      "text/html": [
       "<div>\n",
       "<style scoped>\n",
       "    .dataframe tbody tr th:only-of-type {\n",
       "        vertical-align: middle;\n",
       "    }\n",
       "\n",
       "    .dataframe tbody tr th {\n",
       "        vertical-align: top;\n",
       "    }\n",
       "\n",
       "    .dataframe thead th {\n",
       "        text-align: right;\n",
       "    }\n",
       "</style>\n",
       "<table border=\"1\" class=\"dataframe\">\n",
       "  <thead>\n",
       "    <tr style=\"text-align: right;\">\n",
       "      <th></th>\n",
       "      <th>ytvideoid</th>\n",
       "      <th>views</th>\n",
       "      <th>comments</th>\n",
       "      <th>likes</th>\n",
       "      <th>dislikes</th>\n",
       "      <th>timestamp</th>\n",
       "    </tr>\n",
       "  </thead>\n",
       "  <tbody>\n",
       "    <tr>\n",
       "      <th>0</th>\n",
       "      <td>1</td>\n",
       "      <td>-0.405903</td>\n",
       "      <td>-0.157636</td>\n",
       "      <td>-0.160458</td>\n",
       "      <td>-0.040363</td>\n",
       "      <td>2019-11-25 17:30:00</td>\n",
       "    </tr>\n",
       "    <tr>\n",
       "      <th>1</th>\n",
       "      <td>1</td>\n",
       "      <td>-0.405903</td>\n",
       "      <td>-0.154329</td>\n",
       "      <td>-0.153561</td>\n",
       "      <td>-0.040076</td>\n",
       "      <td>2019-11-25 18:00:00</td>\n",
       "    </tr>\n",
       "    <tr>\n",
       "      <th>2</th>\n",
       "      <td>1</td>\n",
       "      <td>-0.405903</td>\n",
       "      <td>-0.151378</td>\n",
       "      <td>-0.147413</td>\n",
       "      <td>-0.039823</td>\n",
       "      <td>2019-11-25 18:30:00</td>\n",
       "    </tr>\n",
       "    <tr>\n",
       "      <th>3</th>\n",
       "      <td>1</td>\n",
       "      <td>-0.403192</td>\n",
       "      <td>-0.149355</td>\n",
       "      <td>-0.142317</td>\n",
       "      <td>-0.039470</td>\n",
       "      <td>2019-11-25 19:00:00</td>\n",
       "    </tr>\n",
       "    <tr>\n",
       "      <th>4</th>\n",
       "      <td>1</td>\n",
       "      <td>-0.393049</td>\n",
       "      <td>-0.146999</td>\n",
       "      <td>-0.137949</td>\n",
       "      <td>-0.039217</td>\n",
       "      <td>2019-11-25 19:30:00</td>\n",
       "    </tr>\n",
       "  </tbody>\n",
       "</table>\n",
       "</div>"
      ],
      "text/plain": [
       "   ytvideoid     views  comments     likes  dislikes            timestamp\n",
       "0          1 -0.405903 -0.157636 -0.160458 -0.040363  2019-11-25 17:30:00\n",
       "1          1 -0.405903 -0.154329 -0.153561 -0.040076  2019-11-25 18:00:00\n",
       "2          1 -0.405903 -0.151378 -0.147413 -0.039823  2019-11-25 18:30:00\n",
       "3          1 -0.403192 -0.149355 -0.142317 -0.039470  2019-11-25 19:00:00\n",
       "4          1 -0.393049 -0.146999 -0.137949 -0.039217  2019-11-25 19:30:00"
      ]
     },
     "execution_count": 5,
     "metadata": {},
     "output_type": "execute_result"
    }
   ],
   "source": [
    "feature_cols = ['views', 'comments', 'likes', 'dislikes'] \n",
    "\n",
    "scaler = StandardScaler()\n",
    "\n",
    "scaler.fit(train_data[feature_cols])\n",
    "\n",
    "train_scaled = train_data.copy()\n",
    "train_scaled[feature_cols] = scaler.transform(train_data[feature_cols])\n",
    "\n",
    "val_scaled = val_data.copy()\n",
    "val_scaled[feature_cols] = scaler.transform(val_data[feature_cols])\n",
    "\n",
    "test_scaled = test_data.copy()\n",
    "test_scaled[feature_cols] = scaler.transform(test_data[feature_cols])\n",
    "\n",
    "train_scaled.head()"
   ]
  },
  {
   "cell_type": "code",
   "execution_count": 6,
   "id": "d6d67174",
   "metadata": {},
   "outputs": [],
   "source": [
    "seq_len = 10\n",
    "forecast_horizon = 1\n",
    "batch_size = 128\n",
    "\n",
    "train_dataset = YoutubeDataset(\n",
    "    df=train_scaled,\n",
    "    features=feature_cols,\n",
    "    target='views',\n",
    "    seq_len=seq_len,\n",
    "    forecast_horizon=forecast_horizon\n",
    ")\n",
    "train_loader = DataLoader(\n",
    "    train_dataset,\n",
    "    batch_size=batch_size,\n",
    "    shuffle=True,\n",
    "    drop_last=True\n",
    ")"
   ]
  },
  {
   "cell_type": "code",
   "execution_count": 7,
   "id": "f2ca6960",
   "metadata": {},
   "outputs": [],
   "source": [
    "val_dataset = YoutubeDataset(\n",
    "    df=val_scaled,\n",
    "    features=feature_cols,\n",
    "    target='views',\n",
    "    seq_len=seq_len,\n",
    "    forecast_horizon=forecast_horizon\n",
    ")\n",
    "test_dataset = YoutubeDataset(\n",
    "    df=test_scaled,\n",
    "    features=feature_cols,\n",
    "    target='views',\n",
    "    seq_len=seq_len,\n",
    "    forecast_horizon=forecast_horizon\n",
    ")"
   ]
  },
  {
   "cell_type": "code",
   "execution_count": 8,
   "id": "53e02a07",
   "metadata": {},
   "outputs": [],
   "source": [
    "val_loader = DataLoader(val_dataset, batch_size=batch_size, shuffle=False)\n",
    "test_loader = DataLoader(test_dataset, batch_size=batch_size, shuffle=False)"
   ]
  },
  {
   "cell_type": "markdown",
   "id": "53dc0971",
   "metadata": {},
   "source": [
    "# Train"
   ]
  },
  {
   "cell_type": "code",
   "execution_count": 9,
   "id": "2570b7a9",
   "metadata": {},
   "outputs": [
    {
     "name": "stderr",
     "output_type": "stream",
     "text": [
      "d:\\Programacion\\Multibranch-TimeSeries-NN\\.venv\\lib\\site-packages\\torch\\nn\\modules\\rnn.py:123: UserWarning: dropout option adds dropout after all but last recurrent layer, so non-zero dropout expects num_layers greater than 1, but got dropout=0.3 and num_layers=1\n",
      "  warnings.warn(\n"
     ]
    }
   ],
   "source": [
    "model = MultiBranchModel(\n",
    "    input_size=len(feature_cols),\n",
    "    hidden_size={'lstm': 50, 'gru': 50},\n",
    "    num_layers={'lstm': 1, 'gru': 1},\n",
    "    dropout={'lstm': 0.3, 'gru': 0.3},\n",
    "    output_size=1\n",
    ")"
   ]
  },
  {
   "cell_type": "code",
   "execution_count": 10,
   "id": "198c25a6",
   "metadata": {},
   "outputs": [
    {
     "name": "stdout",
     "output_type": "stream",
     "text": [
      "DEVICE: cpu\n"
     ]
    }
   ],
   "source": [
    "import torch.optim as optim\n",
    "import torch.nn as nn\n",
    "import torch\n",
    "\n",
    "optimizer = optim.Adam(model.parameters(), lr=0.001) \n",
    "loss_fn = nn.MSELoss()\n",
    "device = torch.device(\"cuda\" if torch.cuda.is_available() else \"cpu\")\n",
    "print(f'DEVICE: {device.type}')\n",
    "\n",
    "early_stopping = EarlyStopping(patience = 30,\n",
    "                               min_delta = 0.0001,\n",
    "                               verbose = True,\n",
    "                               path = \"best_model.pt\")\n",
    "\n",
    "trainer = Trainer(\n",
    "    model=model,\n",
    "    optimizer=optimizer,\n",
    "    loss_fn=loss_fn,\n",
    "    device=device,\n",
    "    early_stopping=early_stopping\n",
    ")"
   ]
  },
  {
   "cell_type": "code",
   "execution_count": null,
   "id": "8d28cea4",
   "metadata": {},
   "outputs": [],
   "source": [
    "epochs = 5000\n",
    "train_loss, val_loss = trainer.fit(train_loader=train_loader, val_loader=val_loader, epochs=epochs)"
   ]
  },
  {
   "cell_type": "code",
   "execution_count": null,
   "id": "be0e2ff4",
   "metadata": {},
   "outputs": [],
   "source": [
    "plt.plot(train_loss, label='Training loss')\n",
    "plt.plot(val_loss, label='Validation loss')\n",
    "plt.title('Loss evolution')\n",
    "plt.grid(True)\n",
    "plt.tight_layout()\n",
    "plt.legend()\n",
    "plt.show()\n"
   ]
  }
 ],
 "metadata": {
  "kernelspec": {
   "display_name": "multibranch-ts-nn",
   "language": "python",
   "name": "multibranch-ts-nn"
  },
  "language_info": {
   "codemirror_mode": {
    "name": "ipython",
    "version": 3
   },
   "file_extension": ".py",
   "mimetype": "text/x-python",
   "name": "python",
   "nbconvert_exporter": "python",
   "pygments_lexer": "ipython3",
   "version": "3.10.18"
  }
 },
 "nbformat": 4,
 "nbformat_minor": 5
}
