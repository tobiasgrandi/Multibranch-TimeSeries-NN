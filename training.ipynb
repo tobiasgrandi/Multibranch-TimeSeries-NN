{
 "cells": [
  {
   "cell_type": "code",
   "execution_count": 11,
   "id": "ed16ba85",
   "metadata": {},
   "outputs": [],
   "source": [
    "from model.MultiBranch import MultiBranchModel\n",
    "from helpers.Trainer import Trainer\n",
    "from helpers.Tester import Tester\n",
    "from helpers.YoutubeDataset import YoutubeDataset\n",
    "from helpers.EarlyStopping import EarlyStopping\n",
    "from torch.utils.data import DataLoader\n",
    "import pandas as pd\n",
    "import matplotlib.pyplot as plt\n",
    "from sklearn.preprocessing import StandardScaler\n"
   ]
  },
  {
   "cell_type": "markdown",
   "id": "34759a46",
   "metadata": {},
   "source": [
    "# Load data"
   ]
  },
  {
   "cell_type": "code",
   "execution_count": 2,
   "id": "c9c0c624",
   "metadata": {},
   "outputs": [
    {
     "data": {
      "text/html": [
       "<div>\n",
       "<style scoped>\n",
       "    .dataframe tbody tr th:only-of-type {\n",
       "        vertical-align: middle;\n",
       "    }\n",
       "\n",
       "    .dataframe tbody tr th {\n",
       "        vertical-align: top;\n",
       "    }\n",
       "\n",
       "    .dataframe thead th {\n",
       "        text-align: right;\n",
       "    }\n",
       "</style>\n",
       "<table border=\"1\" class=\"dataframe\">\n",
       "  <thead>\n",
       "    <tr style=\"text-align: right;\">\n",
       "      <th></th>\n",
       "      <th>ytvideoid</th>\n",
       "      <th>views</th>\n",
       "      <th>comments</th>\n",
       "      <th>likes</th>\n",
       "      <th>dislikes</th>\n",
       "      <th>timestamp</th>\n",
       "    </tr>\n",
       "  </thead>\n",
       "  <tbody>\n",
       "    <tr>\n",
       "      <th>0</th>\n",
       "      <td>1</td>\n",
       "      <td>472549</td>\n",
       "      <td>3887</td>\n",
       "      <td>72559</td>\n",
       "      <td>1339</td>\n",
       "      <td>2019-11-25 17:30:00</td>\n",
       "    </tr>\n",
       "    <tr>\n",
       "      <th>1</th>\n",
       "      <td>1</td>\n",
       "      <td>472549</td>\n",
       "      <td>4026</td>\n",
       "      <td>74427</td>\n",
       "      <td>1365</td>\n",
       "      <td>2019-11-25 18:00:00</td>\n",
       "    </tr>\n",
       "    <tr>\n",
       "      <th>2</th>\n",
       "      <td>1</td>\n",
       "      <td>472549</td>\n",
       "      <td>4150</td>\n",
       "      <td>76092</td>\n",
       "      <td>1388</td>\n",
       "      <td>2019-11-25 18:30:00</td>\n",
       "    </tr>\n",
       "    <tr>\n",
       "      <th>3</th>\n",
       "      <td>1</td>\n",
       "      <td>485143</td>\n",
       "      <td>4235</td>\n",
       "      <td>77472</td>\n",
       "      <td>1420</td>\n",
       "      <td>2019-11-25 19:00:00</td>\n",
       "    </tr>\n",
       "    <tr>\n",
       "      <th>4</th>\n",
       "      <td>1</td>\n",
       "      <td>532254</td>\n",
       "      <td>4334</td>\n",
       "      <td>78655</td>\n",
       "      <td>1443</td>\n",
       "      <td>2019-11-25 19:30:00</td>\n",
       "    </tr>\n",
       "  </tbody>\n",
       "</table>\n",
       "</div>"
      ],
      "text/plain": [
       "   ytvideoid   views  comments  likes  dislikes            timestamp\n",
       "0          1  472549      3887  72559      1339  2019-11-25 17:30:00\n",
       "1          1  472549      4026  74427      1365  2019-11-25 18:00:00\n",
       "2          1  472549      4150  76092      1388  2019-11-25 18:30:00\n",
       "3          1  485143      4235  77472      1420  2019-11-25 19:00:00\n",
       "4          1  532254      4334  78655      1443  2019-11-25 19:30:00"
      ]
     },
     "execution_count": 2,
     "metadata": {},
     "output_type": "execute_result"
    }
   ],
   "source": [
    "train_data = pd.read_csv('data/train_data.csv')\n",
    "val_data = pd.read_csv('data/val_data.csv')\n",
    "test_data = pd.read_csv('data/test_data.csv')\n",
    "train_data.head()"
   ]
  },
  {
   "cell_type": "code",
   "execution_count": 3,
   "id": "4245174a",
   "metadata": {},
   "outputs": [
    {
     "data": {
      "text/html": [
       "<div>\n",
       "<style scoped>\n",
       "    .dataframe tbody tr th:only-of-type {\n",
       "        vertical-align: middle;\n",
       "    }\n",
       "\n",
       "    .dataframe tbody tr th {\n",
       "        vertical-align: top;\n",
       "    }\n",
       "\n",
       "    .dataframe thead th {\n",
       "        text-align: right;\n",
       "    }\n",
       "</style>\n",
       "<table border=\"1\" class=\"dataframe\">\n",
       "  <thead>\n",
       "    <tr style=\"text-align: right;\">\n",
       "      <th></th>\n",
       "      <th>ytvideoid</th>\n",
       "      <th>views</th>\n",
       "      <th>comments</th>\n",
       "      <th>likes</th>\n",
       "      <th>dislikes</th>\n",
       "      <th>timestamp</th>\n",
       "    </tr>\n",
       "  </thead>\n",
       "  <tbody>\n",
       "    <tr>\n",
       "      <th>0</th>\n",
       "      <td>1</td>\n",
       "      <td>-0.405903</td>\n",
       "      <td>-0.157636</td>\n",
       "      <td>-0.160458</td>\n",
       "      <td>-0.040363</td>\n",
       "      <td>2019-11-25 17:30:00</td>\n",
       "    </tr>\n",
       "    <tr>\n",
       "      <th>1</th>\n",
       "      <td>1</td>\n",
       "      <td>-0.405903</td>\n",
       "      <td>-0.154329</td>\n",
       "      <td>-0.153561</td>\n",
       "      <td>-0.040076</td>\n",
       "      <td>2019-11-25 18:00:00</td>\n",
       "    </tr>\n",
       "    <tr>\n",
       "      <th>2</th>\n",
       "      <td>1</td>\n",
       "      <td>-0.405903</td>\n",
       "      <td>-0.151378</td>\n",
       "      <td>-0.147413</td>\n",
       "      <td>-0.039823</td>\n",
       "      <td>2019-11-25 18:30:00</td>\n",
       "    </tr>\n",
       "    <tr>\n",
       "      <th>3</th>\n",
       "      <td>1</td>\n",
       "      <td>-0.403192</td>\n",
       "      <td>-0.149355</td>\n",
       "      <td>-0.142317</td>\n",
       "      <td>-0.039470</td>\n",
       "      <td>2019-11-25 19:00:00</td>\n",
       "    </tr>\n",
       "    <tr>\n",
       "      <th>4</th>\n",
       "      <td>1</td>\n",
       "      <td>-0.393049</td>\n",
       "      <td>-0.146999</td>\n",
       "      <td>-0.137949</td>\n",
       "      <td>-0.039217</td>\n",
       "      <td>2019-11-25 19:30:00</td>\n",
       "    </tr>\n",
       "  </tbody>\n",
       "</table>\n",
       "</div>"
      ],
      "text/plain": [
       "   ytvideoid     views  comments     likes  dislikes            timestamp\n",
       "0          1 -0.405903 -0.157636 -0.160458 -0.040363  2019-11-25 17:30:00\n",
       "1          1 -0.405903 -0.154329 -0.153561 -0.040076  2019-11-25 18:00:00\n",
       "2          1 -0.405903 -0.151378 -0.147413 -0.039823  2019-11-25 18:30:00\n",
       "3          1 -0.403192 -0.149355 -0.142317 -0.039470  2019-11-25 19:00:00\n",
       "4          1 -0.393049 -0.146999 -0.137949 -0.039217  2019-11-25 19:30:00"
      ]
     },
     "execution_count": 3,
     "metadata": {},
     "output_type": "execute_result"
    }
   ],
   "source": [
    "feature_cols = ['views', 'comments', 'likes', 'dislikes'] \n",
    "\n",
    "scaler = StandardScaler()\n",
    "\n",
    "scaler.fit(train_data[feature_cols])\n",
    "\n",
    "train_scaled = train_data.copy()\n",
    "train_scaled[feature_cols] = scaler.transform(train_data[feature_cols])\n",
    "\n",
    "val_scaled = val_data.copy()\n",
    "val_scaled[feature_cols] = scaler.transform(val_data[feature_cols])\n",
    "\n",
    "test_scaled = test_data.copy()\n",
    "test_scaled[feature_cols] = scaler.transform(test_data[feature_cols])\n",
    "\n",
    "train_scaled.head()"
   ]
  },
  {
   "cell_type": "code",
   "execution_count": 4,
   "id": "d6d67174",
   "metadata": {},
   "outputs": [],
   "source": [
    "seq_len = 10\n",
    "forecast_horizon = 1\n",
    "batch_size = 128\n",
    "\n",
    "train_dataset = YoutubeDataset(\n",
    "    df=train_scaled,\n",
    "    features=feature_cols,\n",
    "    target='views',\n",
    "    seq_len=seq_len,\n",
    "    forecast_horizon=forecast_horizon\n",
    ")\n",
    "train_loader = DataLoader(\n",
    "    train_dataset,\n",
    "    batch_size=batch_size,\n",
    "    shuffle=True,\n",
    "    drop_last=True\n",
    ")"
   ]
  },
  {
   "cell_type": "code",
   "execution_count": 5,
   "id": "f2ca6960",
   "metadata": {},
   "outputs": [],
   "source": [
    "val_dataset = YoutubeDataset(\n",
    "    df=val_scaled,\n",
    "    features=feature_cols,\n",
    "    target='views',\n",
    "    seq_len=seq_len,\n",
    "    forecast_horizon=forecast_horizon\n",
    ")\n",
    "test_dataset = YoutubeDataset(\n",
    "    df=test_scaled,\n",
    "    features=feature_cols,\n",
    "    target='views',\n",
    "    seq_len=seq_len,\n",
    "    forecast_horizon=forecast_horizon\n",
    ")"
   ]
  },
  {
   "cell_type": "code",
   "execution_count": 6,
   "id": "53e02a07",
   "metadata": {},
   "outputs": [],
   "source": [
    "val_loader = DataLoader(val_dataset, batch_size=batch_size, shuffle=False)\n",
    "test_loader = DataLoader(test_dataset, batch_size=batch_size, shuffle=False)"
   ]
  },
  {
   "cell_type": "markdown",
   "id": "53dc0971",
   "metadata": {},
   "source": [
    "# Train"
   ]
  },
  {
   "cell_type": "code",
   "execution_count": 7,
   "id": "2570b7a9",
   "metadata": {},
   "outputs": [
    {
     "name": "stderr",
     "output_type": "stream",
     "text": [
      "d:\\Programacion\\Multibranch-TimeSeries-NN\\.venv\\lib\\site-packages\\torch\\nn\\modules\\rnn.py:123: UserWarning: dropout option adds dropout after all but last recurrent layer, so non-zero dropout expects num_layers greater than 1, but got dropout=0.3 and num_layers=1\n",
      "  warnings.warn(\n"
     ]
    }
   ],
   "source": [
    "model = MultiBranchModel(\n",
    "    input_size=len(feature_cols),\n",
    "    hidden_size={'lstm': 50, 'gru': 50},\n",
    "    num_layers={'lstm': 1, 'gru': 1},\n",
    "    dropout={'lstm': 0.3, 'gru': 0.3},\n",
    "    output_size=1\n",
    ")"
   ]
  },
  {
   "cell_type": "code",
   "execution_count": 8,
   "id": "198c25a6",
   "metadata": {},
   "outputs": [
    {
     "name": "stdout",
     "output_type": "stream",
     "text": [
      "DEVICE: cpu\n"
     ]
    }
   ],
   "source": [
    "import torch.optim as optim\n",
    "import torch.nn as nn\n",
    "import torch\n",
    "\n",
    "optimizer = optim.Adam(model.parameters(), lr=0.001) \n",
    "loss_fn = nn.MSELoss()\n",
    "device = torch.device(\"cuda\" if torch.cuda.is_available() else \"cpu\")\n",
    "print(f'DEVICE: {device.type}')\n",
    "\n",
    "early_stopping = EarlyStopping(patience = 30,\n",
    "                               min_delta = 0.0001,\n",
    "                               verbose = True,\n",
    "                               path = \"best_model.pt\")\n",
    "\n",
    "trainer = Trainer(\n",
    "    model=model,\n",
    "    optimizer=optimizer,\n",
    "    loss_fn=loss_fn,\n",
    "    device=device,\n",
    "    early_stopping=early_stopping\n",
    ")"
   ]
  },
  {
   "cell_type": "code",
   "execution_count": 9,
   "id": "8d28cea4",
   "metadata": {},
   "outputs": [
    {
     "name": "stdout",
     "output_type": "stream",
     "text": [
      "Starting training.\n"
     ]
    },
    {
     "name": "stderr",
     "output_type": "stream",
     "text": [
      "                                   \r"
     ]
    },
    {
     "name": "stdout",
     "output_type": "stream",
     "text": [
      "Epoch [1/5000] | Training Loss: 0.0163 | Validation Loss: 0.0001\n",
      "Validation loss improved to 0.0001\n"
     ]
    },
    {
     "name": "stderr",
     "output_type": "stream",
     "text": [
      "                                   \r"
     ]
    },
    {
     "name": "stdout",
     "output_type": "stream",
     "text": [
      "No improvement in validation loss [1/30]\n"
     ]
    },
    {
     "name": "stderr",
     "output_type": "stream",
     "text": [
      "                                   \r"
     ]
    },
    {
     "name": "stdout",
     "output_type": "stream",
     "text": [
      "No improvement in validation loss [2/30]\n"
     ]
    },
    {
     "name": "stderr",
     "output_type": "stream",
     "text": [
      "                                   \r"
     ]
    },
    {
     "name": "stdout",
     "output_type": "stream",
     "text": [
      "No improvement in validation loss [3/30]\n"
     ]
    },
    {
     "name": "stderr",
     "output_type": "stream",
     "text": [
      "                                   \r"
     ]
    },
    {
     "name": "stdout",
     "output_type": "stream",
     "text": [
      "No improvement in validation loss [4/30]\n"
     ]
    },
    {
     "name": "stderr",
     "output_type": "stream",
     "text": [
      "                                   \r"
     ]
    },
    {
     "name": "stdout",
     "output_type": "stream",
     "text": [
      "No improvement in validation loss [5/30]\n"
     ]
    },
    {
     "name": "stderr",
     "output_type": "stream",
     "text": [
      "                                   \r"
     ]
    },
    {
     "name": "stdout",
     "output_type": "stream",
     "text": [
      "No improvement in validation loss [6/30]\n"
     ]
    },
    {
     "name": "stderr",
     "output_type": "stream",
     "text": [
      "                                   \r"
     ]
    },
    {
     "name": "stdout",
     "output_type": "stream",
     "text": [
      "No improvement in validation loss [7/30]\n"
     ]
    },
    {
     "name": "stderr",
     "output_type": "stream",
     "text": [
      "                                   \r"
     ]
    },
    {
     "name": "stdout",
     "output_type": "stream",
     "text": [
      "No improvement in validation loss [8/30]\n"
     ]
    },
    {
     "name": "stderr",
     "output_type": "stream",
     "text": [
      "                                   \r"
     ]
    },
    {
     "name": "stdout",
     "output_type": "stream",
     "text": [
      "No improvement in validation loss [9/30]\n"
     ]
    },
    {
     "name": "stderr",
     "output_type": "stream",
     "text": [
      "                                   \r"
     ]
    },
    {
     "name": "stdout",
     "output_type": "stream",
     "text": [
      "Epoch [11/5000] | Training Loss: 0.0004 | Validation Loss: 0.0000\n",
      "No improvement in validation loss [10/30]\n"
     ]
    },
    {
     "name": "stderr",
     "output_type": "stream",
     "text": [
      "                                   \r"
     ]
    },
    {
     "name": "stdout",
     "output_type": "stream",
     "text": [
      "No improvement in validation loss [11/30]\n"
     ]
    },
    {
     "name": "stderr",
     "output_type": "stream",
     "text": [
      "                                   \r"
     ]
    },
    {
     "name": "stdout",
     "output_type": "stream",
     "text": [
      "No improvement in validation loss [12/30]\n"
     ]
    },
    {
     "name": "stderr",
     "output_type": "stream",
     "text": [
      "                                   \r"
     ]
    },
    {
     "name": "stdout",
     "output_type": "stream",
     "text": [
      "No improvement in validation loss [13/30]\n"
     ]
    },
    {
     "name": "stderr",
     "output_type": "stream",
     "text": [
      "                                   \r"
     ]
    },
    {
     "name": "stdout",
     "output_type": "stream",
     "text": [
      "No improvement in validation loss [14/30]\n"
     ]
    },
    {
     "name": "stderr",
     "output_type": "stream",
     "text": [
      "                                   \r"
     ]
    },
    {
     "name": "stdout",
     "output_type": "stream",
     "text": [
      "No improvement in validation loss [15/30]\n"
     ]
    },
    {
     "name": "stderr",
     "output_type": "stream",
     "text": [
      "                                   \r"
     ]
    },
    {
     "name": "stdout",
     "output_type": "stream",
     "text": [
      "No improvement in validation loss [16/30]\n"
     ]
    },
    {
     "name": "stderr",
     "output_type": "stream",
     "text": [
      "                                   \r"
     ]
    },
    {
     "name": "stdout",
     "output_type": "stream",
     "text": [
      "No improvement in validation loss [17/30]\n"
     ]
    },
    {
     "name": "stderr",
     "output_type": "stream",
     "text": [
      "                                   \r"
     ]
    },
    {
     "name": "stdout",
     "output_type": "stream",
     "text": [
      "No improvement in validation loss [18/30]\n"
     ]
    },
    {
     "name": "stderr",
     "output_type": "stream",
     "text": [
      "                                   \r"
     ]
    },
    {
     "name": "stdout",
     "output_type": "stream",
     "text": [
      "No improvement in validation loss [19/30]\n"
     ]
    },
    {
     "name": "stderr",
     "output_type": "stream",
     "text": [
      "                                   \r"
     ]
    },
    {
     "name": "stdout",
     "output_type": "stream",
     "text": [
      "Epoch [21/5000] | Training Loss: 0.0003 | Validation Loss: 0.0001\n",
      "No improvement in validation loss [20/30]\n"
     ]
    },
    {
     "name": "stderr",
     "output_type": "stream",
     "text": [
      "                                   \r"
     ]
    },
    {
     "name": "stdout",
     "output_type": "stream",
     "text": [
      "No improvement in validation loss [21/30]\n"
     ]
    },
    {
     "name": "stderr",
     "output_type": "stream",
     "text": [
      "                                   \r"
     ]
    },
    {
     "name": "stdout",
     "output_type": "stream",
     "text": [
      "No improvement in validation loss [22/30]\n"
     ]
    },
    {
     "name": "stderr",
     "output_type": "stream",
     "text": [
      "                                   \r"
     ]
    },
    {
     "name": "stdout",
     "output_type": "stream",
     "text": [
      "No improvement in validation loss [23/30]\n"
     ]
    },
    {
     "name": "stderr",
     "output_type": "stream",
     "text": [
      "                                   \r"
     ]
    },
    {
     "name": "stdout",
     "output_type": "stream",
     "text": [
      "No improvement in validation loss [24/30]\n"
     ]
    },
    {
     "name": "stderr",
     "output_type": "stream",
     "text": [
      "                                   \r"
     ]
    },
    {
     "name": "stdout",
     "output_type": "stream",
     "text": [
      "No improvement in validation loss [25/30]\n"
     ]
    },
    {
     "name": "stderr",
     "output_type": "stream",
     "text": [
      "                                   \r"
     ]
    },
    {
     "name": "stdout",
     "output_type": "stream",
     "text": [
      "No improvement in validation loss [26/30]\n"
     ]
    },
    {
     "name": "stderr",
     "output_type": "stream",
     "text": [
      "                                   \r"
     ]
    },
    {
     "name": "stdout",
     "output_type": "stream",
     "text": [
      "No improvement in validation loss [27/30]\n"
     ]
    },
    {
     "name": "stderr",
     "output_type": "stream",
     "text": [
      "                                   \r"
     ]
    },
    {
     "name": "stdout",
     "output_type": "stream",
     "text": [
      "No improvement in validation loss [28/30]\n"
     ]
    },
    {
     "name": "stderr",
     "output_type": "stream",
     "text": [
      "                                   \r"
     ]
    },
    {
     "name": "stdout",
     "output_type": "stream",
     "text": [
      "No improvement in validation loss [29/30]\n"
     ]
    },
    {
     "name": "stderr",
     "output_type": "stream",
     "text": [
      "                                   \r"
     ]
    },
    {
     "name": "stdout",
     "output_type": "stream",
     "text": [
      "Epoch [31/5000] | Training Loss: 0.0003 | Validation Loss: 0.0001\n",
      "No improvement in validation loss [30/30]\n",
      "Early stopping triggered.\n"
     ]
    }
   ],
   "source": [
    "epochs = 5000\n",
    "train_loss, val_loss = trainer.fit(train_loader=train_loader, val_loader=val_loader, epochs=epochs)"
   ]
  },
  {
   "cell_type": "code",
   "execution_count": 10,
   "id": "be0e2ff4",
   "metadata": {},
   "outputs": [
    {
     "data": {
      "image/png": "[encoded data removed]",
      "text/plain": [
       "<Figure size 640x480 with 1 Axes>"
      ]
     },
     "metadata": {},
     "output_type": "display_data"
    }
   ],
   "source": [
    "plt.plot(train_loss, label='Training loss')\n",
    "plt.plot(val_loss, label='Validation loss')\n",
    "plt.title('Loss evolution')\n",
    "plt.grid(True)\n",
    "plt.tight_layout()\n",
    "plt.legend()\n",
    "plt.show()\n"
   ]
  },
  {
   "cell_type": "code",
   "execution_count": null,
   "id": "1fe4081c",
   "metadata": {},
   "outputs": [
    {
     "name": "stdout",
     "output_type": "stream",
     "text": [
      "OrderedDict([('lstm.lstm.weight_ih_l0', tensor([[-6.1349e-02,  1.0519e-01, -1.2638e-01, -8.0523e-02],\n",
      "        [ 1.0565e-03,  7.4191e-02,  6.7464e-03,  1.1460e-01],\n",
      "        [ 7.0609e-02,  7.1568e-03, -2.5537e-02, -7.2762e-02],\n",
      "        [-4.2496e-02, -1.3873e-03,  3.5808e-02,  6.1052e-02],\n",
      "        [ 8.4082e-02,  8.8876e-02, -1.0159e-01, -9.2291e-02],\n",
      "        [ 3.9678e-02,  7.4321e-02, -8.9867e-02,  1.6568e-01],\n",
      "        [ 2.5966e-02,  1.8193e-02,  1.2550e-01, -1.1526e-01],\n",
      "        [-6.1894e-02,  2.5284e-02, -1.4430e-02,  1.5794e-01],\n",
      "        [-2.3855e-02, -1.2546e-03, -3.1473e-02, -4.6546e-04],\n",
      "        [ 4.3978e-03,  1.9436e-01,  9.6985e-02,  2.8854e-01],\n",
      "        [ 8.8843e-02, -9.7303e-03,  7.2056e-02,  2.4737e-02],\n",
      "        [-5.7049e-02, -1.9864e-02,  1.3408e-01,  5.9580e-02],\n",
      "        [-1.7061e-02,  4.2593e-02,  1.0493e-01,  1.3139e-01],\n",
      "        [-4.0512e-03,  3.1471e-02,  6.5760e-02, -9.0935e-02],\n",
      "        [ 1.0759e-01, -3.0645e-02, -1.4097e-02,  4.1101e-02],\n",
      "        [ 1.1020e-01,  8.4596e-02, -2.9480e-02,  9.8952e-02],\n",
      "        [ 1.1501e-01, -1.5310e-03,  5.4736e-03,  1.1236e-01],\n",
      "        [ 1.0533e-01,  1.1463e-01, -1.0968e-01, -8.7132e-02],\n",
      "        [ 3.1632e-02,  1.2853e-01,  1.2037e-01,  1.5198e-01],\n",
      "        [ 7.5374e-02, -5.2294e-02,  8.5895e-02, -8.0266e-02],\n",
      "        [-1.3212e-01,  1.6635e-01,  1.3334e-01, -1.2890e-01],\n",
      "        [ 1.2079e-01,  7.8244e-03,  1.7884e-03,  3.5368e-02],\n",
      "        [ 8.7306e-02, -6.6384e-02,  7.7126e-02,  1.2099e-01],\n",
      "        [ 1.0235e-01, -1.2266e-02, -1.9644e-01, -3.7942e-02],\n",
      "        [ 1.3843e-02,  1.2888e-01, -8.0974e-02, -9.0412e-02],\n",
      "        [ 1.1263e-01,  8.9568e-02, -3.6869e-02, -1.4180e-02],\n",
      "        [-1.8625e-01, -9.6179e-02, -1.5616e-01, -2.0121e-01],\n",
      "        [ 8.8548e-02,  2.9116e-02, -4.3310e-02,  2.3600e-01],\n",
      "        [-1.2528e-01,  1.5060e-01,  8.6996e-02, -1.1596e-01],\n",
      "        [ 2.4887e-02, -4.6404e-03,  2.7063e-02,  5.0508e-02],\n",
      "        [ 9.5710e-02,  1.0085e-02, -5.7407e-02,  1.1255e-01],\n",
      "        [-3.3940e-02,  6.7463e-03,  4.8240e-02,  4.6692e-02],\n",
      "        [-4.7541e-03, -3.2556e-02,  3.9353e-02, -5.7370e-02],\n",
      "        [ 2.5400e-03, -2.1708e-02,  9.8797e-02, -6.9240e-02],\n",
      "        [ 4.0226e-02, -8.8055e-03,  4.1621e-02,  1.1427e-01],\n",
      "        [ 1.7967e-01,  9.6237e-02,  1.5394e-01,  4.1902e-02],\n",
      "        [-7.0436e-02, -3.6800e-02,  1.3874e-01,  4.0381e-02],\n",
      "        [ 1.0790e-02, -1.4059e-02, -4.6370e-02,  1.9330e-02],\n",
      "        [ 3.6078e-02,  1.4550e-01,  1.2665e-01, -6.1809e-02],\n",
      "        [ 1.3509e-01, -5.9009e-02,  1.9976e-02, -7.9679e-02],\n",
      "        [ 8.2108e-02,  7.7231e-02, -1.0491e-03, -7.1014e-03],\n",
      "        [-1.5870e-03,  1.4146e-02, -4.0897e-02,  9.8908e-02],\n",
      "        [-4.5561e-02,  1.8326e-02,  1.6008e-01,  3.0681e-02],\n",
      "        [ 2.0865e-01,  3.0411e-02, -1.2129e-01,  2.2174e-01],\n",
      "        [ 2.2420e-02, -1.9794e-02,  1.3115e-01, -6.6838e-02],\n",
      "        [ 7.9837e-02, -1.9668e-02,  9.7024e-02,  7.1313e-02],\n",
      "        [ 1.1922e-01, -1.4094e-03, -1.0091e-02,  4.2847e-02],\n",
      "        [-1.3708e-01,  4.7031e-02,  8.5559e-02,  1.3646e-01],\n",
      "        [-1.0713e-01, -2.7176e-02, -9.6524e-02, -4.0565e-02],\n",
      "        [-5.0711e-02,  1.1067e-01, -1.9168e-02,  1.8842e-02],\n",
      "        [-5.6674e-02,  6.4146e-02, -1.5527e-01, -8.5862e-02],\n",
      "        [-7.9130e-03,  9.9560e-02, -6.9042e-02,  9.1664e-02],\n",
      "        [ 1.4340e-01, -1.1250e-02, -6.6143e-03, -5.2695e-02],\n",
      "        [ 9.5252e-02,  5.7549e-03, -1.3164e-02,  3.6939e-02],\n",
      "        [-4.0587e-02,  3.7282e-03,  1.4299e-01, -3.0611e-02],\n",
      "        [-2.5988e-02,  8.6143e-02, -9.0176e-03,  8.4413e-02],\n",
      "        [ 9.2062e-03,  9.7436e-02, -6.4441e-02, -2.4084e-02],\n",
      "        [-8.0123e-03,  2.6485e-02, -1.6090e-03,  1.8209e-01],\n",
      "        [ 9.1425e-02,  1.5235e-01,  8.1573e-02,  2.5503e-02],\n",
      "        [ 1.4919e-01, -3.2946e-02, -2.3344e-02,  1.3341e-01],\n",
      "        [ 5.2384e-02,  7.3783e-02, -8.2748e-02,  5.8407e-02],\n",
      "        [ 1.1787e-01, -5.7540e-02,  1.3689e-01, -1.4582e-01],\n",
      "        [ 7.4351e-02,  1.2904e-02, -3.1037e-02,  7.0369e-02],\n",
      "        [ 1.5672e-01, -9.2294e-04, -3.1825e-02, -6.3245e-02],\n",
      "        [-1.1733e-01,  1.0644e-01, -3.9668e-02, -5.4873e-02],\n",
      "        [-6.8464e-02,  5.9219e-02,  2.6307e-02,  9.6771e-02],\n",
      "        [ 9.0046e-02,  8.5717e-03, -2.3438e-02,  5.7463e-02],\n",
      "        [ 1.5476e-01,  1.9407e-02, -8.6164e-02, -4.3892e-02],\n",
      "        [-5.3153e-02,  1.0350e-01, -1.7774e-02, -3.2010e-03],\n",
      "        [ 7.1284e-02, -3.1731e-02, -4.7944e-02,  1.7264e-01],\n",
      "        [ 7.2818e-02,  2.2869e-03, -8.9508e-02,  2.2375e-01],\n",
      "        [ 9.0193e-02,  3.7407e-02, -7.8372e-02,  9.3177e-02],\n",
      "        [ 3.6098e-02,  5.4952e-02, -4.6342e-02,  1.0679e-01],\n",
      "        [ 6.2205e-02,  1.4145e-03, -5.1585e-02, -4.3667e-02],\n",
      "        [ 4.9237e-02,  9.0797e-03,  7.7211e-02, -5.0789e-02],\n",
      "        [-5.7436e-02,  1.4636e-02, -6.6091e-02,  6.5610e-02],\n",
      "        [-3.8713e-03, -1.6792e-01, -1.2608e-02, -2.2433e-02],\n",
      "        [ 1.5375e-01,  3.8185e-02, -7.6312e-02,  6.9839e-02],\n",
      "        [ 1.6919e-02, -2.5521e-03,  4.5170e-02,  1.6292e-01],\n",
      "        [-8.4189e-03,  2.4449e-02,  3.4737e-02,  3.0164e-02],\n",
      "        [ 3.6301e-02,  8.6796e-02, -1.0299e-01,  6.5584e-02],\n",
      "        [ 9.5476e-02, -1.3400e-03,  8.6782e-03, -1.0755e-01],\n",
      "        [ 1.0311e-01,  4.3829e-02, -8.0179e-02, -5.7984e-02],\n",
      "        [ 1.9918e-01,  3.4306e-02, -1.1804e-01, -1.7083e-02],\n",
      "        [ 5.4693e-02,  9.8971e-03,  2.6743e-02,  6.9798e-02],\n",
      "        [-8.5238e-03, -6.4559e-02,  1.1940e-01,  3.5049e-02],\n",
      "        [-1.7879e-03,  1.9519e-01,  6.9543e-02,  1.2554e-01],\n",
      "        [-7.5930e-02, -2.7885e-02, -1.5376e-01,  2.7884e-02],\n",
      "        [ 5.1879e-02,  4.3179e-02,  1.1906e-02,  6.3609e-02],\n",
      "        [-2.0989e-02,  1.1289e-01, -6.0503e-02,  4.9978e-02],\n",
      "        [ 2.5402e-03,  6.4979e-03, -2.5656e-02,  1.8176e-01],\n",
      "        [ 1.2786e-01,  2.0294e-01,  7.5672e-02, -3.8682e-02],\n",
      "        [ 2.1307e-02,  4.4065e-02, -6.1568e-02,  2.3575e-01],\n",
      "        [ 1.6337e-02,  3.3811e-02, -5.9332e-02,  1.2511e-02],\n",
      "        [ 7.8003e-02,  9.9218e-03, -1.0852e-02,  1.5653e-01],\n",
      "        [ 1.5440e-01, -3.9141e-02,  2.5369e-02,  1.6743e-01],\n",
      "        [ 2.6293e-02,  5.5332e-02,  1.7482e-02,  6.8738e-02],\n",
      "        [-3.6377e-02,  5.6262e-02,  5.8507e-03, -6.0368e-02],\n",
      "        [-3.0266e-02, -3.5599e-02, -5.0328e-02,  2.1817e-01],\n",
      "        [ 8.2499e-02,  2.9744e-02, -6.7686e-02,  6.6810e-02],\n",
      "        [ 4.0226e-02,  3.9321e-02, -6.9384e-02,  1.1140e-01],\n",
      "        [-6.5710e-02, -1.6108e-01,  9.7822e-02,  3.2770e-02],\n",
      "        [-1.0637e-01,  5.9110e-02, -7.1672e-02, -2.6952e-02],\n",
      "        [-6.8021e-03, -2.9524e-02, -1.4897e-01, -3.8123e-02],\n",
      "        [-1.0276e-01, -3.0045e-02,  6.9946e-03,  6.4661e-02],\n",
      "        [ 2.2825e-02, -7.8589e-02, -7.6731e-03,  1.1471e-01],\n",
      "        [-1.2933e-02, -1.5098e-01, -5.4605e-02, -1.6974e-01],\n",
      "        [ 3.4621e-02,  4.1360e-02, -7.2260e-02,  1.2746e-01],\n",
      "        [ 5.0857e-02, -1.3441e-02, -1.4283e-01, -1.0238e-01],\n",
      "        [ 1.0292e-01, -4.5400e-02,  1.0436e-01, -5.6270e-02],\n",
      "        [-1.6351e-01, -7.1549e-02,  2.5756e-02, -1.6487e-02],\n",
      "        [-1.7867e-01,  7.4620e-02, -2.2627e-02, -2.1547e-02],\n",
      "        [ 5.7919e-02, -6.7410e-02,  1.3141e-01,  4.0295e-02],\n",
      "        [ 7.3642e-02,  1.6346e-02, -1.4615e-01,  6.5083e-02],\n",
      "        [ 6.9267e-02,  4.2411e-02, -9.4807e-02, -7.6428e-02],\n",
      "        [-1.3239e-01,  1.1618e-02,  7.1909e-02, -6.0567e-02],\n",
      "        [ 5.3283e-02,  6.4559e-02,  1.3477e-03, -5.2730e-02],\n",
      "        [-1.5074e-01, -1.3408e-02,  8.8639e-02,  1.1826e-01],\n",
      "        [-2.5090e-03, -6.3273e-02,  1.3894e-02, -1.4214e-01],\n",
      "        [-1.1305e-01, -4.0592e-03, -4.4438e-02,  3.9688e-02],\n",
      "        [-1.3250e-01, -9.3182e-03, -4.4942e-02,  5.3636e-02],\n",
      "        [ 1.3815e-02,  1.0163e-01,  9.0141e-02,  9.4940e-02],\n",
      "        [-6.7886e-02, -1.0787e-02,  1.5413e-03,  6.0219e-02],\n",
      "        [ 1.0066e-01, -8.0019e-02,  1.2186e-01, -3.3129e-03],\n",
      "        [-1.3862e-01, -1.0350e-02,  1.3835e-01,  6.7180e-02],\n",
      "        [-1.2483e-01,  1.0503e-01,  9.6239e-02,  6.1149e-02],\n",
      "        [ 9.6868e-02, -1.3336e-01, -3.5328e-03, -2.1723e-02],\n",
      "        [-9.7181e-02,  8.3298e-03, -5.7879e-02,  3.3005e-02],\n",
      "        [-8.2962e-02, -2.5345e-02,  4.0222e-02,  5.2163e-02],\n",
      "        [-1.3002e-01, -1.1252e-02,  5.6692e-02, -1.3697e-02],\n",
      "        [ 1.1018e-01,  2.9423e-03,  6.2761e-02, -1.2640e-02],\n",
      "        [-1.4759e-01, -5.5521e-02,  1.0484e-01, -1.4145e-02],\n",
      "        [-9.0085e-02, -1.1008e-01,  8.7257e-02,  1.1147e-01],\n",
      "        [-7.0294e-02, -5.0785e-02, -6.0035e-02,  3.9125e-02],\n",
      "        [-7.3818e-02, -4.7078e-02, -4.1636e-03,  3.2962e-02],\n",
      "        [-5.3830e-02,  6.1968e-02,  2.4310e-02,  4.1072e-03],\n",
      "        [-4.6600e-02,  5.3127e-02, -1.4139e-01, -3.5375e-02],\n",
      "        [-1.2913e-01,  1.3240e-01,  1.3128e-02,  7.5506e-02],\n",
      "        [ 2.1736e-01, -4.5812e-02,  3.7844e-02,  3.7175e-02],\n",
      "        [ 1.0274e-02, -8.1503e-02,  7.3377e-02, -2.7770e-02],\n",
      "        [-1.7387e-01,  5.5804e-03,  2.6157e-02,  4.7331e-02],\n",
      "        [-2.8941e-02,  1.6328e-01, -2.4760e-03,  2.4889e-02],\n",
      "        [ 1.0389e-01,  1.6670e-02,  5.5997e-02,  4.0343e-02],\n",
      "        [-8.1878e-02, -2.6077e-02, -1.7754e-03,  5.0458e-02],\n",
      "        [-6.2068e-02, -1.0031e-01,  5.9400e-02,  9.7829e-02],\n",
      "        [ 2.2112e-02,  6.6489e-03,  1.3657e-02,  3.8203e-02],\n",
      "        [-5.4507e-02, -4.6509e-02,  4.3118e-02,  2.6411e-02],\n",
      "        [ 1.2346e-01,  5.3492e-02, -9.0288e-02, -6.5288e-02],\n",
      "        [-1.2955e-01,  1.0961e-01,  4.5164e-02,  5.8572e-02],\n",
      "        [-1.2032e-01,  1.3532e-01,  1.4008e-01,  1.2448e-01],\n",
      "        [-1.6673e-01, -1.8937e-02, -1.0409e-01,  1.9193e-01],\n",
      "        [ 4.0178e-02,  2.3046e-03,  1.4290e-01,  3.0250e-02],\n",
      "        [ 3.0343e-02,  3.4654e-02,  6.1662e-02, -1.4887e-02],\n",
      "        [ 2.4200e-01,  9.7411e-03,  4.6684e-02,  8.2520e-02],\n",
      "        [ 8.3883e-02,  1.6717e-02,  9.0089e-02,  1.2277e-01],\n",
      "        [ 2.4719e-02,  2.4257e-01,  1.1925e-01, -2.1636e-02],\n",
      "        [ 6.5190e-02, -2.1627e-02,  2.0523e-01,  4.4069e-02],\n",
      "        [-3.7622e-02,  1.7920e-02,  1.4260e-01,  4.1571e-02],\n",
      "        [ 1.6904e-01,  3.9425e-02,  8.3964e-02,  2.4194e-02],\n",
      "        [ 9.4702e-02, -4.9772e-03,  3.5894e-02,  1.1263e-01],\n",
      "        [-4.3737e-02,  4.3871e-02,  7.9853e-02,  1.1177e-01],\n",
      "        [ 1.3912e-02,  2.1433e-01,  3.6217e-03,  2.1039e-01],\n",
      "        [-7.0031e-03, -3.3895e-03,  1.3947e-01,  4.0330e-02],\n",
      "        [ 2.0458e-01, -9.3562e-03, -1.7253e-02,  2.9797e-02],\n",
      "        [ 2.4931e-05,  1.1247e-01, -5.4907e-02,  1.2182e-01],\n",
      "        [ 9.7064e-02,  4.1454e-02,  2.0419e-01,  6.7091e-03],\n",
      "        [ 3.4075e-02,  9.5199e-02, -4.0896e-02,  1.6347e-01],\n",
      "        [ 4.9909e-02,  1.5807e-01, -4.7220e-02,  3.8152e-03],\n",
      "        [ 1.1559e-02,  6.9464e-02,  9.3784e-02,  3.6281e-02],\n",
      "        [ 1.7405e-03,  8.5689e-02,  1.5479e-01,  7.3878e-02],\n",
      "        [ 2.1973e-01, -3.2438e-02,  4.2251e-02,  1.5859e-01],\n",
      "        [ 1.5565e-01,  1.6053e-01,  1.9012e-02, -1.0917e-02],\n",
      "        [ 1.9772e-01,  1.3590e-01,  8.7361e-02,  1.6976e-02],\n",
      "        [ 1.4855e-01,  1.8835e-01,  7.7847e-02, -8.7000e-02],\n",
      "        [ 1.2688e-01, -4.8007e-02,  9.3110e-02,  1.1244e-01],\n",
      "        [-6.4028e-02, -2.0134e-02, -1.3366e-01, -2.2416e-02],\n",
      "        [-1.4220e-01, -1.1713e-01, -3.4933e-02,  2.1065e-02],\n",
      "        [-1.5048e-02,  1.2545e-01,  4.7626e-02, -1.0136e-01],\n",
      "        [-4.0644e-02, -4.7201e-02,  2.1494e-01,  1.1089e-01],\n",
      "        [ 4.6549e-02,  8.6175e-02,  1.4321e-01,  1.1280e-01],\n",
      "        [ 1.6073e-01, -4.0022e-02,  3.3299e-02, -9.1289e-02],\n",
      "        [ 1.1156e-02,  1.1715e-01,  2.0321e-01,  1.7063e-03],\n",
      "        [ 1.4911e-01,  2.4484e-02, -2.5276e-03,  2.2085e-01],\n",
      "        [ 4.9921e-02,  4.6391e-02, -5.6223e-02,  1.9785e-01],\n",
      "        [ 4.7055e-02, -2.3298e-02,  1.1314e-01,  9.4096e-02],\n",
      "        [-1.3728e-01, -8.3743e-02,  9.8314e-02,  1.2370e-04],\n",
      "        [ 1.6264e-01,  1.5144e-01,  9.0207e-02, -9.1271e-03],\n",
      "        [ 1.3747e-01,  5.0612e-02, -5.9354e-02,  5.5233e-02],\n",
      "        [ 1.4106e-01,  9.2766e-02,  2.7958e-02,  1.2610e-02],\n",
      "        [-1.3361e-01,  7.4196e-02, -1.2594e-01, -4.4558e-02],\n",
      "        [ 1.0181e-01,  1.7639e-01,  1.9051e-03,  1.7829e-01],\n",
      "        [ 1.4779e-01, -1.4072e-02,  5.5392e-02,  1.7484e-01],\n",
      "        [ 6.1003e-03,  2.2347e-02,  1.2022e-01,  3.5956e-02],\n",
      "        [ 1.2061e-01,  6.2746e-02,  8.8788e-02, -1.1349e-01],\n",
      "        [ 1.5461e-01, -4.2725e-02,  1.5322e-01, -6.2244e-02],\n",
      "        [-7.5238e-02,  3.8751e-02, -9.8282e-03, -8.8372e-02],\n",
      "        [-3.4534e-02,  3.9119e-02,  2.5365e-02, -7.1302e-02],\n",
      "        [ 2.9436e-02,  6.4235e-02,  5.5689e-02,  1.6459e-01],\n",
      "        [ 1.0874e-01,  1.9639e-01,  4.1990e-03,  6.7779e-02],\n",
      "        [-7.2461e-02, -1.0193e-01,  4.6615e-02, -2.9747e-02]])), ('lstm.lstm.weight_hh_l0', tensor([[ 0.0053, -0.1545,  0.1190,  ...,  0.0419,  0.1372,  0.0751],\n",
      "        [-0.0078,  0.1027, -0.1012,  ...,  0.0452, -0.0169, -0.0331],\n",
      "        [ 0.1044,  0.2889,  0.1259,  ...,  0.0602, -0.0139, -0.1151],\n",
      "        ...,\n",
      "        [-0.0037,  0.0317, -0.0386,  ...,  0.1379, -0.0919, -0.2060],\n",
      "        [ 0.1206, -0.0104, -0.0145,  ..., -0.0332,  0.0327, -0.0735],\n",
      "        [ 0.0246, -0.1555, -0.0879,  ...,  0.0878, -0.1659, -0.0278]])), ('lstm.lstm.bias_ih_l0', tensor([-1.3158e-01,  1.0412e-01, -3.4709e-02,  5.7257e-02, -7.6585e-02,\n",
      "        -1.0916e-01, -6.8942e-02, -1.6066e-01,  8.6201e-02, -1.4008e-01,\n",
      "         2.8311e-02, -1.3178e-01, -1.3192e-01, -9.4977e-02,  7.8040e-02,\n",
      "        -1.1018e-01, -9.8559e-03,  3.8212e-03, -2.1949e-01,  8.6626e-02,\n",
      "        -3.9066e-02, -1.5461e-01, -1.7523e-02,  4.9561e-02, -8.5170e-03,\n",
      "        -8.7212e-02,  6.0938e-02, -5.3199e-02, -6.9136e-02,  1.0115e-02,\n",
      "        -1.0141e-01,  1.5943e-01,  8.3080e-02, -1.5817e-02, -8.6919e-02,\n",
      "         5.4490e-02,  1.0245e-02,  8.4106e-02, -1.4699e-02, -9.9818e-02,\n",
      "        -5.1341e-02, -9.7745e-02, -6.4029e-02, -2.3592e-02,  9.1742e-02,\n",
      "        -1.7633e-02, -1.4047e-02, -1.3679e-04,  1.2812e-01, -3.1855e-02,\n",
      "        -2.1158e-01, -4.8789e-02, -9.1838e-02,  1.5052e-01, -6.7620e-02,\n",
      "        -3.8997e-02, -2.0527e-02, -2.4498e-01, -1.3824e-01, -1.2424e-01,\n",
      "        -8.7568e-02, -1.7514e-01, -6.6296e-03, -4.1912e-02,  3.1229e-02,\n",
      "        -1.8966e-01, -1.0621e-01,  1.1961e-02,  1.1190e-01, -5.3194e-02,\n",
      "        -1.6715e-01, -1.8293e-01,  1.0587e-01, -5.2960e-02, -1.2935e-01,\n",
      "        -1.4164e-02, -8.4536e-02,  5.7319e-02, -1.3878e-01, -8.8181e-02,\n",
      "         5.3313e-02, -1.7421e-01,  6.4046e-02, -2.4554e-02, -1.5863e-01,\n",
      "         2.1711e-02, -6.5300e-02, -4.0234e-02, -1.3568e-01,  1.1527e-01,\n",
      "         7.7678e-02,  1.5186e-01,  9.2697e-02, -5.5006e-02, -1.2145e-01,\n",
      "        -4.5669e-02, -9.9402e-02,  1.0858e-01,  1.1559e-01,  1.0524e-01,\n",
      "         4.1894e-02, -1.4748e-01, -4.6063e-02, -2.4768e-01, -1.5014e-01,\n",
      "         8.1465e-02, -1.2498e-01,  3.0046e-02, -1.0547e-01,  3.1752e-02,\n",
      "        -5.2832e-02,  1.0761e-01,  2.4027e-01, -1.4851e-01, -2.6506e-02,\n",
      "         1.8008e-01,  1.0555e-01, -1.0652e-01, -1.0217e-01, -1.4553e-02,\n",
      "        -8.8859e-03, -8.3069e-02, -1.2774e-02,  9.3467e-02,  3.3104e-02,\n",
      "         1.0709e-01,  3.0119e-04, -9.4107e-02,  1.9752e-01,  7.3534e-02,\n",
      "        -1.6103e-01,  2.5843e-02,  7.7905e-02,  1.2691e-01,  1.8710e-01,\n",
      "         2.3936e-01,  7.1802e-02, -8.8262e-02,  2.4734e-02,  4.7030e-02,\n",
      "        -5.9062e-02,  1.6220e-01, -1.3132e-01,  1.0828e-01,  9.9619e-02,\n",
      "         2.1445e-01,  1.9738e-01,  1.6683e-02, -9.8601e-02, -7.0064e-03,\n",
      "        -1.9439e-01,  1.2567e-01, -4.7842e-02,  1.2783e-01, -8.5469e-02,\n",
      "         1.7667e-01, -6.7991e-02, -4.7739e-02, -2.2405e-01, -3.0323e-02,\n",
      "        -1.0756e-01,  1.0472e-01, -2.2727e-02,  3.3022e-02,  1.1497e-01,\n",
      "         1.0998e-01,  1.1221e-02, -1.0046e-01, -2.5223e-02,  1.5191e-01,\n",
      "        -1.4255e-01, -6.3659e-02, -9.5013e-02, -3.7814e-02,  4.3744e-02,\n",
      "        -3.3193e-02, -1.4680e-01,  1.2756e-01,  1.8368e-01, -7.4320e-02,\n",
      "         1.5079e-01, -1.2672e-01, -2.0187e-01,  1.1648e-01,  5.6116e-02,\n",
      "         1.0835e-01, -2.0680e-01,  1.6293e-01, -1.1918e-01, -4.2469e-02,\n",
      "         8.8899e-02,  7.9031e-02,  1.0336e-01, -9.1571e-02, -2.1769e-02,\n",
      "         1.1014e-01,  8.5127e-02, -6.8808e-02, -1.5390e-01,  1.7828e-01])), ('lstm.lstm.bias_hh_l0', tensor([ 3.7786e-02, -8.2356e-02,  4.3600e-02,  1.7110e-01, -2.7798e-02,\n",
      "        -7.6263e-02, -1.4173e-03, -9.5756e-02, -1.0486e-01, -7.8772e-02,\n",
      "         4.7163e-02, -1.0046e-01,  1.6707e-03,  1.8314e-02,  1.2190e-01,\n",
      "         1.1022e-01, -6.1834e-02, -4.7605e-02, -1.9448e-01,  1.9379e-01,\n",
      "        -7.0092e-02,  2.9138e-02,  6.3137e-02,  8.6358e-02, -3.0769e-02,\n",
      "        -4.8456e-02,  8.8139e-02, -1.3079e-01,  5.7068e-02, -1.2333e-01,\n",
      "         1.1574e-01,  1.6187e-01, -2.0682e-02, -6.7179e-02,  3.6012e-02,\n",
      "        -1.1480e-01,  1.5331e-01,  1.7361e-01, -5.4821e-02,  1.4703e-01,\n",
      "         1.2085e-01,  9.4554e-02,  4.4025e-02, -1.3520e-01, -9.9629e-02,\n",
      "        -1.5019e-03,  3.0871e-02,  6.5978e-02, -2.9515e-02,  4.4693e-02,\n",
      "         2.8659e-02,  4.1995e-03, -1.3505e-01,  1.0052e-01,  2.4940e-02,\n",
      "        -1.0179e-01, -1.0415e-01, -3.6960e-02,  2.7369e-02,  4.3094e-02,\n",
      "        -2.5401e-02,  2.9919e-02,  1.3184e-01, -1.0306e-01,  7.8125e-02,\n",
      "         3.7207e-02,  4.6624e-02, -2.9889e-02,  5.9495e-02,  3.8781e-02,\n",
      "        -8.4227e-02,  6.8782e-02, -1.4296e-02,  1.9868e-02,  6.3986e-03,\n",
      "         7.7057e-03,  5.7144e-02,  7.1223e-02,  4.6028e-03, -1.3199e-01,\n",
      "        -1.4467e-01, -8.6944e-02,  7.2213e-02, -1.8705e-01, -4.0775e-02,\n",
      "         5.4369e-03, -8.3769e-02,  1.3400e-01,  5.1756e-02, -5.2289e-02,\n",
      "         5.1849e-02,  1.2412e-01, -5.1298e-02, -1.2644e-02,  6.0788e-02,\n",
      "        -1.2355e-01, -1.5636e-01, -1.2753e-01,  1.0556e-01, -1.0262e-01,\n",
      "         7.8029e-02, -6.5785e-02, -9.9119e-02, -5.8828e-02,  8.4646e-02,\n",
      "        -9.2618e-02, -7.6796e-02, -4.7316e-02, -1.4040e-01,  3.1471e-02,\n",
      "         5.7318e-02,  8.0363e-03,  9.1408e-02, -4.4232e-02, -1.7847e-02,\n",
      "         1.5100e-01, -9.8932e-02, -3.5252e-02, -8.2211e-04,  1.8231e-01,\n",
      "         1.1867e-01, -1.0856e-01, -7.9675e-03, -1.0453e-01, -1.0810e-01,\n",
      "         1.9552e-01,  9.8632e-02,  1.8922e-02,  1.4526e-01, -3.5868e-02,\n",
      "         4.7997e-03, -1.4507e-01, -8.7024e-02,  1.2523e-02,  8.9815e-02,\n",
      "         1.8138e-01, -2.0498e-02, -1.2924e-01,  9.7404e-02,  8.0467e-02,\n",
      "        -1.8426e-02,  1.2091e-01,  8.5741e-02, -7.6841e-02, -1.3691e-01,\n",
      "         1.9141e-01,  1.3590e-01, -3.7446e-02,  5.9207e-02,  9.0568e-02,\n",
      "        -1.0579e-01,  7.7928e-02, -9.9154e-03, -3.3220e-02, -1.4703e-01,\n",
      "         7.9655e-02, -1.3697e-01, -6.6989e-02, -4.2636e-02,  2.0256e-04,\n",
      "         1.1833e-01,  5.3230e-02,  9.4781e-02,  7.9716e-02,  3.9506e-03,\n",
      "         1.0256e-01, -1.4949e-01,  7.8580e-02, -1.2979e-01,  1.9710e-02,\n",
      "        -7.1513e-02, -1.3054e-01, -7.1891e-02,  6.6636e-02, -2.4100e-02,\n",
      "         2.2453e-01, -7.7102e-02, -6.6159e-02, -6.7057e-03, -2.5263e-02,\n",
      "        -6.0638e-04, -8.9432e-02, -8.0566e-02,  7.1248e-02,  7.4811e-02,\n",
      "        -5.9803e-02, -2.3717e-01,  1.1010e-01, -2.2106e-01, -5.3925e-03,\n",
      "         3.6260e-02,  6.7103e-02, -6.0548e-03,  4.0483e-03, -5.5024e-02,\n",
      "        -1.1729e-01,  4.4648e-02,  1.0910e-01, -1.7786e-01,  1.1128e-01])), ('gru.gru.weight_ih_l0', tensor([[ 1.3574e-01,  9.6756e-02,  3.8833e-02,  6.0564e-02],\n",
      "        [ 6.8459e-02, -1.9896e-02,  9.4651e-02,  6.7865e-02],\n",
      "        [ 5.1926e-02,  4.2710e-02,  9.5975e-02,  7.8088e-02],\n",
      "        [ 9.5567e-03,  3.6401e-02,  9.1668e-02,  7.0217e-02],\n",
      "        [ 1.0954e-01,  7.5509e-02, -1.2100e-01,  4.7785e-02],\n",
      "        [-5.6009e-02,  2.0321e-01,  8.5006e-02, -2.9006e-02],\n",
      "        [ 1.3113e-01,  3.4536e-02, -7.9628e-02,  1.1362e-01],\n",
      "        [ 5.0282e-02,  5.2192e-02,  5.7328e-02,  9.0841e-02],\n",
      "        [-7.9038e-02,  1.3334e-01, -7.7751e-03,  1.4441e-01],\n",
      "        [ 1.6788e-01, -1.0226e-02,  1.1508e-01,  1.4480e-01],\n",
      "        [ 1.0872e-01,  8.0369e-02,  6.6934e-02,  3.6851e-02],\n",
      "        [-1.5151e-01,  4.6016e-02, -7.6301e-02,  8.8796e-03],\n",
      "        [ 7.7551e-02, -1.3077e-02,  2.7049e-02,  4.5972e-02],\n",
      "        [-1.0221e-02,  5.4072e-02,  3.9699e-02, -9.7096e-03],\n",
      "        [ 3.8908e-02,  1.5322e-01,  3.9596e-02,  1.6879e-01],\n",
      "        [ 8.1626e-02, -1.0576e-01, -5.7311e-02, -5.1158e-02],\n",
      "        [-5.3881e-02,  9.9461e-02, -1.0335e-01,  1.4041e-01],\n",
      "        [ 1.0823e-02,  7.5042e-03,  5.3063e-02,  9.3808e-02],\n",
      "        [-2.2285e-02, -1.0326e-01,  8.0550e-02, -1.0115e-01],\n",
      "        [ 1.1850e-01,  3.5110e-02, -3.6886e-02, -6.3735e-02],\n",
      "        [ 8.1746e-02,  1.3787e-01, -1.1302e-01,  7.2100e-02],\n",
      "        [-6.7631e-02, -2.9394e-02,  6.9065e-02,  1.1703e-01],\n",
      "        [ 2.3352e-02,  1.7815e-01, -1.1477e-01,  1.7639e-03],\n",
      "        [ 4.9681e-02, -3.8654e-02,  1.3903e-02,  1.1067e-01],\n",
      "        [ 1.3301e-01,  3.1011e-02,  2.3479e-02,  1.4747e-01],\n",
      "        [-2.0228e-03,  5.2301e-02,  1.0492e-01, -4.2849e-02],\n",
      "        [ 4.6141e-02,  9.5256e-02,  1.8177e-01,  5.3981e-02],\n",
      "        [-7.5128e-02,  8.4779e-02,  1.0363e-03,  2.6810e-01],\n",
      "        [-1.0543e-01, -6.5682e-02,  4.7819e-02,  1.5803e-01],\n",
      "        [ 1.6682e-01,  1.3987e-02,  1.5204e-01, -1.0710e-01],\n",
      "        [ 1.2923e-01,  5.3247e-02, -7.0305e-02,  2.1388e-01],\n",
      "        [ 6.7180e-02,  1.4337e-01, -8.2354e-02,  8.9644e-02],\n",
      "        [-6.6545e-03, -1.7689e-01, -7.6041e-02, -3.5355e-02],\n",
      "        [ 2.3281e-02,  1.9393e-01, -2.1941e-02,  1.0287e-01],\n",
      "        [ 1.2185e-01, -2.2729e-02,  1.5629e-02,  5.6719e-02],\n",
      "        [-6.2276e-02,  1.0608e-01,  5.9540e-02, -1.0043e-01],\n",
      "        [ 6.4646e-02,  1.6862e-01,  8.8501e-02,  6.7550e-02],\n",
      "        [-8.9091e-02,  5.7225e-02,  9.0844e-02,  1.1903e-01],\n",
      "        [-6.4247e-02,  1.5313e-02,  9.2381e-02, -2.4477e-02],\n",
      "        [-8.8507e-02, -1.4144e-02, -4.5337e-02, -8.0333e-02],\n",
      "        [ 2.2253e-01,  1.3260e-01, -7.9923e-02, -5.5710e-02],\n",
      "        [-7.1440e-02, -6.0455e-02,  7.6690e-02,  9.7358e-02],\n",
      "        [ 1.3405e-01,  1.3185e-01,  2.0449e-02,  1.6399e-01],\n",
      "        [ 1.2527e-02,  6.0342e-02, -2.4278e-02,  8.8398e-02],\n",
      "        [ 7.8690e-03,  1.3290e-01,  5.4856e-02,  1.3801e-01],\n",
      "        [-5.4811e-02,  7.6366e-02, -5.1690e-02,  2.1525e-01],\n",
      "        [-2.8178e-03, -1.2348e-01,  5.1874e-02, -1.0719e-01],\n",
      "        [ 2.9806e-02,  1.1478e-01,  9.3323e-02,  1.4374e-01],\n",
      "        [ 2.0606e-02,  6.6701e-02,  9.4790e-02, -1.7149e-01],\n",
      "        [-9.1629e-04,  4.3283e-02,  3.0484e-02, -9.6949e-02],\n",
      "        [ 4.6378e-02,  1.5709e-01, -1.5100e-01,  9.1713e-02],\n",
      "        [-6.2732e-02,  1.2874e-03, -5.4517e-02,  1.4486e-01],\n",
      "        [ 7.0157e-03,  2.8640e-02, -1.0735e-01,  1.2127e-01],\n",
      "        [-5.7446e-02,  2.7957e-02, -7.6202e-02, -2.0217e-02],\n",
      "        [ 9.6434e-03, -6.5541e-02,  6.6781e-02, -1.2132e-01],\n",
      "        [-2.6816e-02, -1.4564e-01, -1.4988e-02, -2.2671e-02],\n",
      "        [-3.5552e-02, -1.0711e-01,  1.4801e-02, -2.2704e-01],\n",
      "        [-7.9513e-02,  2.0322e-02, -5.7236e-02, -2.4114e-01],\n",
      "        [-3.5345e-02, -3.2354e-02, -1.3996e-03, -3.2000e-01],\n",
      "        [ 2.8725e-02, -2.7493e-02, -3.9959e-02, -4.8269e-02],\n",
      "        [-7.6436e-02, -1.1367e-02,  3.2515e-02, -7.8782e-02],\n",
      "        [ 4.2448e-02,  4.7946e-02,  1.8057e-02,  5.6753e-02],\n",
      "        [ 1.9986e-04, -4.3419e-02,  2.5516e-02, -7.1367e-02],\n",
      "        [ 7.2120e-03,  2.2861e-02, -1.5304e-01,  1.1860e-01],\n",
      "        [-1.4874e-01,  2.3120e-02, -6.8754e-02, -1.2655e-01],\n",
      "        [-1.7176e-01,  8.3680e-03,  3.1913e-02, -9.9787e-03],\n",
      "        [ 1.2918e-02, -1.6855e-01,  9.2636e-02, -3.4902e-02],\n",
      "        [-1.1274e-01,  2.0993e-02,  2.7364e-02,  8.6443e-02],\n",
      "        [ 7.2808e-02,  1.4700e-01, -4.1242e-02,  4.7007e-02],\n",
      "        [-4.3107e-02,  5.9486e-02, -1.5357e-01,  1.4397e-01],\n",
      "        [-1.1048e-01,  4.3034e-02, -9.3288e-02, -9.3454e-02],\n",
      "        [-4.7036e-02,  1.9807e-02, -1.1676e-01,  3.2376e-02],\n",
      "        [-7.0975e-02,  1.3115e-01, -5.7614e-03,  5.2871e-02],\n",
      "        [ 5.3050e-02, -2.3415e-02, -3.3440e-02, -1.8142e-01],\n",
      "        [-1.4894e-01,  3.5522e-02,  7.5218e-02, -1.9603e-01],\n",
      "        [ 9.3591e-04,  3.0827e-02, -4.7420e-02, -1.6762e-01],\n",
      "        [-1.5095e-01,  4.1561e-03,  9.4297e-02,  1.0694e-01],\n",
      "        [-1.1062e-02,  6.8888e-02, -5.7390e-02, -6.4574e-02],\n",
      "        [ 1.2509e-01,  9.9875e-02, -5.0330e-02, -5.1456e-02],\n",
      "        [-1.1548e-02, -1.7960e-01,  1.2442e-01, -2.0783e-01],\n",
      "        [-3.3738e-02, -1.3156e-01,  8.7723e-02, -2.0991e-01],\n",
      "        [-1.7405e-02, -2.9940e-02,  5.9438e-02, -1.5384e-01],\n",
      "        [-1.1573e-01, -6.3141e-02,  1.5863e-01,  1.3857e-01],\n",
      "        [-1.6117e-01, -1.9114e-02,  1.2606e-01,  1.0584e-01],\n",
      "        [ 7.4469e-02, -3.9662e-02, -5.2841e-02,  1.1169e-01],\n",
      "        [ 1.6648e-02, -7.0569e-02,  1.7901e-02,  1.5215e-01],\n",
      "        [ 6.3749e-02,  7.6754e-03, -1.1604e-01,  1.4054e-01],\n",
      "        [-6.3245e-02, -3.5584e-02,  8.7616e-02,  1.3721e-01],\n",
      "        [ 7.4325e-03, -1.9010e-03, -5.9382e-02, -8.4549e-02],\n",
      "        [-1.0412e-01,  2.1563e-02,  4.2194e-02,  1.1571e-01],\n",
      "        [-3.6829e-01, -1.1699e-01, -3.5959e-01, -6.8491e-02],\n",
      "        [-1.8361e-02,  7.2058e-03, -6.3637e-02, -1.0656e-01],\n",
      "        [ 6.6582e-02, -1.2862e-01,  8.2805e-03, -6.3256e-02],\n",
      "        [ 2.3836e-02,  1.0334e-02, -1.5541e-01, -4.4307e-02],\n",
      "        [ 5.9516e-02, -8.3072e-02,  1.0576e-01,  8.7964e-02],\n",
      "        [-4.5453e-02, -2.9628e-02,  8.5102e-02, -1.1952e-01],\n",
      "        [-3.6372e-01, -5.1088e-02, -1.0388e-01,  6.9853e-02],\n",
      "        [ 2.2586e-03,  5.9965e-02, -6.2739e-02, -1.4664e-01],\n",
      "        [ 1.8641e-01, -2.3831e-02,  1.5842e-01,  3.2372e-02],\n",
      "        [-2.7279e-01, -1.2025e-01,  1.5990e-01, -1.4694e-01],\n",
      "        [ 1.7259e-01, -1.0739e-01, -5.0281e-02,  5.2159e-02],\n",
      "        [ 5.6844e-02, -1.2012e-01,  3.7038e-02, -1.5656e-01],\n",
      "        [-1.9178e-01,  1.6409e-02, -5.9934e-02, -3.4033e-02],\n",
      "        [-7.8334e-02, -4.5468e-02, -5.7515e-02,  7.6465e-02],\n",
      "        [-6.5320e-04, -7.5123e-02,  4.4812e-02, -1.6247e-01],\n",
      "        [ 2.0137e-02, -3.5600e-02,  1.7794e-01,  7.3559e-02],\n",
      "        [ 8.9428e-02,  2.5664e-03, -7.6111e-02,  2.1147e-01],\n",
      "        [-4.3043e-02, -5.4892e-02,  6.4380e-03, -3.9050e-02],\n",
      "        [-1.7327e-01,  3.3686e-02, -2.7496e-02, -2.0811e-02],\n",
      "        [ 1.8575e-01, -2.6470e-02,  5.7516e-02,  2.8052e-02],\n",
      "        [-1.5057e-01, -4.8778e-03,  4.2289e-03,  6.7807e-02],\n",
      "        [ 1.3637e-01,  3.1920e-02, -2.0463e-02, -1.6279e-02],\n",
      "        [-1.9505e-01, -8.2377e-03,  2.7985e-02, -1.5614e-01],\n",
      "        [-5.6464e-02, -1.3765e-02, -2.6463e-02, -1.8046e-01],\n",
      "        [ 2.7582e-02, -4.7677e-02,  1.4467e-02, -4.5021e-02],\n",
      "        [ 6.9291e-02,  7.3012e-02, -2.3214e-02,  1.4133e-02],\n",
      "        [-6.1173e-02, -1.2040e-01,  1.6263e-02, -1.7240e-02],\n",
      "        [ 1.9259e-01,  3.2378e-02, -5.1987e-02, -2.2148e-02],\n",
      "        [-9.3916e-02,  9.8091e-02, -3.3663e-02,  8.1023e-02],\n",
      "        [-4.3490e-02,  1.3070e-02,  9.8721e-02,  1.2533e-01],\n",
      "        [-6.1014e-02, -1.1356e-02, -1.9357e-02, -3.3378e-02],\n",
      "        [ 1.8191e-01, -1.5357e-02, -2.0286e-02,  1.3720e-01],\n",
      "        [ 1.4794e-01, -1.1514e-02, -1.9672e-02, -6.8343e-02],\n",
      "        [ 3.1526e-02,  5.7456e-02,  1.5309e-02, -8.2235e-02],\n",
      "        [-8.5171e-02, -7.0486e-04, -1.2302e-01, -2.6776e-02],\n",
      "        [-5.3943e-02,  1.2026e-01, -7.0349e-02,  1.7268e-01],\n",
      "        [ 1.2390e-02,  1.1121e-01, -4.2030e-03,  1.4191e-02],\n",
      "        [ 7.9119e-02,  1.5615e-02,  6.4534e-02,  1.2302e-01],\n",
      "        [-6.1344e-02,  3.4164e-02,  4.0546e-02, -1.2732e-02],\n",
      "        [ 4.5168e-02,  4.0079e-02, -1.0220e-02, -8.1846e-02],\n",
      "        [-3.9307e-02, -2.0348e-02, -2.6599e-02,  1.1770e-01],\n",
      "        [ 4.0636e-03, -1.0715e-01, -9.4217e-02,  2.3904e-03],\n",
      "        [-1.1359e-02,  8.3337e-02,  1.0116e-01,  1.2426e-01],\n",
      "        [ 1.4686e-01,  8.4040e-02,  7.9553e-02,  4.3013e-03],\n",
      "        [ 1.9672e-01,  3.9293e-03,  2.1934e-02,  2.0015e-02],\n",
      "        [-4.4077e-03, -1.0951e-01, -1.0012e-02, -1.1204e-01],\n",
      "        [ 7.9255e-02,  1.3239e-02, -6.3120e-03,  1.8083e-01],\n",
      "        [-1.7400e-01, -4.1390e-02,  6.4860e-02, -4.0957e-02],\n",
      "        [-3.9716e-03, -3.5023e-02,  1.2239e-01,  3.4297e-02],\n",
      "        [-2.0837e-01,  4.4357e-02, -7.6410e-02, -2.1802e-02],\n",
      "        [ 1.1586e-01,  9.9712e-02,  1.6751e-01,  6.3044e-02],\n",
      "        [-1.6697e-01,  3.1034e-02, -5.4242e-02,  2.6802e-02],\n",
      "        [ 1.6900e-01,  2.7121e-02, -4.6913e-02,  2.8656e-02],\n",
      "        [-1.1295e-01, -1.5534e-05, -7.3843e-02, -1.2694e-01],\n",
      "        [-5.4488e-02, -2.6147e-02, -2.9287e-02,  6.8624e-02],\n",
      "        [-8.4400e-02, -4.7921e-02,  5.1684e-02, -8.8669e-02],\n",
      "        [-1.0395e-01, -1.0447e-04, -7.3971e-02,  1.0939e-01],\n",
      "        [ 2.7001e-03, -9.5964e-02,  6.4531e-02, -9.6309e-02],\n",
      "        [ 4.7600e-02,  3.4189e-02,  3.2047e-02,  8.1118e-02],\n",
      "        [-1.0136e-01, -1.1514e-01,  8.2433e-02,  4.0784e-03]])), ('gru.gru.weight_hh_l0', tensor([[ 0.1669,  0.0870, -0.1629,  ...,  0.0223, -0.0072,  0.1025],\n",
      "        [-0.0045,  0.2810, -0.1447,  ...,  0.1422, -0.1214, -0.0182],\n",
      "        [ 0.1743, -0.0701, -0.2807,  ...,  0.0560, -0.0118,  0.0367],\n",
      "        ...,\n",
      "        [-0.1187, -0.1092,  0.1509,  ..., -0.0847, -0.0006, -0.1587],\n",
      "        [ 0.0764,  0.0829,  0.1616,  ...,  0.0545, -0.0497,  0.1363],\n",
      "        [-0.0283, -0.1986,  0.1069,  ..., -0.0010,  0.0606, -0.1676]])), ('gru.gru.bias_ih_l0', tensor([ 0.0231, -0.1043,  0.2408,  0.0163, -0.2084, -0.0496, -0.1021, -0.3025,\n",
      "        -0.0077,  0.0969,  0.0167,  0.1649,  0.1171, -0.1631,  0.0030, -0.0884,\n",
      "        -0.0466,  0.1214, -0.0906,  0.0288, -0.1587,  0.1589,  0.0673, -0.2114,\n",
      "        -0.0488,  0.1820, -0.0193, -0.2441,  0.0176, -0.2066, -0.3458, -0.0297,\n",
      "        -0.0308, -0.0148,  0.2035, -0.2024, -0.2580,  0.2222,  0.2729,  0.2660,\n",
      "         0.3643,  0.1202, -0.0786,  0.0179, -0.1223, -0.1902,  0.0515,  0.0351,\n",
      "        -0.0106,  0.0458, -0.0176, -0.0418,  0.0454, -0.0478,  0.0558, -0.0848,\n",
      "         0.2312,  0.2005,  0.1964,  0.0134,  0.0596, -0.0714, -0.0809, -0.0135,\n",
      "        -0.0579,  0.0069,  0.0197,  0.0945, -0.1669, -0.0417,  0.2093, -0.2597,\n",
      "        -0.0971,  0.1869, -0.0536,  0.2000, -0.0093, -0.2891, -0.1553,  0.0471,\n",
      "         0.0548,  0.0099,  0.1005,  0.0778,  0.0886,  0.1733, -0.0132, -0.0345,\n",
      "         0.0902,  0.0941, -0.2235,  0.1223,  0.1551, -0.0133, -0.1647,  0.1686,\n",
      "        -0.1674,  0.0021,  0.1361, -0.2971, -0.0764,  0.0117,  0.0946, -0.0605,\n",
      "        -0.1497, -0.0157,  0.1127,  0.0221,  0.0436,  0.0547,  0.0997,  0.0059,\n",
      "         0.0693, -0.0076,  0.0192,  0.2217, -0.0990,  0.1399, -0.1251,  0.1541,\n",
      "        -0.0491,  0.1830,  0.0352,  0.0059,  0.0968, -0.0148,  0.0428,  0.0464,\n",
      "         0.0814,  0.0574, -0.1015, -0.0726,  0.1783,  0.0787,  0.0795, -0.1529,\n",
      "         0.0411, -0.0779, -0.0597, -0.0221,  0.0131, -0.1251, -0.0567, -0.0098,\n",
      "        -0.0972, -0.1556,  0.0507, -0.0485,  0.0430,  0.0206])), ('gru.gru.bias_hh_l0', tensor([-0.0741, -0.0586,  0.0047,  0.1949, -0.1860,  0.0612, -0.1367, -0.2418,\n",
      "         0.0106, -0.0093,  0.0310,  0.1299,  0.2394, -0.1500, -0.0110, -0.0024,\n",
      "         0.0040,  0.0016, -0.1089, -0.1051,  0.0191,  0.0186,  0.1564, -0.3148,\n",
      "         0.1453,  0.1231, -0.0959, -0.2936, -0.0331, -0.3543, -0.3509, -0.0978,\n",
      "         0.0431, -0.0016,  0.2945, -0.0543, -0.0522,  0.0819,  0.1329,  0.2284,\n",
      "         0.3418,  0.2363,  0.0502,  0.1593, -0.1531, -0.2751,  0.1397, -0.1830,\n",
      "         0.1780,  0.0041, -0.0109,  0.0484,  0.0851, -0.0695,  0.1807, -0.0564,\n",
      "         0.1693,  0.1907,  0.2426, -0.0500,  0.0976, -0.2435,  0.0713,  0.0341,\n",
      "        -0.0936,  0.0755,  0.0751, -0.0148, -0.0190,  0.1658,  0.1259, -0.2716,\n",
      "        -0.2037, -0.0107, -0.0115, -0.0212, -0.0478, -0.3035, -0.0891,  0.2189,\n",
      "         0.1824,  0.1095,  0.1037, -0.1438, -0.0332,  0.2362, -0.0192, -0.1492,\n",
      "        -0.0084, -0.1570, -0.1842,  0.1324,  0.0722,  0.0544, -0.0158,  0.0062,\n",
      "        -0.3108,  0.1308,  0.1496, -0.3923,  0.1309, -0.1122, -0.0845, -0.0123,\n",
      "         0.0558,  0.0654,  0.1264,  0.0097, -0.0669,  0.0257,  0.0380, -0.0490,\n",
      "         0.0522, -0.0167, -0.1273,  0.1975, -0.1846,  0.0824, -0.1653,  0.0255,\n",
      "         0.0179,  0.0929,  0.1859, -0.0491,  0.0026,  0.0932, -0.0885, -0.0174,\n",
      "         0.0806,  0.0734, -0.1066, -0.0894,  0.1208,  0.0724,  0.0394,  0.0287,\n",
      "         0.1252, -0.0765,  0.1479, -0.0417,  0.1383, -0.1615,  0.0354, -0.0259,\n",
      "         0.0389,  0.0063,  0.0104, -0.1376,  0.0642, -0.2196])), ('linear.weight', tensor([[-0.0779, -0.4769, -0.4361, -0.4298, -0.3978, -0.1075, -0.4281,  0.4139,\n",
      "         -0.4818,  0.5073, -0.4459, -0.4582,  0.4122, -0.4215,  0.4615, -0.4163,\n",
      "          0.4044, -0.3987, -0.4100, -0.2563, -0.2791,  0.4318, -0.3949,  0.3775,\n",
      "         -0.3576, -0.1081, -0.0699, -0.4951, -0.5427, -0.3695,  0.4502, -0.4869,\n",
      "         -0.5124, -0.4853, -0.3122, -0.0355, -0.4439, -0.3833,  0.4029,  0.3490,\n",
      "         -0.4899,  0.4434,  0.4342, -0.4008, -0.3933, -0.3417, -0.4343,  0.3840,\n",
      "         -0.2717, -0.1349,  0.0906, -0.4134, -0.4232, -0.3094, -0.3686,  0.4158,\n",
      "          0.4002, -0.3759, -0.3726,  0.3737, -0.3504,  0.4063, -0.4223, -0.4450,\n",
      "         -0.3910,  0.3841, -0.4227,  0.3277, -0.1966,  0.4341, -0.3996,  0.3826,\n",
      "          0.1445, -0.3443, -0.4335,  0.3500,  0.4226,  0.3834,  0.0229,  0.3578,\n",
      "         -0.3272, -0.3300,  0.3644,  0.3657,  0.4006, -0.4024,  0.3821, -0.3842,\n",
      "          0.3644, -0.3963,  0.3230, -0.3382,  0.3603, -0.4282, -0.3702, -0.3892,\n",
      "         -0.3788, -0.3958, -0.0366, -0.3655]])), ('linear.bias', tensor([0.2329]))])\n"
     ]
    },
    {
     "ename": "AttributeError",
     "evalue": "'collections.OrderedDict' object has no attribute 'to'",
     "output_type": "error",
     "traceback": [
      "\u001b[1;31m---------------------------------------------------------------------------\u001b[0m",
      "\u001b[1;31mAttributeError\u001b[0m                            Traceback (most recent call last)",
      "Cell \u001b[1;32mIn[15], line 3\u001b[0m\n\u001b[0;32m      1\u001b[0m model \u001b[38;5;241m=\u001b[39m torch\u001b[38;5;241m.\u001b[39mload(\u001b[38;5;124m'\u001b[39m\u001b[38;5;124mbest_model.pt\u001b[39m\u001b[38;5;124m'\u001b[39m, weights_only\u001b[38;5;241m=\u001b[39m\u001b[38;5;28;01mFalse\u001b[39;00m)\n\u001b[0;32m      2\u001b[0m \u001b[38;5;28mprint\u001b[39m(model)\n\u001b[1;32m----> 3\u001b[0m tester \u001b[38;5;241m=\u001b[39m \u001b[43mTester\u001b[49m\u001b[43m(\u001b[49m\u001b[43mmodel\u001b[49m\u001b[38;5;241;43m=\u001b[39;49m\u001b[43mmodel\u001b[49m\u001b[43m,\u001b[49m\u001b[43m \u001b[49m\u001b[43mloss_fn\u001b[49m\u001b[38;5;241;43m=\u001b[39;49m\u001b[43mloss_fn\u001b[49m\u001b[43m,\u001b[49m\u001b[43m \u001b[49m\u001b[43mdevice\u001b[49m\u001b[38;5;241;43m=\u001b[39;49m\u001b[43mdevice\u001b[49m\u001b[43m)\u001b[49m\n\u001b[0;32m      4\u001b[0m metrics \u001b[38;5;241m=\u001b[39m tester\u001b[38;5;241m.\u001b[39mevaluate(dataloader \u001b[38;5;241m=\u001b[39m test_loader)\n\u001b[0;32m      5\u001b[0m metrics\n",
      "File \u001b[1;32md:\\Programacion\\Multibranch-TimeSeries-NN\\helpers\\Tester.py:35\u001b[0m, in \u001b[0;36mTester.__init__\u001b[1;34m(self, model, loss_fn, device)\u001b[0m\n\u001b[0;32m     32\u001b[0m \u001b[38;5;28mself\u001b[39m\u001b[38;5;241m.\u001b[39mloss_fn: nn\u001b[38;5;241m.\u001b[39mModule \u001b[38;5;241m=\u001b[39m loss_fn\n\u001b[0;32m     33\u001b[0m \u001b[38;5;28mself\u001b[39m\u001b[38;5;241m.\u001b[39mdevice: torch\u001b[38;5;241m.\u001b[39mdevice \u001b[38;5;241m=\u001b[39m device\n\u001b[1;32m---> 35\u001b[0m \u001b[38;5;28;43mself\u001b[39;49m\u001b[38;5;241;43m.\u001b[39;49m\u001b[43mmodel\u001b[49m\u001b[38;5;241;43m.\u001b[39;49m\u001b[43mto\u001b[49m(\u001b[38;5;28mself\u001b[39m\u001b[38;5;241m.\u001b[39mdevice)\n\u001b[0;32m     36\u001b[0m \u001b[38;5;28mself\u001b[39m\u001b[38;5;241m.\u001b[39mmodel\u001b[38;5;241m.\u001b[39meval()\n",
      "\u001b[1;31mAttributeError\u001b[0m: 'collections.OrderedDict' object has no attribute 'to'"
     ]
    }
   ],
   "source": [
    "model = MultiBranchModel()\n",
    "model.load_state_dict(torch.load('best_model.pt', weights_only=False))\n",
    "print(model)\n",
    "tester = Tester(model=model, loss_fn=loss_fn, device=device)\n",
    "metrics = tester.evaluate(dataloader = test_loader)\n",
    "metrics"
   ]
  }
 ],
 "metadata": {
  "kernelspec": {
   "display_name": "multibranch-ts-nn",
   "language": "python",
   "name": "multibranch-ts-nn"
  },
  "language_info": {
   "codemirror_mode": {
    "name": "ipython",
    "version": 3
   },
   "file_extension": ".py",
   "mimetype": "text/x-python",
   "name": "python",
   "nbconvert_exporter": "python",
   "pygments_lexer": "ipython3",
   "version": "3.10.18"
  }
 },
 "nbformat": 4,
 "nbformat_minor": 5
}
